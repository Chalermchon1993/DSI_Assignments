{
 "cells": [
  {
   "cell_type": "markdown",
   "id": "3de8dfbc-045e-4bdc-bcb7-70ade09cc205",
   "metadata": {
    "tags": []
   },
   "source": [
    "<img src=\"http://imgur.com/1ZcRyrc.png\" style=\"float: left; margin: 20px; height: 55px\">\n",
    "\n",
    "# DBSCAN vs. K-Means\n",
    "\n",
    "_Author: Katie Sylvia_\n",
    " \n",
    " In **Unsupervised Learning** we have different type of algorithms such as:\n",
    " \n",
    "1. Clustering\n",
    "2. PCA\n",
    "2. Association Rules\n",
    "3. Recommendation Engines\n",
    "\n",
    "\n",
    "In **Clustering** we have talked about:\n",
    "1. K-Means Clustering\n",
    "2. DBSCAN Clustering\n",
    "\n",
    "In this notebook, we will mainly discuss *DBSCAN Clustering*\n",
    "\n",
    "As you recall from yesterday, there are some disadvantages in K-Means Clustering. Among them are that K-Means is sensitive to outliers and does not perform well with non-spherical shapes of clusters.\n",
    "   \n",
    "   To deal with this we have *Density Based Spatial Clustering (DBSCAN)*:\n",
    "   \n",
    "     - It is mainly used to find outliers and to deal with non-spherical data\n",
    "     - Clustering is mainly done based on density of data points (where more number of data points are present).\n"
   ]
  },
  {
   "cell_type": "code",
   "execution_count": 1,
   "id": "aa6699bd-c785-4157-81e4-ef5cd2967d76",
   "metadata": {},
   "outputs": [],
   "source": [
    "# Something new to install...\n",
    "#! pip install plotly"
   ]
  },
  {
   "cell_type": "code",
   "execution_count": 2,
   "id": "a60e2da2-795e-40c3-a3b8-19ad8bfebb5b",
   "metadata": {},
   "outputs": [],
   "source": [
    "# Standard imports\n",
    "import numpy as np\n",
    "import pandas as pd\n",
    "import matplotlib.pyplot as plt\n",
    "import seaborn as sns\n",
    "\n",
    "import warnings\n",
    "\n",
    "# Something new to import...\n",
    "import plotly.express as px\n",
    "\n",
    "# Imports from sklearn\n",
    "from sklearn.preprocessing import StandardScaler\n",
    "from sklearn.metrics import silhouette_score\n",
    "from sklearn.cluster import DBSCAN, KMeans\n",
    "from sklearn.model_selection import GridSearchCV\n",
    "\n",
    "# Setting formatting of floats to be five places past the decimal\n",
    "pd.options.display.float_format = '{:.5f}'.format"
   ]
  },
  {
   "cell_type": "markdown",
   "id": "4498344e-2bb1-43ec-a41a-3659a9db7ac5",
   "metadata": {},
   "source": [
    "### I. Get Data Ready"
   ]
  },
  {
   "cell_type": "code",
   "execution_count": 3,
   "id": "353dc588-c274-4d83-afcc-643f63e5e169",
   "metadata": {},
   "outputs": [],
   "source": [
    "# From Plotly, we'll import the Gapminder data\n",
    "df = px.data.gapminder()"
   ]
  },
  {
   "cell_type": "code",
   "execution_count": 4,
   "id": "56f7b246-3072-4b78-a045-2bdf64be6515",
   "metadata": {},
   "outputs": [
    {
     "data": {
      "text/html": [
       "<div>\n",
       "<style scoped>\n",
       "    .dataframe tbody tr th:only-of-type {\n",
       "        vertical-align: middle;\n",
       "    }\n",
       "\n",
       "    .dataframe tbody tr th {\n",
       "        vertical-align: top;\n",
       "    }\n",
       "\n",
       "    .dataframe thead th {\n",
       "        text-align: right;\n",
       "    }\n",
       "</style>\n",
       "<table border=\"1\" class=\"dataframe\">\n",
       "  <thead>\n",
       "    <tr style=\"text-align: right;\">\n",
       "      <th></th>\n",
       "      <th>country</th>\n",
       "      <th>continent</th>\n",
       "      <th>year</th>\n",
       "      <th>lifeExp</th>\n",
       "      <th>pop</th>\n",
       "      <th>gdpPercap</th>\n",
       "      <th>iso_alpha</th>\n",
       "      <th>iso_num</th>\n",
       "    </tr>\n",
       "  </thead>\n",
       "  <tbody>\n",
       "    <tr>\n",
       "      <th>0</th>\n",
       "      <td>Afghanistan</td>\n",
       "      <td>Asia</td>\n",
       "      <td>1952</td>\n",
       "      <td>28.80100</td>\n",
       "      <td>8425333</td>\n",
       "      <td>779.44531</td>\n",
       "      <td>AFG</td>\n",
       "      <td>4</td>\n",
       "    </tr>\n",
       "    <tr>\n",
       "      <th>1</th>\n",
       "      <td>Afghanistan</td>\n",
       "      <td>Asia</td>\n",
       "      <td>1957</td>\n",
       "      <td>30.33200</td>\n",
       "      <td>9240934</td>\n",
       "      <td>820.85303</td>\n",
       "      <td>AFG</td>\n",
       "      <td>4</td>\n",
       "    </tr>\n",
       "    <tr>\n",
       "      <th>2</th>\n",
       "      <td>Afghanistan</td>\n",
       "      <td>Asia</td>\n",
       "      <td>1962</td>\n",
       "      <td>31.99700</td>\n",
       "      <td>10267083</td>\n",
       "      <td>853.10071</td>\n",
       "      <td>AFG</td>\n",
       "      <td>4</td>\n",
       "    </tr>\n",
       "    <tr>\n",
       "      <th>3</th>\n",
       "      <td>Afghanistan</td>\n",
       "      <td>Asia</td>\n",
       "      <td>1967</td>\n",
       "      <td>34.02000</td>\n",
       "      <td>11537966</td>\n",
       "      <td>836.19714</td>\n",
       "      <td>AFG</td>\n",
       "      <td>4</td>\n",
       "    </tr>\n",
       "    <tr>\n",
       "      <th>4</th>\n",
       "      <td>Afghanistan</td>\n",
       "      <td>Asia</td>\n",
       "      <td>1972</td>\n",
       "      <td>36.08800</td>\n",
       "      <td>13079460</td>\n",
       "      <td>739.98111</td>\n",
       "      <td>AFG</td>\n",
       "      <td>4</td>\n",
       "    </tr>\n",
       "  </tbody>\n",
       "</table>\n",
       "</div>"
      ],
      "text/plain": [
       "       country continent  year  lifeExp       pop  gdpPercap iso_alpha  \\\n",
       "0  Afghanistan      Asia  1952 28.80100   8425333  779.44531       AFG   \n",
       "1  Afghanistan      Asia  1957 30.33200   9240934  820.85303       AFG   \n",
       "2  Afghanistan      Asia  1962 31.99700  10267083  853.10071       AFG   \n",
       "3  Afghanistan      Asia  1967 34.02000  11537966  836.19714       AFG   \n",
       "4  Afghanistan      Asia  1972 36.08800  13079460  739.98111       AFG   \n",
       "\n",
       "   iso_num  \n",
       "0        4  \n",
       "1        4  \n",
       "2        4  \n",
       "3        4  \n",
       "4        4  "
      ]
     },
     "execution_count": 4,
     "metadata": {},
     "output_type": "execute_result"
    }
   ],
   "source": [
    "# Head\n",
    "df.head()"
   ]
  },
  {
   "cell_type": "code",
   "execution_count": 5,
   "id": "5ffe9891-45cb-4226-8387-6ce796b31d46",
   "metadata": {},
   "outputs": [
    {
     "name": "stdout",
     "output_type": "stream",
     "text": [
      "<class 'pandas.core.frame.DataFrame'>\n",
      "RangeIndex: 1704 entries, 0 to 1703\n",
      "Data columns (total 8 columns):\n",
      " #   Column     Non-Null Count  Dtype  \n",
      "---  ------     --------------  -----  \n",
      " 0   country    1704 non-null   object \n",
      " 1   continent  1704 non-null   object \n",
      " 2   year       1704 non-null   int64  \n",
      " 3   lifeExp    1704 non-null   float64\n",
      " 4   pop        1704 non-null   int64  \n",
      " 5   gdpPercap  1704 non-null   float64\n",
      " 6   iso_alpha  1704 non-null   object \n",
      " 7   iso_num    1704 non-null   int64  \n",
      "dtypes: float64(2), int64(3), object(3)\n",
      "memory usage: 106.6+ KB\n"
     ]
    }
   ],
   "source": [
    "# Info\n",
    "df.info()"
   ]
  },
  {
   "cell_type": "code",
   "execution_count": 6,
   "id": "3ef6aacd-6b19-41fa-b19b-bf5489a8e6b1",
   "metadata": {},
   "outputs": [
    {
     "data": {
      "text/plain": [
       "country      0\n",
       "continent    0\n",
       "year         0\n",
       "lifeExp      0\n",
       "pop          0\n",
       "gdpPercap    0\n",
       "iso_alpha    0\n",
       "iso_num      0\n",
       "dtype: int64"
      ]
     },
     "execution_count": 6,
     "metadata": {},
     "output_type": "execute_result"
    }
   ],
   "source": [
    "# Nulls\n",
    "df.isnull().sum()"
   ]
  },
  {
   "cell_type": "code",
   "execution_count": 7,
   "id": "787231e9-d368-4778-91c3-bda3a45a9a50",
   "metadata": {},
   "outputs": [
    {
     "data": {
      "text/html": [
       "<div>\n",
       "<style scoped>\n",
       "    .dataframe tbody tr th:only-of-type {\n",
       "        vertical-align: middle;\n",
       "    }\n",
       "\n",
       "    .dataframe tbody tr th {\n",
       "        vertical-align: top;\n",
       "    }\n",
       "\n",
       "    .dataframe thead th {\n",
       "        text-align: right;\n",
       "    }\n",
       "</style>\n",
       "<table border=\"1\" class=\"dataframe\">\n",
       "  <thead>\n",
       "    <tr style=\"text-align: right;\">\n",
       "      <th></th>\n",
       "      <th>year</th>\n",
       "      <th>lifeExp</th>\n",
       "      <th>pop</th>\n",
       "      <th>gdpPercap</th>\n",
       "      <th>iso_num</th>\n",
       "    </tr>\n",
       "  </thead>\n",
       "  <tbody>\n",
       "    <tr>\n",
       "      <th>count</th>\n",
       "      <td>1704.00000</td>\n",
       "      <td>1704.00000</td>\n",
       "      <td>1704.00000</td>\n",
       "      <td>1704.00000</td>\n",
       "      <td>1704.00000</td>\n",
       "    </tr>\n",
       "    <tr>\n",
       "      <th>mean</th>\n",
       "      <td>1979.50000</td>\n",
       "      <td>59.47444</td>\n",
       "      <td>29601212.32453</td>\n",
       "      <td>7215.32708</td>\n",
       "      <td>425.88028</td>\n",
       "    </tr>\n",
       "    <tr>\n",
       "      <th>std</th>\n",
       "      <td>17.26533</td>\n",
       "      <td>12.91711</td>\n",
       "      <td>106157896.74391</td>\n",
       "      <td>9857.45454</td>\n",
       "      <td>248.30571</td>\n",
       "    </tr>\n",
       "    <tr>\n",
       "      <th>min</th>\n",
       "      <td>1952.00000</td>\n",
       "      <td>23.59900</td>\n",
       "      <td>60011.00000</td>\n",
       "      <td>241.16588</td>\n",
       "      <td>4.00000</td>\n",
       "    </tr>\n",
       "    <tr>\n",
       "      <th>25%</th>\n",
       "      <td>1965.75000</td>\n",
       "      <td>48.19800</td>\n",
       "      <td>2793664.00000</td>\n",
       "      <td>1202.06031</td>\n",
       "      <td>208.00000</td>\n",
       "    </tr>\n",
       "    <tr>\n",
       "      <th>50%</th>\n",
       "      <td>1979.50000</td>\n",
       "      <td>60.71250</td>\n",
       "      <td>7023595.50000</td>\n",
       "      <td>3531.84699</td>\n",
       "      <td>410.00000</td>\n",
       "    </tr>\n",
       "    <tr>\n",
       "      <th>75%</th>\n",
       "      <td>1993.25000</td>\n",
       "      <td>70.84550</td>\n",
       "      <td>19585221.75000</td>\n",
       "      <td>9325.46235</td>\n",
       "      <td>638.00000</td>\n",
       "    </tr>\n",
       "    <tr>\n",
       "      <th>max</th>\n",
       "      <td>2007.00000</td>\n",
       "      <td>82.60300</td>\n",
       "      <td>1318683096.00000</td>\n",
       "      <td>113523.13290</td>\n",
       "      <td>894.00000</td>\n",
       "    </tr>\n",
       "  </tbody>\n",
       "</table>\n",
       "</div>"
      ],
      "text/plain": [
       "            year    lifeExp              pop    gdpPercap    iso_num\n",
       "count 1704.00000 1704.00000       1704.00000   1704.00000 1704.00000\n",
       "mean  1979.50000   59.47444   29601212.32453   7215.32708  425.88028\n",
       "std     17.26533   12.91711  106157896.74391   9857.45454  248.30571\n",
       "min   1952.00000   23.59900      60011.00000    241.16588    4.00000\n",
       "25%   1965.75000   48.19800    2793664.00000   1202.06031  208.00000\n",
       "50%   1979.50000   60.71250    7023595.50000   3531.84699  410.00000\n",
       "75%   1993.25000   70.84550   19585221.75000   9325.46235  638.00000\n",
       "max   2007.00000   82.60300 1318683096.00000 113523.13290  894.00000"
      ]
     },
     "execution_count": 7,
     "metadata": {},
     "output_type": "execute_result"
    }
   ],
   "source": [
    "# Filter Data to Most Recent Year\n",
    "df.describe()\n",
    "# Most recent year is 2007"
   ]
  },
  {
   "cell_type": "code",
   "execution_count": 8,
   "id": "49be03b7-27b7-4815-b0e1-e74dd5f35b98",
   "metadata": {},
   "outputs": [],
   "source": [
    "df = df[df['year'] == 2007]"
   ]
  },
  {
   "cell_type": "code",
   "execution_count": 9,
   "id": "48d301e1-76b2-4326-9737-4218924e66df",
   "metadata": {},
   "outputs": [
    {
     "data": {
      "text/html": [
       "<div>\n",
       "<style scoped>\n",
       "    .dataframe tbody tr th:only-of-type {\n",
       "        vertical-align: middle;\n",
       "    }\n",
       "\n",
       "    .dataframe tbody tr th {\n",
       "        vertical-align: top;\n",
       "    }\n",
       "\n",
       "    .dataframe thead th {\n",
       "        text-align: right;\n",
       "    }\n",
       "</style>\n",
       "<table border=\"1\" class=\"dataframe\">\n",
       "  <thead>\n",
       "    <tr style=\"text-align: right;\">\n",
       "      <th></th>\n",
       "      <th>country</th>\n",
       "      <th>continent</th>\n",
       "      <th>year</th>\n",
       "      <th>lifeExp</th>\n",
       "      <th>pop</th>\n",
       "      <th>gdpPercap</th>\n",
       "      <th>iso_alpha</th>\n",
       "      <th>iso_num</th>\n",
       "    </tr>\n",
       "  </thead>\n",
       "  <tbody>\n",
       "    <tr>\n",
       "      <th>11</th>\n",
       "      <td>Afghanistan</td>\n",
       "      <td>Asia</td>\n",
       "      <td>2007</td>\n",
       "      <td>43.82800</td>\n",
       "      <td>31889923</td>\n",
       "      <td>974.58034</td>\n",
       "      <td>AFG</td>\n",
       "      <td>4</td>\n",
       "    </tr>\n",
       "    <tr>\n",
       "      <th>23</th>\n",
       "      <td>Albania</td>\n",
       "      <td>Europe</td>\n",
       "      <td>2007</td>\n",
       "      <td>76.42300</td>\n",
       "      <td>3600523</td>\n",
       "      <td>5937.02953</td>\n",
       "      <td>ALB</td>\n",
       "      <td>8</td>\n",
       "    </tr>\n",
       "    <tr>\n",
       "      <th>35</th>\n",
       "      <td>Algeria</td>\n",
       "      <td>Africa</td>\n",
       "      <td>2007</td>\n",
       "      <td>72.30100</td>\n",
       "      <td>33333216</td>\n",
       "      <td>6223.36747</td>\n",
       "      <td>DZA</td>\n",
       "      <td>12</td>\n",
       "    </tr>\n",
       "    <tr>\n",
       "      <th>47</th>\n",
       "      <td>Angola</td>\n",
       "      <td>Africa</td>\n",
       "      <td>2007</td>\n",
       "      <td>42.73100</td>\n",
       "      <td>12420476</td>\n",
       "      <td>4797.23127</td>\n",
       "      <td>AGO</td>\n",
       "      <td>24</td>\n",
       "    </tr>\n",
       "    <tr>\n",
       "      <th>59</th>\n",
       "      <td>Argentina</td>\n",
       "      <td>Americas</td>\n",
       "      <td>2007</td>\n",
       "      <td>75.32000</td>\n",
       "      <td>40301927</td>\n",
       "      <td>12779.37964</td>\n",
       "      <td>ARG</td>\n",
       "      <td>32</td>\n",
       "    </tr>\n",
       "  </tbody>\n",
       "</table>\n",
       "</div>"
      ],
      "text/plain": [
       "        country continent  year  lifeExp       pop   gdpPercap iso_alpha  \\\n",
       "11  Afghanistan      Asia  2007 43.82800  31889923   974.58034       AFG   \n",
       "23      Albania    Europe  2007 76.42300   3600523  5937.02953       ALB   \n",
       "35      Algeria    Africa  2007 72.30100  33333216  6223.36747       DZA   \n",
       "47       Angola    Africa  2007 42.73100  12420476  4797.23127       AGO   \n",
       "59    Argentina  Americas  2007 75.32000  40301927 12779.37964       ARG   \n",
       "\n",
       "    iso_num  \n",
       "11        4  \n",
       "23        8  \n",
       "35       12  \n",
       "47       24  \n",
       "59       32  "
      ]
     },
     "execution_count": 9,
     "metadata": {},
     "output_type": "execute_result"
    }
   ],
   "source": [
    "df.head()"
   ]
  },
  {
   "cell_type": "code",
   "execution_count": 10,
   "id": "83d53ed9-4cf2-466a-bc09-6ffe0782e245",
   "metadata": {},
   "outputs": [],
   "source": [
    "# Set Country to Index\n",
    "df.set_index('country', inplace=True)"
   ]
  },
  {
   "cell_type": "code",
   "execution_count": 11,
   "id": "a7285db9-f65b-4387-a697-8751430b1e99",
   "metadata": {},
   "outputs": [],
   "source": [
    "# Drop `iso_alpha`, `year`, and `iso_num`\n",
    "df.drop(columns=['iso_alpha', 'year', 'iso_num'], inplace=True)"
   ]
  },
  {
   "cell_type": "code",
   "execution_count": 12,
   "id": "ce4c7348-de57-4714-936b-572b394c6425",
   "metadata": {},
   "outputs": [
    {
     "data": {
      "text/html": [
       "<div>\n",
       "<style scoped>\n",
       "    .dataframe tbody tr th:only-of-type {\n",
       "        vertical-align: middle;\n",
       "    }\n",
       "\n",
       "    .dataframe tbody tr th {\n",
       "        vertical-align: top;\n",
       "    }\n",
       "\n",
       "    .dataframe thead th {\n",
       "        text-align: right;\n",
       "    }\n",
       "</style>\n",
       "<table border=\"1\" class=\"dataframe\">\n",
       "  <thead>\n",
       "    <tr style=\"text-align: right;\">\n",
       "      <th></th>\n",
       "      <th>lifeExp</th>\n",
       "      <th>pop</th>\n",
       "      <th>gdpPercap</th>\n",
       "    </tr>\n",
       "    <tr>\n",
       "      <th>continent</th>\n",
       "      <th></th>\n",
       "      <th></th>\n",
       "      <th></th>\n",
       "    </tr>\n",
       "  </thead>\n",
       "  <tbody>\n",
       "    <tr>\n",
       "      <th>Africa</th>\n",
       "      <td>52</td>\n",
       "      <td>52</td>\n",
       "      <td>52</td>\n",
       "    </tr>\n",
       "    <tr>\n",
       "      <th>Americas</th>\n",
       "      <td>25</td>\n",
       "      <td>25</td>\n",
       "      <td>25</td>\n",
       "    </tr>\n",
       "    <tr>\n",
       "      <th>Asia</th>\n",
       "      <td>33</td>\n",
       "      <td>33</td>\n",
       "      <td>33</td>\n",
       "    </tr>\n",
       "    <tr>\n",
       "      <th>Europe</th>\n",
       "      <td>30</td>\n",
       "      <td>30</td>\n",
       "      <td>30</td>\n",
       "    </tr>\n",
       "    <tr>\n",
       "      <th>Oceania</th>\n",
       "      <td>2</td>\n",
       "      <td>2</td>\n",
       "      <td>2</td>\n",
       "    </tr>\n",
       "  </tbody>\n",
       "</table>\n",
       "</div>"
      ],
      "text/plain": [
       "           lifeExp  pop  gdpPercap\n",
       "continent                         \n",
       "Africa          52   52         52\n",
       "Americas        25   25         25\n",
       "Asia            33   33         33\n",
       "Europe          30   30         30\n",
       "Oceania          2    2          2"
      ]
     },
     "execution_count": 12,
     "metadata": {},
     "output_type": "execute_result"
    }
   ],
   "source": [
    "# How many countries in each continent?\n",
    "df.groupby('continent').count()\n",
    "\n",
    "# There are 5 continents.\n",
    "# Number of countries in each continent is down below."
   ]
  },
  {
   "cell_type": "code",
   "execution_count": 13,
   "id": "bbe65899-c2aa-4c88-ba8b-4a65a2816b05",
   "metadata": {},
   "outputs": [
    {
     "data": {
      "text/html": [
       "<div>\n",
       "<style scoped>\n",
       "    .dataframe tbody tr th:only-of-type {\n",
       "        vertical-align: middle;\n",
       "    }\n",
       "\n",
       "    .dataframe tbody tr th {\n",
       "        vertical-align: top;\n",
       "    }\n",
       "\n",
       "    .dataframe thead th {\n",
       "        text-align: right;\n",
       "    }\n",
       "</style>\n",
       "<table border=\"1\" class=\"dataframe\">\n",
       "  <thead>\n",
       "    <tr style=\"text-align: right;\">\n",
       "      <th></th>\n",
       "      <th>continent</th>\n",
       "      <th>lifeExp</th>\n",
       "      <th>pop</th>\n",
       "      <th>gdpPercap</th>\n",
       "    </tr>\n",
       "    <tr>\n",
       "      <th>country</th>\n",
       "      <th></th>\n",
       "      <th></th>\n",
       "      <th></th>\n",
       "      <th></th>\n",
       "    </tr>\n",
       "  </thead>\n",
       "  <tbody>\n",
       "    <tr>\n",
       "      <th>Afghanistan</th>\n",
       "      <td>Asia</td>\n",
       "      <td>43.82800</td>\n",
       "      <td>31889923</td>\n",
       "      <td>974.58034</td>\n",
       "    </tr>\n",
       "    <tr>\n",
       "      <th>Albania</th>\n",
       "      <td>Europe</td>\n",
       "      <td>76.42300</td>\n",
       "      <td>3600523</td>\n",
       "      <td>5937.02953</td>\n",
       "    </tr>\n",
       "    <tr>\n",
       "      <th>Algeria</th>\n",
       "      <td>Africa</td>\n",
       "      <td>72.30100</td>\n",
       "      <td>33333216</td>\n",
       "      <td>6223.36747</td>\n",
       "    </tr>\n",
       "    <tr>\n",
       "      <th>Angola</th>\n",
       "      <td>Africa</td>\n",
       "      <td>42.73100</td>\n",
       "      <td>12420476</td>\n",
       "      <td>4797.23127</td>\n",
       "    </tr>\n",
       "    <tr>\n",
       "      <th>Argentina</th>\n",
       "      <td>Americas</td>\n",
       "      <td>75.32000</td>\n",
       "      <td>40301927</td>\n",
       "      <td>12779.37964</td>\n",
       "    </tr>\n",
       "    <tr>\n",
       "      <th>...</th>\n",
       "      <td>...</td>\n",
       "      <td>...</td>\n",
       "      <td>...</td>\n",
       "      <td>...</td>\n",
       "    </tr>\n",
       "    <tr>\n",
       "      <th>Vietnam</th>\n",
       "      <td>Asia</td>\n",
       "      <td>74.24900</td>\n",
       "      <td>85262356</td>\n",
       "      <td>2441.57640</td>\n",
       "    </tr>\n",
       "    <tr>\n",
       "      <th>West Bank and Gaza</th>\n",
       "      <td>Asia</td>\n",
       "      <td>73.42200</td>\n",
       "      <td>4018332</td>\n",
       "      <td>3025.34980</td>\n",
       "    </tr>\n",
       "    <tr>\n",
       "      <th>Yemen, Rep.</th>\n",
       "      <td>Asia</td>\n",
       "      <td>62.69800</td>\n",
       "      <td>22211743</td>\n",
       "      <td>2280.76991</td>\n",
       "    </tr>\n",
       "    <tr>\n",
       "      <th>Zambia</th>\n",
       "      <td>Africa</td>\n",
       "      <td>42.38400</td>\n",
       "      <td>11746035</td>\n",
       "      <td>1271.21159</td>\n",
       "    </tr>\n",
       "    <tr>\n",
       "      <th>Zimbabwe</th>\n",
       "      <td>Africa</td>\n",
       "      <td>43.48700</td>\n",
       "      <td>12311143</td>\n",
       "      <td>469.70930</td>\n",
       "    </tr>\n",
       "  </tbody>\n",
       "</table>\n",
       "<p>142 rows × 4 columns</p>\n",
       "</div>"
      ],
      "text/plain": [
       "                   continent  lifeExp       pop   gdpPercap\n",
       "country                                                    \n",
       "Afghanistan             Asia 43.82800  31889923   974.58034\n",
       "Albania               Europe 76.42300   3600523  5937.02953\n",
       "Algeria               Africa 72.30100  33333216  6223.36747\n",
       "Angola                Africa 42.73100  12420476  4797.23127\n",
       "Argentina           Americas 75.32000  40301927 12779.37964\n",
       "...                      ...      ...       ...         ...\n",
       "Vietnam                 Asia 74.24900  85262356  2441.57640\n",
       "West Bank and Gaza      Asia 73.42200   4018332  3025.34980\n",
       "Yemen, Rep.             Asia 62.69800  22211743  2280.76991\n",
       "Zambia                Africa 42.38400  11746035  1271.21159\n",
       "Zimbabwe              Africa 43.48700  12311143   469.70930\n",
       "\n",
       "[142 rows x 4 columns]"
      ]
     },
     "execution_count": 13,
     "metadata": {},
     "output_type": "execute_result"
    }
   ],
   "source": [
    "df"
   ]
  },
  {
   "cell_type": "code",
   "execution_count": 14,
   "id": "0da0c91c-ca5b-4da3-a72e-ce8b123403b2",
   "metadata": {},
   "outputs": [],
   "source": [
    "# Get dummies!\n",
    "df = pd.get_dummies(df)"
   ]
  },
  {
   "cell_type": "code",
   "execution_count": 15,
   "id": "cc70ce22-0bde-4584-8eff-55ee8723625b",
   "metadata": {},
   "outputs": [
    {
     "data": {
      "text/html": [
       "<div>\n",
       "<style scoped>\n",
       "    .dataframe tbody tr th:only-of-type {\n",
       "        vertical-align: middle;\n",
       "    }\n",
       "\n",
       "    .dataframe tbody tr th {\n",
       "        vertical-align: top;\n",
       "    }\n",
       "\n",
       "    .dataframe thead th {\n",
       "        text-align: right;\n",
       "    }\n",
       "</style>\n",
       "<table border=\"1\" class=\"dataframe\">\n",
       "  <thead>\n",
       "    <tr style=\"text-align: right;\">\n",
       "      <th></th>\n",
       "      <th>lifeExp</th>\n",
       "      <th>pop</th>\n",
       "      <th>gdpPercap</th>\n",
       "      <th>continent_Africa</th>\n",
       "      <th>continent_Americas</th>\n",
       "      <th>continent_Asia</th>\n",
       "      <th>continent_Europe</th>\n",
       "      <th>continent_Oceania</th>\n",
       "    </tr>\n",
       "    <tr>\n",
       "      <th>country</th>\n",
       "      <th></th>\n",
       "      <th></th>\n",
       "      <th></th>\n",
       "      <th></th>\n",
       "      <th></th>\n",
       "      <th></th>\n",
       "      <th></th>\n",
       "      <th></th>\n",
       "    </tr>\n",
       "  </thead>\n",
       "  <tbody>\n",
       "    <tr>\n",
       "      <th>Afghanistan</th>\n",
       "      <td>43.82800</td>\n",
       "      <td>31889923</td>\n",
       "      <td>974.58034</td>\n",
       "      <td>0</td>\n",
       "      <td>0</td>\n",
       "      <td>1</td>\n",
       "      <td>0</td>\n",
       "      <td>0</td>\n",
       "    </tr>\n",
       "    <tr>\n",
       "      <th>Albania</th>\n",
       "      <td>76.42300</td>\n",
       "      <td>3600523</td>\n",
       "      <td>5937.02953</td>\n",
       "      <td>0</td>\n",
       "      <td>0</td>\n",
       "      <td>0</td>\n",
       "      <td>1</td>\n",
       "      <td>0</td>\n",
       "    </tr>\n",
       "    <tr>\n",
       "      <th>Algeria</th>\n",
       "      <td>72.30100</td>\n",
       "      <td>33333216</td>\n",
       "      <td>6223.36747</td>\n",
       "      <td>1</td>\n",
       "      <td>0</td>\n",
       "      <td>0</td>\n",
       "      <td>0</td>\n",
       "      <td>0</td>\n",
       "    </tr>\n",
       "    <tr>\n",
       "      <th>Angola</th>\n",
       "      <td>42.73100</td>\n",
       "      <td>12420476</td>\n",
       "      <td>4797.23127</td>\n",
       "      <td>1</td>\n",
       "      <td>0</td>\n",
       "      <td>0</td>\n",
       "      <td>0</td>\n",
       "      <td>0</td>\n",
       "    </tr>\n",
       "    <tr>\n",
       "      <th>Argentina</th>\n",
       "      <td>75.32000</td>\n",
       "      <td>40301927</td>\n",
       "      <td>12779.37964</td>\n",
       "      <td>0</td>\n",
       "      <td>1</td>\n",
       "      <td>0</td>\n",
       "      <td>0</td>\n",
       "      <td>0</td>\n",
       "    </tr>\n",
       "  </tbody>\n",
       "</table>\n",
       "</div>"
      ],
      "text/plain": [
       "             lifeExp       pop   gdpPercap  continent_Africa  \\\n",
       "country                                                        \n",
       "Afghanistan 43.82800  31889923   974.58034                 0   \n",
       "Albania     76.42300   3600523  5937.02953                 0   \n",
       "Algeria     72.30100  33333216  6223.36747                 1   \n",
       "Angola      42.73100  12420476  4797.23127                 1   \n",
       "Argentina   75.32000  40301927 12779.37964                 0   \n",
       "\n",
       "             continent_Americas  continent_Asia  continent_Europe  \\\n",
       "country                                                             \n",
       "Afghanistan                   0               1                 0   \n",
       "Albania                       0               0                 1   \n",
       "Algeria                       0               0                 0   \n",
       "Angola                        0               0                 0   \n",
       "Argentina                     1               0                 0   \n",
       "\n",
       "             continent_Oceania  \n",
       "country                         \n",
       "Afghanistan                  0  \n",
       "Albania                      0  \n",
       "Algeria                      0  \n",
       "Angola                       0  \n",
       "Argentina                    0  "
      ]
     },
     "execution_count": 15,
     "metadata": {},
     "output_type": "execute_result"
    }
   ],
   "source": [
    "# Head (again!)\n",
    "df.head()\n"
   ]
  },
  {
   "cell_type": "code",
   "execution_count": 16,
   "id": "498cfb1f-3be1-492a-a154-a8f7d9db5f7b",
   "metadata": {},
   "outputs": [],
   "source": [
    "# Define X\n",
    "X = df.copy()"
   ]
  },
  {
   "cell_type": "code",
   "execution_count": 17,
   "id": "2414a664-a8e4-439b-af5f-2db2e3c3814b",
   "metadata": {},
   "outputs": [],
   "source": [
    "# Scale Features\n",
    "sc = StandardScaler()\n",
    "X_sc = sc.fit_transform(X)"
   ]
  },
  {
   "cell_type": "markdown",
   "id": "c2b0a218-e9c2-4ec0-a64a-16899bbd925e",
   "metadata": {},
   "source": [
    "### II. K-Means Clustering Model"
   ]
  },
  {
   "cell_type": "code",
   "execution_count": 18,
   "id": "711759ef-aebe-45f1-8bab-91bc7137157a",
   "metadata": {},
   "outputs": [],
   "source": [
    "# Elbow Plot\n",
    "warnings.filterwarnings('ignore')\n",
    "\n",
    "inertia_list = []\n",
    "\n",
    "for k in range(1, 21):\n",
    "    km = KMeans(n_clusters=k, random_state=42)\n",
    "    km.fit(X_sc)\n",
    "    inertia_list.append(km.inertia_)\n",
    "    \n",
    "warnings.resetwarnings()"
   ]
  },
  {
   "cell_type": "code",
   "execution_count": 19,
   "id": "e4b88fb8-0c76-4e16-95ae-c1de19e07dc3",
   "metadata": {},
   "outputs": [
    {
     "data": {
      "image/png": "[encoded data removed]",
      "text/plain": [
       "<Figure size 432x288 with 1 Axes>"
      ]
     },
     "metadata": {
      "needs_background": "light"
     },
     "output_type": "display_data"
    }
   ],
   "source": [
    "# Plot Elbow\n",
    "plt.plot(range(1, 21), inertia_list, marker='o')\n",
    "plt.xlabel('Number of Clusters')\n",
    "plt.ylabel('Score')\n",
    "plt.title('Inertia Scores')\n",
    "plt.xticks(range(1, 21, 2));\n",
    "\n",
    "## From the result, 6 clusters would be the opimal point."
   ]
  },
  {
   "cell_type": "code",
   "execution_count": 20,
   "id": "a3967939-98c9-4d62-9980-d1e45046b8f2",
   "metadata": {},
   "outputs": [],
   "source": [
    "# Silhouette Score\n",
    "warnings.filterwarnings('ignore')\n",
    "silhouette_list = []\n",
    "\n",
    "for k in range(2, 21):\n",
    "    km = KMeans(n_clusters=k, random_state=42)\n",
    "    km.fit(X_sc)\n",
    "    silhouette_list.append(silhouette_score(X_sc, km.labels_))\n",
    "warnings.resetwarnings()"
   ]
  },
  {
   "cell_type": "code",
   "execution_count": 21,
   "id": "cee0cecd-600b-4acc-9312-b4f3f3479be1",
   "metadata": {},
   "outputs": [
    {
     "data": {
      "image/png": "[encoded data removed]",
      "text/plain": [
       "<Figure size 432x288 with 1 Axes>"
      ]
     },
     "metadata": {
      "needs_background": "light"
     },
     "output_type": "display_data"
    }
   ],
   "source": [
    "# Plot Elbow\n",
    "plt.plot(range(2, 21), silhouette_list, marker='o')\n",
    "plt.xlabel('Number of Clusters')\n",
    "plt.ylabel('Score')\n",
    "plt.title('Silhouette Scores')\n",
    "plt.xticks(range(2, 21, 2));\n",
    "\n",
    "## From the chart result, 6 clusters would be the optimal k\n",
    "## for this dataset."
   ]
  },
  {
   "cell_type": "markdown",
   "id": "2eebe35f-4c30-4276-b027-bc90d60098fb",
   "metadata": {},
   "source": [
    "#### Based off of our metrics above, which k should we try first?"
   ]
  },
  {
   "cell_type": "markdown",
   "id": "4378c1c4-4859-4edf-997c-59f90be62c25",
   "metadata": {},
   "source": [
    "Answer Here:\n",
    "k=6 is what we should try eviden from both Inertia and Silhouette scores.\n"
   ]
  },
  {
   "cell_type": "code",
   "execution_count": 22,
   "id": "318e00a3-0fdf-4894-8457-4bf59469b7e4",
   "metadata": {},
   "outputs": [
    {
     "name": "stderr",
     "output_type": "stream",
     "text": [
      "C:\\Users\\Chalermchon Wongsopa\\AppData\\Roaming\\Python\\Python39\\site-packages\\sklearn\\cluster\\_kmeans.py:1334: UserWarning: KMeans is known to have a memory leak on Windows with MKL, when there are less chunks than available threads. You can avoid it by setting the environment variable OMP_NUM_THREADS=1.\n",
      "  warnings.warn(\n"
     ]
    },
    {
     "data": {
      "text/html": [
       "<style>#sk-container-id-1 {color: black;background-color: white;}#sk-container-id-1 pre{padding: 0;}#sk-container-id-1 div.sk-toggleable {background-color: white;}#sk-container-id-1 label.sk-toggleable__label {cursor: pointer;display: block;width: 100%;margin-bottom: 0;padding: 0.3em;box-sizing: border-box;text-align: center;}#sk-container-id-1 label.sk-toggleable__label-arrow:before {content: \"▸\";float: left;margin-right: 0.25em;color: #696969;}#sk-container-id-1 label.sk-toggleable__label-arrow:hover:before {color: black;}#sk-container-id-1 div.sk-estimator:hover label.sk-toggleable__label-arrow:before {color: black;}#sk-container-id-1 div.sk-toggleable__content {max-height: 0;max-width: 0;overflow: hidden;text-align: left;background-color: #f0f8ff;}#sk-container-id-1 div.sk-toggleable__content pre {margin: 0.2em;color: black;border-radius: 0.25em;background-color: #f0f8ff;}#sk-container-id-1 input.sk-toggleable__control:checked~div.sk-toggleable__content {max-height: 200px;max-width: 100%;overflow: auto;}#sk-container-id-1 input.sk-toggleable__control:checked~label.sk-toggleable__label-arrow:before {content: \"▾\";}#sk-container-id-1 div.sk-estimator input.sk-toggleable__control:checked~label.sk-toggleable__label {background-color: #d4ebff;}#sk-container-id-1 div.sk-label input.sk-toggleable__control:checked~label.sk-toggleable__label {background-color: #d4ebff;}#sk-container-id-1 input.sk-hidden--visually {border: 0;clip: rect(1px 1px 1px 1px);clip: rect(1px, 1px, 1px, 1px);height: 1px;margin: -1px;overflow: hidden;padding: 0;position: absolute;width: 1px;}#sk-container-id-1 div.sk-estimator {font-family: monospace;background-color: #f0f8ff;border: 1px dotted black;border-radius: 0.25em;box-sizing: border-box;margin-bottom: 0.5em;}#sk-container-id-1 div.sk-estimator:hover {background-color: #d4ebff;}#sk-container-id-1 div.sk-parallel-item::after {content: \"\";width: 100%;border-bottom: 1px solid gray;flex-grow: 1;}#sk-container-id-1 div.sk-label:hover label.sk-toggleable__label {background-color: #d4ebff;}#sk-container-id-1 div.sk-serial::before {content: \"\";position: absolute;border-left: 1px solid gray;box-sizing: border-box;top: 0;bottom: 0;left: 50%;z-index: 0;}#sk-container-id-1 div.sk-serial {display: flex;flex-direction: column;align-items: center;background-color: white;padding-right: 0.2em;padding-left: 0.2em;position: relative;}#sk-container-id-1 div.sk-item {position: relative;z-index: 1;}#sk-container-id-1 div.sk-parallel {display: flex;align-items: stretch;justify-content: center;background-color: white;position: relative;}#sk-container-id-1 div.sk-item::before, #sk-container-id-1 div.sk-parallel-item::before {content: \"\";position: absolute;border-left: 1px solid gray;box-sizing: border-box;top: 0;bottom: 0;left: 50%;z-index: -1;}#sk-container-id-1 div.sk-parallel-item {display: flex;flex-direction: column;z-index: 1;position: relative;background-color: white;}#sk-container-id-1 div.sk-parallel-item:first-child::after {align-self: flex-end;width: 50%;}#sk-container-id-1 div.sk-parallel-item:last-child::after {align-self: flex-start;width: 50%;}#sk-container-id-1 div.sk-parallel-item:only-child::after {width: 0;}#sk-container-id-1 div.sk-dashed-wrapped {border: 1px dashed gray;margin: 0 0.4em 0.5em 0.4em;box-sizing: border-box;padding-bottom: 0.4em;background-color: white;}#sk-container-id-1 div.sk-label label {font-family: monospace;font-weight: bold;display: inline-block;line-height: 1.2em;}#sk-container-id-1 div.sk-label-container {text-align: center;}#sk-container-id-1 div.sk-container {/* jupyter's `normalize.less` sets `[hidden] { display: none; }` but bootstrap.min.css set `[hidden] { display: none !important; }` so we also need the `!important` here to be able to override the default hidden behavior on the sphinx rendered scikit-learn.org. See: https://github.com/scikit-learn/scikit-learn/issues/21755 */display: inline-block !important;position: relative;}#sk-container-id-1 div.sk-text-repr-fallback {display: none;}</style><div id=\"sk-container-id-1\" class=\"sk-top-container\"><div class=\"sk-text-repr-fallback\"><pre>KMeans(n_clusters=6, random_state=42)</pre><b>In a Jupyter environment, please rerun this cell to show the HTML representation or trust the notebook. <br />On GitHub, the HTML representation is unable to render, please try loading this page with nbviewer.org.</b></div><div class=\"sk-container\" hidden><div class=\"sk-item\"><div class=\"sk-estimator sk-toggleable\"><input class=\"sk-toggleable__control sk-hidden--visually\" id=\"sk-estimator-id-1\" type=\"checkbox\" checked><label for=\"sk-estimator-id-1\" class=\"sk-toggleable__label sk-toggleable__label-arrow\">KMeans</label><div class=\"sk-toggleable__content\"><pre>KMeans(n_clusters=6, random_state=42)</pre></div></div></div></div></div>"
      ],
      "text/plain": [
       "KMeans(n_clusters=6, random_state=42)"
      ]
     },
     "execution_count": 22,
     "metadata": {},
     "output_type": "execute_result"
    }
   ],
   "source": [
    "# Now let's try it!\n",
    "\n",
    "# Instantiate & Fit\n",
    "km = KMeans(n_clusters=6, random_state=42)\n",
    "km.fit(X_sc)"
   ]
  },
  {
   "cell_type": "code",
   "execution_count": 23,
   "id": "c77a7bfb-46f5-4318-9359-5ffcd90be8dc",
   "metadata": {},
   "outputs": [
    {
     "data": {
      "text/plain": [
       "0.684136286873593"
      ]
     },
     "execution_count": 23,
     "metadata": {},
     "output_type": "execute_result"
    }
   ],
   "source": [
    "# Silhouette Score\n",
    "silhouette_score(X_sc, km.labels_)"
   ]
  },
  {
   "cell_type": "markdown",
   "id": "97b123a5-9792-44c8-8c5c-b5b19f261815",
   "metadata": {
    "tags": []
   },
   "source": [
    "#### Visualize Your Clusters!"
   ]
  },
  {
   "cell_type": "code",
   "execution_count": 24,
   "id": "6b1a3cbc-eb7d-4f65-82fc-3072240302ae",
   "metadata": {},
   "outputs": [
    {
     "data": {
      "text/html": [
       "<div>\n",
       "<style scoped>\n",
       "    .dataframe tbody tr th:only-of-type {\n",
       "        vertical-align: middle;\n",
       "    }\n",
       "\n",
       "    .dataframe tbody tr th {\n",
       "        vertical-align: top;\n",
       "    }\n",
       "\n",
       "    .dataframe thead th {\n",
       "        text-align: right;\n",
       "    }\n",
       "</style>\n",
       "<table border=\"1\" class=\"dataframe\">\n",
       "  <thead>\n",
       "    <tr style=\"text-align: right;\">\n",
       "      <th></th>\n",
       "      <th>lifeExp</th>\n",
       "      <th>pop</th>\n",
       "      <th>gdpPercap</th>\n",
       "      <th>continent_Africa</th>\n",
       "      <th>continent_Americas</th>\n",
       "      <th>continent_Asia</th>\n",
       "      <th>continent_Europe</th>\n",
       "      <th>continent_Oceania</th>\n",
       "      <th>cluster</th>\n",
       "    </tr>\n",
       "    <tr>\n",
       "      <th>country</th>\n",
       "      <th></th>\n",
       "      <th></th>\n",
       "      <th></th>\n",
       "      <th></th>\n",
       "      <th></th>\n",
       "      <th></th>\n",
       "      <th></th>\n",
       "      <th></th>\n",
       "      <th></th>\n",
       "    </tr>\n",
       "  </thead>\n",
       "  <tbody>\n",
       "    <tr>\n",
       "      <th>Afghanistan</th>\n",
       "      <td>43.82800</td>\n",
       "      <td>31889923</td>\n",
       "      <td>974.58034</td>\n",
       "      <td>0</td>\n",
       "      <td>0</td>\n",
       "      <td>1</td>\n",
       "      <td>0</td>\n",
       "      <td>0</td>\n",
       "      <td>3</td>\n",
       "    </tr>\n",
       "    <tr>\n",
       "      <th>Albania</th>\n",
       "      <td>76.42300</td>\n",
       "      <td>3600523</td>\n",
       "      <td>5937.02953</td>\n",
       "      <td>0</td>\n",
       "      <td>0</td>\n",
       "      <td>0</td>\n",
       "      <td>1</td>\n",
       "      <td>0</td>\n",
       "      <td>0</td>\n",
       "    </tr>\n",
       "    <tr>\n",
       "      <th>Algeria</th>\n",
       "      <td>72.30100</td>\n",
       "      <td>33333216</td>\n",
       "      <td>6223.36747</td>\n",
       "      <td>1</td>\n",
       "      <td>0</td>\n",
       "      <td>0</td>\n",
       "      <td>0</td>\n",
       "      <td>0</td>\n",
       "      <td>1</td>\n",
       "    </tr>\n",
       "    <tr>\n",
       "      <th>Angola</th>\n",
       "      <td>42.73100</td>\n",
       "      <td>12420476</td>\n",
       "      <td>4797.23127</td>\n",
       "      <td>1</td>\n",
       "      <td>0</td>\n",
       "      <td>0</td>\n",
       "      <td>0</td>\n",
       "      <td>0</td>\n",
       "      <td>1</td>\n",
       "    </tr>\n",
       "    <tr>\n",
       "      <th>Argentina</th>\n",
       "      <td>75.32000</td>\n",
       "      <td>40301927</td>\n",
       "      <td>12779.37964</td>\n",
       "      <td>0</td>\n",
       "      <td>1</td>\n",
       "      <td>0</td>\n",
       "      <td>0</td>\n",
       "      <td>0</td>\n",
       "      <td>2</td>\n",
       "    </tr>\n",
       "  </tbody>\n",
       "</table>\n",
       "</div>"
      ],
      "text/plain": [
       "             lifeExp       pop   gdpPercap  continent_Africa  \\\n",
       "country                                                        \n",
       "Afghanistan 43.82800  31889923   974.58034                 0   \n",
       "Albania     76.42300   3600523  5937.02953                 0   \n",
       "Algeria     72.30100  33333216  6223.36747                 1   \n",
       "Angola      42.73100  12420476  4797.23127                 1   \n",
       "Argentina   75.32000  40301927 12779.37964                 0   \n",
       "\n",
       "             continent_Americas  continent_Asia  continent_Europe  \\\n",
       "country                                                             \n",
       "Afghanistan                   0               1                 0   \n",
       "Albania                       0               0                 1   \n",
       "Algeria                       0               0                 0   \n",
       "Angola                        0               0                 0   \n",
       "Argentina                     1               0                 0   \n",
       "\n",
       "             continent_Oceania  cluster  \n",
       "country                                  \n",
       "Afghanistan                  0        3  \n",
       "Albania                      0        0  \n",
       "Algeria                      0        1  \n",
       "Angola                       0        1  \n",
       "Argentina                    0        2  "
      ]
     },
     "execution_count": 24,
     "metadata": {},
     "output_type": "execute_result"
    }
   ],
   "source": [
    "# Add cluster column\n",
    "df['cluster'] = km.labels_\n",
    "df.head()"
   ]
  },
  {
   "cell_type": "code",
   "execution_count": 25,
   "id": "919a3a00-3d1e-473b-9c87-5772fad74809",
   "metadata": {},
   "outputs": [
    {
     "name": "stderr",
     "output_type": "stream",
     "text": [
      "D:\\ProgramData\\Anaconda3\\lib\\site-packages\\seaborn\\axisgrid.py:130: DeprecationWarning: distutils Version classes are deprecated. Use packaging.version instead.\n",
      "  if LooseVersion(mpl.__version__) < LooseVersion(\"3.0\"):\n"
     ]
    },
    {
     "data": {
      "image/png": "[encoded data removed]",
      "text/plain": [
       "<Figure size 1482.38x1440 with 44 Axes>"
      ]
     },
     "metadata": {
      "needs_background": "light"
     },
     "output_type": "display_data"
    }
   ],
   "source": [
    "# Method 1: Pairplots/Scatterplots\n",
    "\n",
    "sns.pairplot(df, hue='cluster', corner=True);\n",
    "\n",
    "## There are no information or they are very complicated to see via visualization."
   ]
  },
  {
   "cell_type": "code",
   "execution_count": 26,
   "id": "1a548d4c-44c5-4a58-bb90-3a857b8cd89d",
   "metadata": {},
   "outputs": [
    {
     "data": {
      "text/html": [
       "<div>\n",
       "<style scoped>\n",
       "    .dataframe tbody tr th:only-of-type {\n",
       "        vertical-align: middle;\n",
       "    }\n",
       "\n",
       "    .dataframe tbody tr th {\n",
       "        vertical-align: top;\n",
       "    }\n",
       "\n",
       "    .dataframe thead th {\n",
       "        text-align: right;\n",
       "    }\n",
       "</style>\n",
       "<table border=\"1\" class=\"dataframe\">\n",
       "  <thead>\n",
       "    <tr style=\"text-align: right;\">\n",
       "      <th></th>\n",
       "      <th>lifeExp</th>\n",
       "      <th>pop</th>\n",
       "      <th>gdpPercap</th>\n",
       "    </tr>\n",
       "    <tr>\n",
       "      <th>cluster</th>\n",
       "      <th></th>\n",
       "      <th></th>\n",
       "      <th></th>\n",
       "    </tr>\n",
       "  </thead>\n",
       "  <tbody>\n",
       "    <tr>\n",
       "      <th>0</th>\n",
       "      <td>77.64860</td>\n",
       "      <td>19536617.63333</td>\n",
       "      <td>25054.48164</td>\n",
       "    </tr>\n",
       "    <tr>\n",
       "      <th>1</th>\n",
       "      <td>54.80604</td>\n",
       "      <td>17875763.30769</td>\n",
       "      <td>3089.03260</td>\n",
       "    </tr>\n",
       "    <tr>\n",
       "      <th>2</th>\n",
       "      <td>73.60812</td>\n",
       "      <td>35954847.36000</td>\n",
       "      <td>11003.03163</td>\n",
       "    </tr>\n",
       "    <tr>\n",
       "      <th>3</th>\n",
       "      <td>70.85100</td>\n",
       "      <td>44608851.61290</td>\n",
       "      <td>13038.66327</td>\n",
       "    </tr>\n",
       "    <tr>\n",
       "      <th>4</th>\n",
       "      <td>68.82950</td>\n",
       "      <td>1214539713.50000</td>\n",
       "      <td>3705.66263</td>\n",
       "    </tr>\n",
       "    <tr>\n",
       "      <th>5</th>\n",
       "      <td>80.71950</td>\n",
       "      <td>12274973.50000</td>\n",
       "      <td>29810.18827</td>\n",
       "    </tr>\n",
       "  </tbody>\n",
       "</table>\n",
       "</div>"
      ],
      "text/plain": [
       "         lifeExp              pop   gdpPercap\n",
       "cluster                                      \n",
       "0       77.64860   19536617.63333 25054.48164\n",
       "1       54.80604   17875763.30769  3089.03260\n",
       "2       73.60812   35954847.36000 11003.03163\n",
       "3       70.85100   44608851.61290 13038.66327\n",
       "4       68.82950 1214539713.50000  3705.66263\n",
       "5       80.71950   12274973.50000 29810.18827"
      ]
     },
     "execution_count": 26,
     "metadata": {},
     "output_type": "execute_result"
    }
   ],
   "source": [
    "# Method 2: Groupby\n",
    "# Numeric variables\n",
    "df.groupby('cluster')[['lifeExp', 'pop', 'gdpPercap']].mean()"
   ]
  },
  {
   "cell_type": "code",
   "execution_count": 27,
   "id": "6804e95a-8be9-4944-8bfc-4866e61d36bf",
   "metadata": {},
   "outputs": [
    {
     "data": {
      "text/plain": [
       "Index(['lifeExp', 'pop', 'gdpPercap', 'continent_Africa', 'continent_Americas',\n",
       "       'continent_Asia', 'continent_Europe', 'continent_Oceania', 'cluster'],\n",
       "      dtype='object')"
      ]
     },
     "execution_count": 27,
     "metadata": {},
     "output_type": "execute_result"
    }
   ],
   "source": [
    "df.columns"
   ]
  },
  {
   "cell_type": "code",
   "execution_count": 28,
   "id": "53d3cd6e-bcae-4bdf-a52f-76a7cd053c15",
   "metadata": {},
   "outputs": [
    {
     "data": {
      "text/html": [
       "<div>\n",
       "<style scoped>\n",
       "    .dataframe tbody tr th:only-of-type {\n",
       "        vertical-align: middle;\n",
       "    }\n",
       "\n",
       "    .dataframe tbody tr th {\n",
       "        vertical-align: top;\n",
       "    }\n",
       "\n",
       "    .dataframe thead th {\n",
       "        text-align: right;\n",
       "    }\n",
       "</style>\n",
       "<table border=\"1\" class=\"dataframe\">\n",
       "  <thead>\n",
       "    <tr style=\"text-align: right;\">\n",
       "      <th></th>\n",
       "      <th>continent_Africa</th>\n",
       "      <th>continent_Americas</th>\n",
       "      <th>continent_Asia</th>\n",
       "      <th>continent_Europe</th>\n",
       "      <th>continent_Oceania</th>\n",
       "    </tr>\n",
       "    <tr>\n",
       "      <th>cluster</th>\n",
       "      <th></th>\n",
       "      <th></th>\n",
       "      <th></th>\n",
       "      <th></th>\n",
       "      <th></th>\n",
       "    </tr>\n",
       "  </thead>\n",
       "  <tbody>\n",
       "    <tr>\n",
       "      <th>0</th>\n",
       "      <td>0</td>\n",
       "      <td>0</td>\n",
       "      <td>0</td>\n",
       "      <td>30</td>\n",
       "      <td>0</td>\n",
       "    </tr>\n",
       "    <tr>\n",
       "      <th>1</th>\n",
       "      <td>52</td>\n",
       "      <td>0</td>\n",
       "      <td>0</td>\n",
       "      <td>0</td>\n",
       "      <td>0</td>\n",
       "    </tr>\n",
       "    <tr>\n",
       "      <th>2</th>\n",
       "      <td>0</td>\n",
       "      <td>25</td>\n",
       "      <td>0</td>\n",
       "      <td>0</td>\n",
       "      <td>0</td>\n",
       "    </tr>\n",
       "    <tr>\n",
       "      <th>3</th>\n",
       "      <td>0</td>\n",
       "      <td>0</td>\n",
       "      <td>31</td>\n",
       "      <td>0</td>\n",
       "      <td>0</td>\n",
       "    </tr>\n",
       "    <tr>\n",
       "      <th>4</th>\n",
       "      <td>0</td>\n",
       "      <td>0</td>\n",
       "      <td>2</td>\n",
       "      <td>0</td>\n",
       "      <td>0</td>\n",
       "    </tr>\n",
       "    <tr>\n",
       "      <th>5</th>\n",
       "      <td>0</td>\n",
       "      <td>0</td>\n",
       "      <td>0</td>\n",
       "      <td>0</td>\n",
       "      <td>2</td>\n",
       "    </tr>\n",
       "  </tbody>\n",
       "</table>\n",
       "</div>"
      ],
      "text/plain": [
       "         continent_Africa  continent_Americas  continent_Asia  \\\n",
       "cluster                                                         \n",
       "0                       0                   0               0   \n",
       "1                      52                   0               0   \n",
       "2                       0                  25               0   \n",
       "3                       0                   0              31   \n",
       "4                       0                   0               2   \n",
       "5                       0                   0               0   \n",
       "\n",
       "         continent_Europe  continent_Oceania  \n",
       "cluster                                       \n",
       "0                      30                  0  \n",
       "1                       0                  0  \n",
       "2                       0                  0  \n",
       "3                       0                  0  \n",
       "4                       0                  0  \n",
       "5                       0                  2  "
      ]
     },
     "execution_count": 28,
     "metadata": {},
     "output_type": "execute_result"
    }
   ],
   "source": [
    "# Dummy variables\n",
    "df.groupby('cluster')[['continent_Africa', 'continent_Americas',\n",
    "       'continent_Asia', 'continent_Europe', 'continent_Oceania']].sum()\n",
    "\n",
    "# The cluster seems perform well in terms of distinguish countries by their continent.\n",
    "# But cluster number '4' is a little bit strange because only 2 countries from Asia continent\n",
    "# are contained inside."
   ]
  },
  {
   "cell_type": "markdown",
   "id": "9704b31f-8e5b-49fb-ac11-4a065a2899a8",
   "metadata": {},
   "source": [
    "#### An Even Closer Look...Which countries are in each of these clusters?"
   ]
  },
  {
   "cell_type": "code",
   "execution_count": 29,
   "id": "7874433e-9ab4-44d5-9f74-159ddb9e4890",
   "metadata": {},
   "outputs": [
    {
     "name": "stdout",
     "output_type": "stream",
     "text": [
      "Cluster: 0\n",
      "Index(['Albania', 'Austria', 'Belgium', 'Bosnia and Herzegovina', 'Bulgaria',\n",
      "       'Croatia', 'Czech Republic', 'Denmark', 'Finland', 'France', 'Germany',\n",
      "       'Greece', 'Hungary', 'Iceland', 'Ireland', 'Italy', 'Montenegro',\n",
      "       'Netherlands', 'Norway', 'Poland', 'Portugal', 'Romania', 'Serbia',\n",
      "       'Slovak Republic', 'Slovenia', 'Spain', 'Sweden', 'Switzerland',\n",
      "       'Turkey', 'United Kingdom'],\n",
      "      dtype='object', name='country')\n",
      "Cluster: 1\n",
      "Index(['Algeria', 'Angola', 'Benin', 'Botswana', 'Burkina Faso', 'Burundi',\n",
      "       'Cameroon', 'Central African Republic', 'Chad', 'Comoros',\n",
      "       'Congo, Dem. Rep.', 'Congo, Rep.', 'Cote d'Ivoire', 'Djibouti', 'Egypt',\n",
      "       'Equatorial Guinea', 'Eritrea', 'Ethiopia', 'Gabon', 'Gambia', 'Ghana',\n",
      "       'Guinea', 'Guinea-Bissau', 'Kenya', 'Lesotho', 'Liberia', 'Libya',\n",
      "       'Madagascar', 'Malawi', 'Mali', 'Mauritania', 'Mauritius', 'Morocco',\n",
      "       'Mozambique', 'Namibia', 'Niger', 'Nigeria', 'Reunion', 'Rwanda',\n",
      "       'Sao Tome and Principe', 'Senegal', 'Sierra Leone', 'Somalia',\n",
      "       'South Africa', 'Sudan', 'Swaziland', 'Tanzania', 'Togo', 'Tunisia',\n",
      "       'Uganda', 'Zambia', 'Zimbabwe'],\n",
      "      dtype='object', name='country')\n",
      "Cluster: 2\n",
      "Index(['Argentina', 'Bolivia', 'Brazil', 'Canada', 'Chile', 'Colombia',\n",
      "       'Costa Rica', 'Cuba', 'Dominican Republic', 'Ecuador', 'El Salvador',\n",
      "       'Guatemala', 'Haiti', 'Honduras', 'Jamaica', 'Mexico', 'Nicaragua',\n",
      "       'Panama', 'Paraguay', 'Peru', 'Puerto Rico', 'Trinidad and Tobago',\n",
      "       'United States', 'Uruguay', 'Venezuela'],\n",
      "      dtype='object', name='country')\n",
      "Cluster: 3\n",
      "Index(['Afghanistan', 'Bahrain', 'Bangladesh', 'Cambodia', 'Hong Kong, China',\n",
      "       'Indonesia', 'Iran', 'Iraq', 'Israel', 'Japan', 'Jordan',\n",
      "       'Korea, Dem. Rep.', 'Korea, Rep.', 'Kuwait', 'Lebanon', 'Malaysia',\n",
      "       'Mongolia', 'Myanmar', 'Nepal', 'Oman', 'Pakistan', 'Philippines',\n",
      "       'Saudi Arabia', 'Singapore', 'Sri Lanka', 'Syria', 'Taiwan', 'Thailand',\n",
      "       'Vietnam', 'West Bank and Gaza', 'Yemen, Rep.'],\n",
      "      dtype='object', name='country')\n",
      "Cluster: 4\n",
      "Index(['China', 'India'], dtype='object', name='country')\n",
      "Cluster: 5\n",
      "Index(['Australia', 'New Zealand'], dtype='object', name='country')\n"
     ]
    }
   ],
   "source": [
    "# For loop\n",
    "for i in range(df['cluster'].nunique()):\n",
    "    print(f'Cluster: {i}')\n",
    "    print(df[df['cluster'] == i].index, end='\\n')"
   ]
  },
  {
   "cell_type": "code",
   "execution_count": 30,
   "id": "de07fdd8-8d9c-436a-84aa-971216959158",
   "metadata": {},
   "outputs": [],
   "source": [
    "## As per result, cluster 0, 1, 2, 3, and 5 would be clustered by their continent.\n",
    "# Cluster '4' might be clustered by their number of population."
   ]
  },
  {
   "cell_type": "markdown",
   "id": "b283de92-895d-4fd8-af45-207c47da72a7",
   "metadata": {
    "tags": []
   },
   "source": [
    "### III. [In Groups] DBSCAN Clustering Model\n",
    "\n",
    "- Try tuning your parameters\n",
    "- Visualize your clusters\n",
    "- Determine your best silhouette score\n",
    "- Is this better or worse than KMeans?\n",
    "- Which countries are in each cluster?"
   ]
  },
  {
   "cell_type": "markdown",
   "id": "032ec755-fa3d-49ed-8a73-6fc9efcdec84",
   "metadata": {},
   "source": [
    "#### Try tuning your parameters"
   ]
  },
  {
   "cell_type": "code",
   "execution_count": 31,
   "id": "ee8153a2-1cfe-4dc8-a092-871e847b5f72",
   "metadata": {},
   "outputs": [],
   "source": [
    "# Hyperparameters\n",
    "    # eps=0.5,\n",
    "    # min_samples=5,\n",
    "    # metric='euclidean',\n",
    "    # metric_params=None,\n",
    "    # algorithm='auto',\n",
    "    # leaf_size=30,\n",
    "    # p=None,\n",
    "    # n_jobs=None"
   ]
  },
  {
   "cell_type": "code",
   "execution_count": 32,
   "id": "4d1fc75b-6af8-488e-ae24-92358bc87ce3",
   "metadata": {},
   "outputs": [],
   "source": [
    "# Define function to fit DBSCAN and return silhouette scores\n",
    "def dbscan_gs(data, eps=0.5, min_samples=5, metric='euclidean'):\n",
    "    \"\"\"Function that fit DBSCAN model and return silhouette scores\n",
    "    \n",
    "    Parameter:\n",
    "    eps: default=0.5\n",
    "    min_samples: default=5\n",
    "    metric: default='euclidean'\n",
    "    \"\"\"\n",
    "    db = DBSCAN(eps=eps, min_samples=min_samples, metric=metric)\n",
    "    db.fit(data)\n",
    "    return silhouette_score(data, db.labels_)"
   ]
  },
  {
   "cell_type": "code",
   "execution_count": 33,
   "id": "fc19dbc3-f0b5-43d3-b0ae-726d6163a0e5",
   "metadata": {},
   "outputs": [],
   "source": [
    "# Create hyperparameters dict for gridsearch\n",
    "dbscan_param = {\n",
    "    'eps': [0.5, 0.7, 0.9, 1.2, 1.5, 3, 5, 7],\n",
    "    'min_samples': [3, 5, 7, 9, 11],\n",
    "    'metric': ['euclidean', 'manhattan']\n",
    "}\n",
    "\n",
    "# Create a dataframe to store results\n",
    "result_df = pd.DataFrame(columns=['eps', 'min_samples', 'metric', 'score'])\n",
    "\n",
    "# loop through each params\n",
    "counter = 0\n",
    "for eps in dbscan_param['eps']:\n",
    "    for min_sam in dbscan_param['min_samples']:\n",
    "        for metric in dbscan_param['metric']:\n",
    "            result_df.loc[counter] = [eps, min_sam, metric,\n",
    "                                       dbscan_gs(X_sc, eps, min_sam, metric)\n",
    "            ]\n",
    "            counter += 1\n",
    "    "
   ]
  },
  {
   "cell_type": "code",
   "execution_count": 34,
   "id": "ccefb939-547d-490a-afc3-33159ac57003",
   "metadata": {},
   "outputs": [
    {
     "data": {
      "text/html": [
       "<div>\n",
       "<style scoped>\n",
       "    .dataframe tbody tr th:only-of-type {\n",
       "        vertical-align: middle;\n",
       "    }\n",
       "\n",
       "    .dataframe tbody tr th {\n",
       "        vertical-align: top;\n",
       "    }\n",
       "\n",
       "    .dataframe thead th {\n",
       "        text-align: right;\n",
       "    }\n",
       "</style>\n",
       "<table border=\"1\" class=\"dataframe\">\n",
       "  <thead>\n",
       "    <tr style=\"text-align: right;\">\n",
       "      <th></th>\n",
       "      <th>eps</th>\n",
       "      <th>min_samples</th>\n",
       "      <th>metric</th>\n",
       "      <th>score</th>\n",
       "    </tr>\n",
       "  </thead>\n",
       "  <tbody>\n",
       "    <tr>\n",
       "      <th>0</th>\n",
       "      <td>0.50000</td>\n",
       "      <td>3</td>\n",
       "      <td>euclidean</td>\n",
       "      <td>0.42168</td>\n",
       "    </tr>\n",
       "    <tr>\n",
       "      <th>1</th>\n",
       "      <td>0.50000</td>\n",
       "      <td>3</td>\n",
       "      <td>manhattan</td>\n",
       "      <td>0.30249</td>\n",
       "    </tr>\n",
       "    <tr>\n",
       "      <th>2</th>\n",
       "      <td>0.50000</td>\n",
       "      <td>5</td>\n",
       "      <td>euclidean</td>\n",
       "      <td>0.45586</td>\n",
       "    </tr>\n",
       "    <tr>\n",
       "      <th>3</th>\n",
       "      <td>0.50000</td>\n",
       "      <td>5</td>\n",
       "      <td>manhattan</td>\n",
       "      <td>0.25718</td>\n",
       "    </tr>\n",
       "    <tr>\n",
       "      <th>4</th>\n",
       "      <td>0.50000</td>\n",
       "      <td>7</td>\n",
       "      <td>euclidean</td>\n",
       "      <td>0.40296</td>\n",
       "    </tr>\n",
       "    <tr>\n",
       "      <th>...</th>\n",
       "      <td>...</td>\n",
       "      <td>...</td>\n",
       "      <td>...</td>\n",
       "      <td>...</td>\n",
       "    </tr>\n",
       "    <tr>\n",
       "      <th>75</th>\n",
       "      <td>7.00000</td>\n",
       "      <td>7</td>\n",
       "      <td>manhattan</td>\n",
       "      <td>0.62911</td>\n",
       "    </tr>\n",
       "    <tr>\n",
       "      <th>76</th>\n",
       "      <td>7.00000</td>\n",
       "      <td>9</td>\n",
       "      <td>euclidean</td>\n",
       "      <td>0.62911</td>\n",
       "    </tr>\n",
       "    <tr>\n",
       "      <th>77</th>\n",
       "      <td>7.00000</td>\n",
       "      <td>9</td>\n",
       "      <td>manhattan</td>\n",
       "      <td>0.62911</td>\n",
       "    </tr>\n",
       "    <tr>\n",
       "      <th>78</th>\n",
       "      <td>7.00000</td>\n",
       "      <td>11</td>\n",
       "      <td>euclidean</td>\n",
       "      <td>0.62911</td>\n",
       "    </tr>\n",
       "    <tr>\n",
       "      <th>79</th>\n",
       "      <td>7.00000</td>\n",
       "      <td>11</td>\n",
       "      <td>manhattan</td>\n",
       "      <td>0.62911</td>\n",
       "    </tr>\n",
       "  </tbody>\n",
       "</table>\n",
       "<p>80 rows × 4 columns</p>\n",
       "</div>"
      ],
      "text/plain": [
       "       eps  min_samples     metric   score\n",
       "0  0.50000            3  euclidean 0.42168\n",
       "1  0.50000            3  manhattan 0.30249\n",
       "2  0.50000            5  euclidean 0.45586\n",
       "3  0.50000            5  manhattan 0.25718\n",
       "4  0.50000            7  euclidean 0.40296\n",
       "..     ...          ...        ...     ...\n",
       "75 7.00000            7  manhattan 0.62911\n",
       "76 7.00000            9  euclidean 0.62911\n",
       "77 7.00000            9  manhattan 0.62911\n",
       "78 7.00000           11  euclidean 0.62911\n",
       "79 7.00000           11  manhattan 0.62911\n",
       "\n",
       "[80 rows x 4 columns]"
      ]
     },
     "execution_count": 34,
     "metadata": {},
     "output_type": "execute_result"
    }
   ],
   "source": [
    "# Show result df\n",
    "result_df"
   ]
  },
  {
   "cell_type": "markdown",
   "id": "4b478227-ec2b-4af0-bb49-40e7fddd15be",
   "metadata": {},
   "source": [
    "#### Determine your best silhouette score"
   ]
  },
  {
   "cell_type": "code",
   "execution_count": 35,
   "id": "791d580e-7483-41f3-8840-bb22096fa5ed",
   "metadata": {},
   "outputs": [
    {
     "data": {
      "text/html": [
       "<div>\n",
       "<style scoped>\n",
       "    .dataframe tbody tr th:only-of-type {\n",
       "        vertical-align: middle;\n",
       "    }\n",
       "\n",
       "    .dataframe tbody tr th {\n",
       "        vertical-align: top;\n",
       "    }\n",
       "\n",
       "    .dataframe thead th {\n",
       "        text-align: right;\n",
       "    }\n",
       "</style>\n",
       "<table border=\"1\" class=\"dataframe\">\n",
       "  <thead>\n",
       "    <tr style=\"text-align: right;\">\n",
       "      <th></th>\n",
       "      <th>eps</th>\n",
       "      <th>min_samples</th>\n",
       "      <th>metric</th>\n",
       "      <th>score</th>\n",
       "    </tr>\n",
       "  </thead>\n",
       "  <tbody>\n",
       "    <tr>\n",
       "      <th>50</th>\n",
       "      <td>3.00000</td>\n",
       "      <td>3</td>\n",
       "      <td>euclidean</td>\n",
       "      <td>0.65969</td>\n",
       "    </tr>\n",
       "    <tr>\n",
       "      <th>51</th>\n",
       "      <td>3.00000</td>\n",
       "      <td>3</td>\n",
       "      <td>manhattan</td>\n",
       "      <td>0.65969</td>\n",
       "    </tr>\n",
       "    <tr>\n",
       "      <th>52</th>\n",
       "      <td>3.00000</td>\n",
       "      <td>5</td>\n",
       "      <td>euclidean</td>\n",
       "      <td>0.65969</td>\n",
       "    </tr>\n",
       "    <tr>\n",
       "      <th>53</th>\n",
       "      <td>3.00000</td>\n",
       "      <td>5</td>\n",
       "      <td>manhattan</td>\n",
       "      <td>0.65969</td>\n",
       "    </tr>\n",
       "    <tr>\n",
       "      <th>54</th>\n",
       "      <td>3.00000</td>\n",
       "      <td>7</td>\n",
       "      <td>euclidean</td>\n",
       "      <td>0.65969</td>\n",
       "    </tr>\n",
       "    <tr>\n",
       "      <th>55</th>\n",
       "      <td>3.00000</td>\n",
       "      <td>7</td>\n",
       "      <td>manhattan</td>\n",
       "      <td>0.65969</td>\n",
       "    </tr>\n",
       "    <tr>\n",
       "      <th>56</th>\n",
       "      <td>3.00000</td>\n",
       "      <td>9</td>\n",
       "      <td>euclidean</td>\n",
       "      <td>0.65969</td>\n",
       "    </tr>\n",
       "    <tr>\n",
       "      <th>57</th>\n",
       "      <td>3.00000</td>\n",
       "      <td>9</td>\n",
       "      <td>manhattan</td>\n",
       "      <td>0.65969</td>\n",
       "    </tr>\n",
       "    <tr>\n",
       "      <th>58</th>\n",
       "      <td>3.00000</td>\n",
       "      <td>11</td>\n",
       "      <td>euclidean</td>\n",
       "      <td>0.65969</td>\n",
       "    </tr>\n",
       "    <tr>\n",
       "      <th>59</th>\n",
       "      <td>3.00000</td>\n",
       "      <td>11</td>\n",
       "      <td>manhattan</td>\n",
       "      <td>0.65969</td>\n",
       "    </tr>\n",
       "  </tbody>\n",
       "</table>\n",
       "</div>"
      ],
      "text/plain": [
       "       eps  min_samples     metric   score\n",
       "50 3.00000            3  euclidean 0.65969\n",
       "51 3.00000            3  manhattan 0.65969\n",
       "52 3.00000            5  euclidean 0.65969\n",
       "53 3.00000            5  manhattan 0.65969\n",
       "54 3.00000            7  euclidean 0.65969\n",
       "55 3.00000            7  manhattan 0.65969\n",
       "56 3.00000            9  euclidean 0.65969\n",
       "57 3.00000            9  manhattan 0.65969\n",
       "58 3.00000           11  euclidean 0.65969\n",
       "59 3.00000           11  manhattan 0.65969"
      ]
     },
     "execution_count": 35,
     "metadata": {},
     "output_type": "execute_result"
    }
   ],
   "source": [
    "# Get max score's parameters\n",
    "result_df[result_df['score'] == result_df['score'].max()]\n",
    "\n",
    "## eps=3, min_samples=3, metric='euclidean' would give the maxmimum score\n",
    "## over given parameters"
   ]
  },
  {
   "cell_type": "code",
   "execution_count": 36,
   "id": "4b857539-59e5-4c82-9a28-a62c27518711",
   "metadata": {},
   "outputs": [
    {
     "data": {
      "text/plain": [
       "0.66"
      ]
     },
     "execution_count": 36,
     "metadata": {},
     "output_type": "execute_result"
    }
   ],
   "source": [
    "# Fit model for best parameters\n",
    "dbscan = DBSCAN(eps=3, min_samples=3)\n",
    "dbscan.fit(X_sc)\n",
    "silhouette_score(X_sc, dbscan.labels_).round(2)"
   ]
  },
  {
   "cell_type": "code",
   "execution_count": 37,
   "id": "87fdc1ee-6e83-48a1-8439-9eda6dc672cf",
   "metadata": {},
   "outputs": [
    {
     "data": {
      "text/plain": [
       "-1     4\n",
       " 0    31\n",
       " 1    30\n",
       " 2    52\n",
       " 3    25\n",
       "dtype: int64"
      ]
     },
     "execution_count": 37,
     "metadata": {},
     "output_type": "execute_result"
    }
   ],
   "source": [
    "# Check clusters' result\n",
    "pd.Series(dbscan.labels_).value_counts().sort_index()\n",
    "\n",
    "# There are 4 clusters created by DBSCAN.\n",
    "# 4 datapoints are considered as outlier."
   ]
  },
  {
   "cell_type": "markdown",
   "id": "f90d9052-1d9e-44d0-8c1d-e64b4a0e1cd1",
   "metadata": {},
   "source": [
    "#### Visualize your clusters"
   ]
  },
  {
   "cell_type": "code",
   "execution_count": 38,
   "id": "073b25c2-b807-4122-a2b5-3d327b2ae057",
   "metadata": {},
   "outputs": [],
   "source": [
    "df['cluster_dbscan'] = dbscan.labels_"
   ]
  },
  {
   "cell_type": "code",
   "execution_count": 39,
   "id": "b1da967c-1511-4ec9-9eaf-b273b2f3c5d3",
   "metadata": {},
   "outputs": [
    {
     "name": "stderr",
     "output_type": "stream",
     "text": [
      "D:\\ProgramData\\Anaconda3\\lib\\site-packages\\seaborn\\axisgrid.py:130: DeprecationWarning: distutils Version classes are deprecated. Use packaging.version instead.\n",
      "  if LooseVersion(mpl.__version__) < LooseVersion(\"3.0\"):\n"
     ]
    },
    {
     "data": {
      "image/png": "[encoded data removed]",
      "text/plain": [
       "<Figure size 1523x1440 with 44 Axes>"
      ]
     },
     "metadata": {
      "needs_background": "light"
     },
     "output_type": "display_data"
    }
   ],
   "source": [
    "sns.pairplot(df.drop(columns='cluster'), hue='cluster_dbscan', corner=True);\n"
   ]
  },
  {
   "cell_type": "code",
   "execution_count": 40,
   "id": "c9ce90d4-f5e7-489d-aa00-ba404dca15d0",
   "metadata": {},
   "outputs": [],
   "source": [
    "# Determine your best silhouette score\n",
    "# Is this better or worse than KMeans?\n",
    "# Which countries are in each cluster?"
   ]
  },
  {
   "cell_type": "markdown",
   "id": "85356b96-d3b8-473a-a643-ff91b0b609af",
   "metadata": {},
   "source": [
    "#### Is this better or worse than KMeans?"
   ]
  },
  {
   "cell_type": "code",
   "execution_count": 41,
   "id": "c96e9e7a-d69d-4ac7-ba1b-35bc7758838e",
   "metadata": {},
   "outputs": [
    {
     "name": "stdout",
     "output_type": "stream",
     "text": [
      "Comparing Silhouette Scores\n",
      "KMeans: 0.68\n",
      "DBSCAN: 0.66\n"
     ]
    }
   ],
   "source": [
    "print('Comparing Silhouette Scores')\n",
    "print(f'KMeans: {silhouette_score(X_sc, km.labels_).round(2)}')\n",
    "print(f'DBSCAN: {silhouette_score(X_sc, dbscan.labels_).round(2)}')\n",
    "\n",
    "# The opimal model for this dataset would be KMeans comparing silhouette scores."
   ]
  },
  {
   "cell_type": "markdown",
   "id": "770014fe-fff3-4800-a34b-a54c2e16fee6",
   "metadata": {},
   "source": [
    "#### Which countries are in each cluster?"
   ]
  },
  {
   "cell_type": "code",
   "execution_count": 42,
   "id": "b8b77867-5e46-4b30-a4e3-2b20c562c4a7",
   "metadata": {},
   "outputs": [
    {
     "name": "stdout",
     "output_type": "stream",
     "text": [
      "Cluster: -1\n",
      "Index(['Australia', 'China', 'India', 'New Zealand'], dtype='object', name='country')\n",
      "Cluster: 0\n",
      "Index(['Afghanistan', 'Bahrain', 'Bangladesh', 'Cambodia', 'Hong Kong, China',\n",
      "       'Indonesia', 'Iran', 'Iraq', 'Israel', 'Japan', 'Jordan',\n",
      "       'Korea, Dem. Rep.', 'Korea, Rep.', 'Kuwait', 'Lebanon', 'Malaysia',\n",
      "       'Mongolia', 'Myanmar', 'Nepal', 'Oman', 'Pakistan', 'Philippines',\n",
      "       'Saudi Arabia', 'Singapore', 'Sri Lanka', 'Syria', 'Taiwan', 'Thailand',\n",
      "       'Vietnam', 'West Bank and Gaza', 'Yemen, Rep.'],\n",
      "      dtype='object', name='country')\n",
      "Cluster: 1\n",
      "Index(['Albania', 'Austria', 'Belgium', 'Bosnia and Herzegovina', 'Bulgaria',\n",
      "       'Croatia', 'Czech Republic', 'Denmark', 'Finland', 'France', 'Germany',\n",
      "       'Greece', 'Hungary', 'Iceland', 'Ireland', 'Italy', 'Montenegro',\n",
      "       'Netherlands', 'Norway', 'Poland', 'Portugal', 'Romania', 'Serbia',\n",
      "       'Slovak Republic', 'Slovenia', 'Spain', 'Sweden', 'Switzerland',\n",
      "       'Turkey', 'United Kingdom'],\n",
      "      dtype='object', name='country')\n",
      "Cluster: 2\n",
      "Index(['Algeria', 'Angola', 'Benin', 'Botswana', 'Burkina Faso', 'Burundi',\n",
      "       'Cameroon', 'Central African Republic', 'Chad', 'Comoros',\n",
      "       'Congo, Dem. Rep.', 'Congo, Rep.', 'Cote d'Ivoire', 'Djibouti', 'Egypt',\n",
      "       'Equatorial Guinea', 'Eritrea', 'Ethiopia', 'Gabon', 'Gambia', 'Ghana',\n",
      "       'Guinea', 'Guinea-Bissau', 'Kenya', 'Lesotho', 'Liberia', 'Libya',\n",
      "       'Madagascar', 'Malawi', 'Mali', 'Mauritania', 'Mauritius', 'Morocco',\n",
      "       'Mozambique', 'Namibia', 'Niger', 'Nigeria', 'Reunion', 'Rwanda',\n",
      "       'Sao Tome and Principe', 'Senegal', 'Sierra Leone', 'Somalia',\n",
      "       'South Africa', 'Sudan', 'Swaziland', 'Tanzania', 'Togo', 'Tunisia',\n",
      "       'Uganda', 'Zambia', 'Zimbabwe'],\n",
      "      dtype='object', name='country')\n",
      "Cluster: 3\n",
      "Index(['Argentina', 'Bolivia', 'Brazil', 'Canada', 'Chile', 'Colombia',\n",
      "       'Costa Rica', 'Cuba', 'Dominican Republic', 'Ecuador', 'El Salvador',\n",
      "       'Guatemala', 'Haiti', 'Honduras', 'Jamaica', 'Mexico', 'Nicaragua',\n",
      "       'Panama', 'Paraguay', 'Peru', 'Puerto Rico', 'Trinidad and Tobago',\n",
      "       'United States', 'Uruguay', 'Venezuela'],\n",
      "      dtype='object', name='country')\n"
     ]
    }
   ],
   "source": [
    "# For loop\n",
    "for i in range(df['cluster_dbscan'].nunique()):\n",
    "    print(f'Cluster: {i - 1}')\n",
    "    print(df[df['cluster_dbscan'] == i - 1].index, end='\\n')"
   ]
  },
  {
   "cell_type": "markdown",
   "id": "e09af143-bbea-4717-9973-389e52a5ef51",
   "metadata": {},
   "source": [
    "### ⭐ There are pros & cons for both DBSCAN and K-Means Clustering Models. Again, since this is unsupervised it is not easy to know which method you should use until you dive into your data! Keep exploring and diving into your data 💫 "
   ]
  }
 ],
 "metadata": {
  "kernelspec": {
   "display_name": "Python 3 (ipykernel)",
   "language": "python",
   "name": "python3"
  },
  "language_info": {
   "codemirror_mode": {
    "name": "ipython",
    "version": 3
   },
   "file_extension": ".py",
   "mimetype": "text/x-python",
   "name": "python",
   "nbconvert_exporter": "python",
   "pygments_lexer": "ipython3",
   "version": "3.9.12"
  }
 },
 "nbformat": 4,
 "nbformat_minor": 5
}
