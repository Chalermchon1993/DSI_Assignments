{
 "cells": [
  {
   "cell_type": "markdown",
   "metadata": {},
   "source": [
    "<img src=\"http://imgur.com/1ZcRyrc.png\" style=\"float: left; margin: 20px; height: 55px\">\n",
    "\n",
    "# Simple Linear Regression with Sacramento Real Estate Data\n",
    "\n",
    "---\n",
    "\n",
    "In this lab you will hone your exploratory data analysis (EDA) skills and practice constructing linear regressions on a data set of Sacramento real estate sales.  The data set contains information on qualities of the property, location of the property, and time of sale."
   ]
  },
  {
   "cell_type": "code",
   "execution_count": 1,
   "metadata": {},
   "outputs": [],
   "source": [
    "import pandas as pd\n",
    "import numpy as np\n",
    "import matplotlib.pyplot as plt\n",
    "import seaborn as sns\n",
    "from sklearn.linear_model import LinearRegression\n",
    "from sklearn import metrics\n",
    "import statistics\n",
    "from sklearn.model_selection import train_test_split, cross_val_score"
   ]
  },
  {
   "cell_type": "markdown",
   "metadata": {},
   "source": [
    "### 1. Read in the Sacramento housing data set.\n",
    "\n",
    "The file is stored in the `datasets` subfolder."
   ]
  },
  {
   "cell_type": "code",
   "execution_count": 2,
   "metadata": {},
   "outputs": [],
   "source": [
    "df = pd.read_csv('./datasets/sacramento_real_estate_transactions.csv')"
   ]
  },
  {
   "cell_type": "markdown",
   "metadata": {},
   "source": [
    "### 2. Conduct exploratory data analysis on this data set. \n",
    "\n",
    "If you discover any issues with the data, fix them to the best of your ability. Report any notable findings.\n",
    "\n",
    "_**Note:** Zip codes often have leading zeros — e.g., 02215 = Boston, MA — which will often get knocked off automatically by many software programs like Python or Excel._"
   ]
  },
  {
   "cell_type": "code",
   "execution_count": 3,
   "metadata": {
    "scrolled": true
   },
   "outputs": [
    {
     "name": "stdout",
     "output_type": "stream",
     "text": [
      "(985, 12)\n"
     ]
    },
    {
     "data": {
      "text/html": [
       "<div>\n",
       "<style scoped>\n",
       "    .dataframe tbody tr th:only-of-type {\n",
       "        vertical-align: middle;\n",
       "    }\n",
       "\n",
       "    .dataframe tbody tr th {\n",
       "        vertical-align: top;\n",
       "    }\n",
       "\n",
       "    .dataframe thead th {\n",
       "        text-align: right;\n",
       "    }\n",
       "</style>\n",
       "<table border=\"1\" class=\"dataframe\">\n",
       "  <thead>\n",
       "    <tr style=\"text-align: right;\">\n",
       "      <th></th>\n",
       "      <th>street</th>\n",
       "      <th>city</th>\n",
       "      <th>zip</th>\n",
       "      <th>state</th>\n",
       "      <th>beds</th>\n",
       "      <th>baths</th>\n",
       "      <th>sq__ft</th>\n",
       "      <th>type</th>\n",
       "      <th>sale_date</th>\n",
       "      <th>price</th>\n",
       "      <th>latitude</th>\n",
       "      <th>longitude</th>\n",
       "    </tr>\n",
       "  </thead>\n",
       "  <tbody>\n",
       "    <tr>\n",
       "      <th>0</th>\n",
       "      <td>3526 HIGH ST</td>\n",
       "      <td>SACRAMENTO</td>\n",
       "      <td>95838</td>\n",
       "      <td>CA</td>\n",
       "      <td>2</td>\n",
       "      <td>1</td>\n",
       "      <td>836</td>\n",
       "      <td>Residential</td>\n",
       "      <td>Wed May 21 00:00:00 EDT 2008</td>\n",
       "      <td>59222</td>\n",
       "      <td>38.631913</td>\n",
       "      <td>-121.434879</td>\n",
       "    </tr>\n",
       "    <tr>\n",
       "      <th>1</th>\n",
       "      <td>51 OMAHA CT</td>\n",
       "      <td>SACRAMENTO</td>\n",
       "      <td>95823</td>\n",
       "      <td>CA</td>\n",
       "      <td>3</td>\n",
       "      <td>1</td>\n",
       "      <td>1167</td>\n",
       "      <td>Residential</td>\n",
       "      <td>Wed May 21 00:00:00 EDT 2008</td>\n",
       "      <td>68212</td>\n",
       "      <td>38.478902</td>\n",
       "      <td>-121.431028</td>\n",
       "    </tr>\n",
       "    <tr>\n",
       "      <th>2</th>\n",
       "      <td>2796 BRANCH ST</td>\n",
       "      <td>SACRAMENTO</td>\n",
       "      <td>95815</td>\n",
       "      <td>CA</td>\n",
       "      <td>2</td>\n",
       "      <td>1</td>\n",
       "      <td>796</td>\n",
       "      <td>Residential</td>\n",
       "      <td>Wed May 21 00:00:00 EDT 2008</td>\n",
       "      <td>68880</td>\n",
       "      <td>38.618305</td>\n",
       "      <td>-121.443839</td>\n",
       "    </tr>\n",
       "    <tr>\n",
       "      <th>3</th>\n",
       "      <td>2805 JANETTE WAY</td>\n",
       "      <td>SACRAMENTO</td>\n",
       "      <td>95815</td>\n",
       "      <td>CA</td>\n",
       "      <td>2</td>\n",
       "      <td>1</td>\n",
       "      <td>852</td>\n",
       "      <td>Residential</td>\n",
       "      <td>Wed May 21 00:00:00 EDT 2008</td>\n",
       "      <td>69307</td>\n",
       "      <td>38.616835</td>\n",
       "      <td>-121.439146</td>\n",
       "    </tr>\n",
       "    <tr>\n",
       "      <th>4</th>\n",
       "      <td>6001 MCMAHON DR</td>\n",
       "      <td>SACRAMENTO</td>\n",
       "      <td>95824</td>\n",
       "      <td>CA</td>\n",
       "      <td>2</td>\n",
       "      <td>1</td>\n",
       "      <td>797</td>\n",
       "      <td>Residential</td>\n",
       "      <td>Wed May 21 00:00:00 EDT 2008</td>\n",
       "      <td>81900</td>\n",
       "      <td>38.519470</td>\n",
       "      <td>-121.435768</td>\n",
       "    </tr>\n",
       "  </tbody>\n",
       "</table>\n",
       "</div>"
      ],
      "text/plain": [
       "             street        city    zip state  beds  baths  sq__ft  \\\n",
       "0      3526 HIGH ST  SACRAMENTO  95838    CA     2      1     836   \n",
       "1       51 OMAHA CT  SACRAMENTO  95823    CA     3      1    1167   \n",
       "2    2796 BRANCH ST  SACRAMENTO  95815    CA     2      1     796   \n",
       "3  2805 JANETTE WAY  SACRAMENTO  95815    CA     2      1     852   \n",
       "4   6001 MCMAHON DR  SACRAMENTO  95824    CA     2      1     797   \n",
       "\n",
       "          type                     sale_date  price   latitude   longitude  \n",
       "0  Residential  Wed May 21 00:00:00 EDT 2008  59222  38.631913 -121.434879  \n",
       "1  Residential  Wed May 21 00:00:00 EDT 2008  68212  38.478902 -121.431028  \n",
       "2  Residential  Wed May 21 00:00:00 EDT 2008  68880  38.618305 -121.443839  \n",
       "3  Residential  Wed May 21 00:00:00 EDT 2008  69307  38.616835 -121.439146  \n",
       "4  Residential  Wed May 21 00:00:00 EDT 2008  81900  38.519470 -121.435768  "
      ]
     },
     "execution_count": 3,
     "metadata": {},
     "output_type": "execute_result"
    }
   ],
   "source": [
    "# Explore data shape\n",
    "print(df.shape)\n",
    "df.head()"
   ]
  },
  {
   "cell_type": "code",
   "execution_count": 4,
   "metadata": {},
   "outputs": [],
   "source": [
    "# Drop unused features\n",
    "df.drop(columns=['state', 'latitude', 'longitude', 'zip', 'sale_date'], inplace=True)"
   ]
  },
  {
   "cell_type": "code",
   "execution_count": 5,
   "metadata": {},
   "outputs": [
    {
     "name": "stdout",
     "output_type": "stream",
     "text": [
      "<class 'pandas.core.frame.DataFrame'>\n",
      "RangeIndex: 985 entries, 0 to 984\n",
      "Data columns (total 7 columns):\n",
      " #   Column  Non-Null Count  Dtype \n",
      "---  ------  --------------  ----- \n",
      " 0   street  985 non-null    object\n",
      " 1   city    985 non-null    object\n",
      " 2   beds    985 non-null    int64 \n",
      " 3   baths   985 non-null    int64 \n",
      " 4   sq__ft  985 non-null    int64 \n",
      " 5   type    985 non-null    object\n",
      " 6   price   985 non-null    int64 \n",
      "dtypes: int64(4), object(3)\n",
      "memory usage: 54.0+ KB\n"
     ]
    }
   ],
   "source": [
    "# Check data types\n",
    "df.info()"
   ]
  },
  {
   "cell_type": "code",
   "execution_count": 6,
   "metadata": {},
   "outputs": [
    {
     "data": {
      "text/html": [
       "<div>\n",
       "<style scoped>\n",
       "    .dataframe tbody tr th:only-of-type {\n",
       "        vertical-align: middle;\n",
       "    }\n",
       "\n",
       "    .dataframe tbody tr th {\n",
       "        vertical-align: top;\n",
       "    }\n",
       "\n",
       "    .dataframe thead th {\n",
       "        text-align: right;\n",
       "    }\n",
       "</style>\n",
       "<table border=\"1\" class=\"dataframe\">\n",
       "  <thead>\n",
       "    <tr style=\"text-align: right;\">\n",
       "      <th></th>\n",
       "      <th>beds</th>\n",
       "      <th>baths</th>\n",
       "      <th>sq__ft</th>\n",
       "      <th>price</th>\n",
       "    </tr>\n",
       "  </thead>\n",
       "  <tbody>\n",
       "    <tr>\n",
       "      <th>count</th>\n",
       "      <td>985.000000</td>\n",
       "      <td>985.000000</td>\n",
       "      <td>985.000000</td>\n",
       "      <td>985.000000</td>\n",
       "    </tr>\n",
       "    <tr>\n",
       "      <th>mean</th>\n",
       "      <td>2.911675</td>\n",
       "      <td>1.776650</td>\n",
       "      <td>1312.918782</td>\n",
       "      <td>233715.951269</td>\n",
       "    </tr>\n",
       "    <tr>\n",
       "      <th>std</th>\n",
       "      <td>1.307932</td>\n",
       "      <td>0.895371</td>\n",
       "      <td>856.123224</td>\n",
       "      <td>139088.818896</td>\n",
       "    </tr>\n",
       "    <tr>\n",
       "      <th>min</th>\n",
       "      <td>0.000000</td>\n",
       "      <td>0.000000</td>\n",
       "      <td>-984.000000</td>\n",
       "      <td>-210944.000000</td>\n",
       "    </tr>\n",
       "    <tr>\n",
       "      <th>25%</th>\n",
       "      <td>2.000000</td>\n",
       "      <td>1.000000</td>\n",
       "      <td>950.000000</td>\n",
       "      <td>145000.000000</td>\n",
       "    </tr>\n",
       "    <tr>\n",
       "      <th>50%</th>\n",
       "      <td>3.000000</td>\n",
       "      <td>2.000000</td>\n",
       "      <td>1304.000000</td>\n",
       "      <td>213750.000000</td>\n",
       "    </tr>\n",
       "    <tr>\n",
       "      <th>75%</th>\n",
       "      <td>4.000000</td>\n",
       "      <td>2.000000</td>\n",
       "      <td>1718.000000</td>\n",
       "      <td>300000.000000</td>\n",
       "    </tr>\n",
       "    <tr>\n",
       "      <th>max</th>\n",
       "      <td>8.000000</td>\n",
       "      <td>5.000000</td>\n",
       "      <td>5822.000000</td>\n",
       "      <td>884790.000000</td>\n",
       "    </tr>\n",
       "  </tbody>\n",
       "</table>\n",
       "</div>"
      ],
      "text/plain": [
       "             beds       baths       sq__ft          price\n",
       "count  985.000000  985.000000   985.000000     985.000000\n",
       "mean     2.911675    1.776650  1312.918782  233715.951269\n",
       "std      1.307932    0.895371   856.123224  139088.818896\n",
       "min      0.000000    0.000000  -984.000000 -210944.000000\n",
       "25%      2.000000    1.000000   950.000000  145000.000000\n",
       "50%      3.000000    2.000000  1304.000000  213750.000000\n",
       "75%      4.000000    2.000000  1718.000000  300000.000000\n",
       "max      8.000000    5.000000  5822.000000  884790.000000"
      ]
     },
     "execution_count": 6,
     "metadata": {},
     "output_type": "execute_result"
    }
   ],
   "source": [
    "# Check data obviouse values\n",
    "df.describe()"
   ]
  },
  {
   "cell_type": "code",
   "execution_count": 7,
   "metadata": {},
   "outputs": [
    {
     "data": {
      "text/html": [
       "<div>\n",
       "<style scoped>\n",
       "    .dataframe tbody tr th:only-of-type {\n",
       "        vertical-align: middle;\n",
       "    }\n",
       "\n",
       "    .dataframe tbody tr th {\n",
       "        vertical-align: top;\n",
       "    }\n",
       "\n",
       "    .dataframe thead th {\n",
       "        text-align: right;\n",
       "    }\n",
       "</style>\n",
       "<table border=\"1\" class=\"dataframe\">\n",
       "  <thead>\n",
       "    <tr style=\"text-align: right;\">\n",
       "      <th></th>\n",
       "      <th>street</th>\n",
       "      <th>city</th>\n",
       "      <th>beds</th>\n",
       "      <th>baths</th>\n",
       "      <th>sq__ft</th>\n",
       "      <th>type</th>\n",
       "      <th>price</th>\n",
       "    </tr>\n",
       "  </thead>\n",
       "  <tbody>\n",
       "    <tr>\n",
       "      <th>703</th>\n",
       "      <td>1900 DANBROOK DR</td>\n",
       "      <td>SACRAMENTO</td>\n",
       "      <td>1</td>\n",
       "      <td>1</td>\n",
       "      <td>-984</td>\n",
       "      <td>Condo</td>\n",
       "      <td>-210944</td>\n",
       "    </tr>\n",
       "  </tbody>\n",
       "</table>\n",
       "</div>"
      ],
      "text/plain": [
       "               street        city  beds  baths  sq__ft   type   price\n",
       "703  1900 DANBROOK DR  SACRAMENTO     1      1    -984  Condo -210944"
      ]
     },
     "execution_count": 7,
     "metadata": {},
     "output_type": "execute_result"
    }
   ],
   "source": [
    "# sq__ft and price have negative values then investigate it.\n",
    "# Only 1 row shows after filtering negative value, we could drop it.\n",
    "df[(df['sq__ft'] < 0) | (df['price'] < 0) ].sort_values(by='sq__ft')"
   ]
  },
  {
   "cell_type": "code",
   "execution_count": 8,
   "metadata": {},
   "outputs": [
    {
     "data": {
      "text/html": [
       "<div>\n",
       "<style scoped>\n",
       "    .dataframe tbody tr th:only-of-type {\n",
       "        vertical-align: middle;\n",
       "    }\n",
       "\n",
       "    .dataframe tbody tr th {\n",
       "        vertical-align: top;\n",
       "    }\n",
       "\n",
       "    .dataframe thead th {\n",
       "        text-align: right;\n",
       "    }\n",
       "</style>\n",
       "<table border=\"1\" class=\"dataframe\">\n",
       "  <thead>\n",
       "    <tr style=\"text-align: right;\">\n",
       "      <th></th>\n",
       "      <th>street</th>\n",
       "      <th>city</th>\n",
       "      <th>beds</th>\n",
       "      <th>baths</th>\n",
       "      <th>sq__ft</th>\n",
       "      <th>type</th>\n",
       "      <th>price</th>\n",
       "    </tr>\n",
       "  </thead>\n",
       "  <tbody>\n",
       "    <tr>\n",
       "      <th>73</th>\n",
       "      <td>17 SERASPI CT</td>\n",
       "      <td>SACRAMENTO</td>\n",
       "      <td>0</td>\n",
       "      <td>0</td>\n",
       "      <td>0</td>\n",
       "      <td>Residential</td>\n",
       "      <td>206000</td>\n",
       "    </tr>\n",
       "    <tr>\n",
       "      <th>598</th>\n",
       "      <td>19 CRYSTALWOOD CIR</td>\n",
       "      <td>LINCOLN</td>\n",
       "      <td>0</td>\n",
       "      <td>0</td>\n",
       "      <td>0</td>\n",
       "      <td>Residential</td>\n",
       "      <td>4897</td>\n",
       "    </tr>\n",
       "    <tr>\n",
       "      <th>599</th>\n",
       "      <td>15 CRYSTALWOOD CIR</td>\n",
       "      <td>LINCOLN</td>\n",
       "      <td>0</td>\n",
       "      <td>0</td>\n",
       "      <td>0</td>\n",
       "      <td>Residential</td>\n",
       "      <td>4897</td>\n",
       "    </tr>\n",
       "    <tr>\n",
       "      <th>600</th>\n",
       "      <td>7 CRYSTALWOOD CIR</td>\n",
       "      <td>LINCOLN</td>\n",
       "      <td>0</td>\n",
       "      <td>0</td>\n",
       "      <td>0</td>\n",
       "      <td>Residential</td>\n",
       "      <td>4897</td>\n",
       "    </tr>\n",
       "    <tr>\n",
       "      <th>601</th>\n",
       "      <td>7 CRYSTALWOOD CIR</td>\n",
       "      <td>LINCOLN</td>\n",
       "      <td>0</td>\n",
       "      <td>0</td>\n",
       "      <td>0</td>\n",
       "      <td>Residential</td>\n",
       "      <td>4897</td>\n",
       "    </tr>\n",
       "  </tbody>\n",
       "</table>\n",
       "</div>"
      ],
      "text/plain": [
       "                 street        city  beds  baths  sq__ft         type   price\n",
       "73        17 SERASPI CT  SACRAMENTO     0      0       0  Residential  206000\n",
       "598  19 CRYSTALWOOD CIR     LINCOLN     0      0       0  Residential    4897\n",
       "599  15 CRYSTALWOOD CIR     LINCOLN     0      0       0  Residential    4897\n",
       "600   7 CRYSTALWOOD CIR     LINCOLN     0      0       0  Residential    4897\n",
       "601   7 CRYSTALWOOD CIR     LINCOLN     0      0       0  Residential    4897"
      ]
     },
     "execution_count": 8,
     "metadata": {},
     "output_type": "execute_result"
    }
   ],
   "source": [
    "# Filter for 0 sq_ft data\n",
    "# there are 2 kinds of 0 sq__ft\n",
    "## 1: have 0 value for beds, baths, sq__ft\n",
    "## 2: have 0 only for sq__ft\n",
    "\n",
    "df[(df['sq__ft'] == 0)].sort_values(by='sq__ft').head()"
   ]
  },
  {
   "cell_type": "code",
   "execution_count": 9,
   "metadata": {},
   "outputs": [
    {
     "name": "stdout",
     "output_type": "stream",
     "text": [
      "0 in sq__ft: (171, 7)\n",
      "0 in beds & baths & sq__ft: (108, 7)\n"
     ]
    }
   ],
   "source": [
    "# Count number of rows that sq__ft = 0 \n",
    "print('0 in sq__ft:',df[(df['sq__ft'] == 0)].shape)\n",
    "print('0 in beds & baths & sq__ft:', df[(df['sq__ft'] == 0) & (df['beds'] == 0) & (df['baths'] == 0)].shape)"
   ]
  },
  {
   "cell_type": "code",
   "execution_count": 10,
   "metadata": {},
   "outputs": [],
   "source": [
    "# Try to drop all of negative and 0 values in sq__ft variable\n",
    "df_nonzero = df[df['sq__ft'] > 0].copy()"
   ]
  },
  {
   "cell_type": "code",
   "execution_count": 11,
   "metadata": {},
   "outputs": [
    {
     "name": "stdout",
     "output_type": "stream",
     "text": [
      "Number of data loss: 172\n",
      "% of data loss: 17.46\n"
     ]
    }
   ],
   "source": [
    "# data loss\n",
    "print('Number of data loss:',df.shape[0] - df_nonzero.shape[0])\n",
    "print('% of data loss:', round((df.shape[0] - df_nonzero.shape[0]) / df.shape[0] * 100, 2))"
   ]
  },
  {
   "cell_type": "code",
   "execution_count": 12,
   "metadata": {},
   "outputs": [
    {
     "data": {
      "text/html": [
       "<div>\n",
       "<style scoped>\n",
       "    .dataframe tbody tr th:only-of-type {\n",
       "        vertical-align: middle;\n",
       "    }\n",
       "\n",
       "    .dataframe tbody tr th {\n",
       "        vertical-align: top;\n",
       "    }\n",
       "\n",
       "    .dataframe thead th {\n",
       "        text-align: right;\n",
       "    }\n",
       "</style>\n",
       "<table border=\"1\" class=\"dataframe\">\n",
       "  <thead>\n",
       "    <tr style=\"text-align: right;\">\n",
       "      <th></th>\n",
       "      <th>beds</th>\n",
       "      <th>baths</th>\n",
       "      <th>sq__ft</th>\n",
       "      <th>price</th>\n",
       "    </tr>\n",
       "  </thead>\n",
       "  <tbody>\n",
       "    <tr>\n",
       "      <th>count</th>\n",
       "      <td>813.000000</td>\n",
       "      <td>813.000000</td>\n",
       "      <td>813.000000</td>\n",
       "      <td>813.000000</td>\n",
       "    </tr>\n",
       "    <tr>\n",
       "      <th>mean</th>\n",
       "      <td>3.247232</td>\n",
       "      <td>1.961870</td>\n",
       "      <td>1591.892989</td>\n",
       "      <td>229471.130381</td>\n",
       "    </tr>\n",
       "    <tr>\n",
       "      <th>std</th>\n",
       "      <td>0.849012</td>\n",
       "      <td>0.669367</td>\n",
       "      <td>663.908347</td>\n",
       "      <td>119897.576889</td>\n",
       "    </tr>\n",
       "    <tr>\n",
       "      <th>min</th>\n",
       "      <td>1.000000</td>\n",
       "      <td>1.000000</td>\n",
       "      <td>484.000000</td>\n",
       "      <td>2000.000000</td>\n",
       "    </tr>\n",
       "    <tr>\n",
       "      <th>25%</th>\n",
       "      <td>3.000000</td>\n",
       "      <td>2.000000</td>\n",
       "      <td>1144.000000</td>\n",
       "      <td>148750.000000</td>\n",
       "    </tr>\n",
       "    <tr>\n",
       "      <th>50%</th>\n",
       "      <td>3.000000</td>\n",
       "      <td>2.000000</td>\n",
       "      <td>1419.000000</td>\n",
       "      <td>207973.000000</td>\n",
       "    </tr>\n",
       "    <tr>\n",
       "      <th>75%</th>\n",
       "      <td>4.000000</td>\n",
       "      <td>2.000000</td>\n",
       "      <td>1851.000000</td>\n",
       "      <td>285000.000000</td>\n",
       "    </tr>\n",
       "    <tr>\n",
       "      <th>max</th>\n",
       "      <td>8.000000</td>\n",
       "      <td>5.000000</td>\n",
       "      <td>5822.000000</td>\n",
       "      <td>884790.000000</td>\n",
       "    </tr>\n",
       "  </tbody>\n",
       "</table>\n",
       "</div>"
      ],
      "text/plain": [
       "             beds       baths       sq__ft          price\n",
       "count  813.000000  813.000000   813.000000     813.000000\n",
       "mean     3.247232    1.961870  1591.892989  229471.130381\n",
       "std      0.849012    0.669367   663.908347  119897.576889\n",
       "min      1.000000    1.000000   484.000000    2000.000000\n",
       "25%      3.000000    2.000000  1144.000000  148750.000000\n",
       "50%      3.000000    2.000000  1419.000000  207973.000000\n",
       "75%      4.000000    2.000000  1851.000000  285000.000000\n",
       "max      8.000000    5.000000  5822.000000  884790.000000"
      ]
     },
     "execution_count": 12,
     "metadata": {},
     "output_type": "execute_result"
    }
   ],
   "source": [
    "# Re-chheck data obviouse values\n",
    "# Now beds, baths, and sq__ft price are reasonable but price is not.\n",
    "# There is too small for property price then let's investigate it.\n",
    "df_nonzero.describe()"
   ]
  },
  {
   "cell_type": "code",
   "execution_count": 13,
   "metadata": {},
   "outputs": [
    {
     "data": {
      "image/png": "[encoded data removed]",
      "text/plain": [
       "<Figure size 432x288 with 1 Axes>"
      ]
     },
     "metadata": {
      "needs_background": "light"
     },
     "output_type": "display_data"
    }
   ],
   "source": [
    "# Explore price variable\n",
    "# Plot price vs sq__ft\n",
    "\n",
    "plt.scatter(x=df_nonzero['sq__ft'], y=df_nonzero['price'])\n",
    "plt.ylabel('Property Price')\n",
    "plt.xlabel('Property Size (sq.ft.)')\n",
    "plt.title('Price vs. Size');"
   ]
  },
  {
   "cell_type": "code",
   "execution_count": 14,
   "metadata": {},
   "outputs": [
    {
     "data": {
      "text/html": [
       "<div>\n",
       "<style scoped>\n",
       "    .dataframe tbody tr th:only-of-type {\n",
       "        vertical-align: middle;\n",
       "    }\n",
       "\n",
       "    .dataframe tbody tr th {\n",
       "        vertical-align: top;\n",
       "    }\n",
       "\n",
       "    .dataframe thead th {\n",
       "        text-align: right;\n",
       "    }\n",
       "</style>\n",
       "<table border=\"1\" class=\"dataframe\">\n",
       "  <thead>\n",
       "    <tr style=\"text-align: right;\">\n",
       "      <th></th>\n",
       "      <th>street</th>\n",
       "      <th>city</th>\n",
       "      <th>beds</th>\n",
       "      <th>baths</th>\n",
       "      <th>sq__ft</th>\n",
       "      <th>type</th>\n",
       "      <th>price</th>\n",
       "    </tr>\n",
       "  </thead>\n",
       "  <tbody>\n",
       "    <tr>\n",
       "      <th>866</th>\n",
       "      <td>14151 INDIO DR</td>\n",
       "      <td>SLOUGHHOUSE</td>\n",
       "      <td>3</td>\n",
       "      <td>4</td>\n",
       "      <td>5822</td>\n",
       "      <td>Residential</td>\n",
       "      <td>2000</td>\n",
       "    </tr>\n",
       "    <tr>\n",
       "      <th>603</th>\n",
       "      <td>8208 WOODYARD WAY</td>\n",
       "      <td>CITRUS HEIGHTS</td>\n",
       "      <td>3</td>\n",
       "      <td>2</td>\n",
       "      <td>1166</td>\n",
       "      <td>Residential</td>\n",
       "      <td>30000</td>\n",
       "    </tr>\n",
       "    <tr>\n",
       "      <th>335</th>\n",
       "      <td>5840 WALERGA RD</td>\n",
       "      <td>SACRAMENTO</td>\n",
       "      <td>2</td>\n",
       "      <td>1</td>\n",
       "      <td>840</td>\n",
       "      <td>Condo</td>\n",
       "      <td>40000</td>\n",
       "    </tr>\n",
       "    <tr>\n",
       "      <th>336</th>\n",
       "      <td>923 FULTON AVE</td>\n",
       "      <td>SACRAMENTO</td>\n",
       "      <td>1</td>\n",
       "      <td>1</td>\n",
       "      <td>484</td>\n",
       "      <td>Condo</td>\n",
       "      <td>48000</td>\n",
       "    </tr>\n",
       "    <tr>\n",
       "      <th>605</th>\n",
       "      <td>15 LOORZ CT</td>\n",
       "      <td>SACRAMENTO</td>\n",
       "      <td>2</td>\n",
       "      <td>1</td>\n",
       "      <td>838</td>\n",
       "      <td>Residential</td>\n",
       "      <td>55422</td>\n",
       "    </tr>\n",
       "  </tbody>\n",
       "</table>\n",
       "</div>"
      ],
      "text/plain": [
       "                street            city  beds  baths  sq__ft         type  \\\n",
       "866     14151 INDIO DR     SLOUGHHOUSE     3      4    5822  Residential   \n",
       "603  8208 WOODYARD WAY  CITRUS HEIGHTS     3      2    1166  Residential   \n",
       "335    5840 WALERGA RD      SACRAMENTO     2      1     840        Condo   \n",
       "336     923 FULTON AVE      SACRAMENTO     1      1     484        Condo   \n",
       "605        15 LOORZ CT      SACRAMENTO     2      1     838  Residential   \n",
       "\n",
       "     price  \n",
       "866   2000  \n",
       "603  30000  \n",
       "335  40000  \n",
       "336  48000  \n",
       "605  55422  "
      ]
     },
     "execution_count": 14,
     "metadata": {},
     "output_type": "execute_result"
    }
   ],
   "source": [
    "# After plotting property price and its size, outlier reveals.\n",
    "# Recheck outlier by sorting data \n",
    "df_nonzero.sort_values(by='price').head()"
   ]
  },
  {
   "cell_type": "code",
   "execution_count": 15,
   "metadata": {},
   "outputs": [],
   "source": [
    "# Drop data that price = 2000\n",
    "df_nonzero = df_nonzero[df_nonzero['price'] > 2000].copy()"
   ]
  },
  {
   "cell_type": "code",
   "execution_count": 16,
   "metadata": {},
   "outputs": [
    {
     "data": {
      "text/plain": [
       "(812, 7)"
      ]
     },
     "execution_count": 16,
     "metadata": {},
     "output_type": "execute_result"
    }
   ],
   "source": [
    "# Re-check data shape\n",
    "df_nonzero.shape"
   ]
  },
  {
   "cell_type": "code",
   "execution_count": 17,
   "metadata": {},
   "outputs": [
    {
     "data": {
      "text/plain": [
       "street    object\n",
       "city      object\n",
       "beds       int64\n",
       "baths      int64\n",
       "sq__ft     int64\n",
       "type      object\n",
       "price      int64\n",
       "dtype: object"
      ]
     },
     "execution_count": 17,
     "metadata": {},
     "output_type": "execute_result"
    }
   ],
   "source": [
    "# Check data types\n",
    "# sale_date is now in format of object.\n",
    "df_nonzero.dtypes"
   ]
  },
  {
   "cell_type": "code",
   "execution_count": 18,
   "metadata": {},
   "outputs": [
    {
     "data": {
      "text/plain": [
       "array(['3526 HIGH ST', '51 OMAHA CT', '2796 BRANCH ST',\n",
       "       '2805 JANETTE WAY', '6001 MCMAHON DR', '5828 PEPPERMILL CT',\n",
       "       '6048 OGDEN NASH WAY', '2561 19TH AVE',\n",
       "       '11150 TRINITY RIVER DR Unit 114', '7325 10TH ST',\n",
       "       '645 MORRISON AVE', '4085 FAWN CIR', '2930 LA ROSA RD',\n",
       "       '2113 KIRK WAY', '4533 LOCH HAVEN WAY', '7340 HAMDEN PL',\n",
       "       '6715 6TH ST', '6236 LONGFORD DR Unit 1', '250 PERALTA AVE',\n",
       "       '113 LEEWILL AVE', '6118 STONEHAND AVE', '4882 BANDALIN WAY',\n",
       "       '7511 OAKVALE CT', '9 PASTURE CT', '3729 BAINBRIDGE DR',\n",
       "       '3828 BLACKFOOT WAY', '4108 NORTON WAY', '1469 JANRICK AVE',\n",
       "       '9861 CULP WAY', '7825 CREEK VALLEY CIR',\n",
       "       '5201 LAGUNA OAKS DR Unit 140', '6768 MEDORA DR',\n",
       "       '3100 EXPLORER DR', '7944 DOMINION WAY',\n",
       "       '5201 LAGUNA OAKS DR Unit 162', '3920 SHINING STAR DR',\n",
       "       '5031 CORVAIR ST', '7661 NIXOS WAY', '7044 CARTHY WAY',\n",
       "       '2442 LARKSPUR LN', '4800 WESTLAKE PKWY Unit 2109',\n",
       "       '2178 63RD AVE', '8718 ELK WAY', '5708 RIDGEPOINT DR',\n",
       "       '7315 KOALA CT', '2622 ERIN DR', '8421 SUNBLAZE WAY',\n",
       "       '7420 ALIX PKWY', '3820 NATOMA WAY', '4431 GREEN TREE DR',\n",
       "       '9417 SARA ST', '8299 HALBRITE WAY', '7223 KALLIE KAY LN',\n",
       "       '8156 STEINBECK WAY', '7957 VALLEY GREEN DR', '1122 WILD POPPY CT',\n",
       "       '4520 BOMARK WAY', '9012 KIEFER BLVD', '5332 SANDSTONE ST',\n",
       "       '5993 SAWYER CIR', '4844 CLYDEBANK WAY', '306 CAMELLIA WAY',\n",
       "       '9021 MADISON AVE', '404 6TH ST', '8317 SUNNY CREEK WAY',\n",
       "       '2617 BASS CT', '7005 TIANT WAY', '7895 CABER WAY',\n",
       "       '7624 BOGEY CT', '6930 HAMPTON COVE WAY', '8708 MESA BROOK WAY',\n",
       "       '120 GRANT LN', '5907 ELLERSLEE DR', '170 PENHOW CIR',\n",
       "       '8345 STAR THISTLE WAY', '9080 FRESCA WAY', '391 NATALINO CIR',\n",
       "       '8373 BLACKMAN WAY', '9837 CORTE DORADO CT', '5037 J PKWY',\n",
       "       '10245 LOS PALOS DR', '6613 NAVION DR', '2887 AZEVEDO DR',\n",
       "       '9186 KINBRACE CT', '4243 MIDDLEBURY WAY', '1028 FALLON PLACE CT',\n",
       "       '4804 NORIKER DR', '7713 HARVEST WOODS DR', '6913 RICHEVE WAY',\n",
       "       '8636 TEGEA WAY', '5448 MAIDSTONE WAY', '18 OLLIE CT',\n",
       "       '4010 ALEX LN', '4901 MILLNER WAY', '4818 BRITTNEY LEE CT',\n",
       "       '5529 LAGUNA PARK DR', '230 CANDELA CIR', '4900 71ST ST',\n",
       "       '4236 NATOMAS CENTRAL DR', '5615 LUPIN LN', '5625 JAMES WAY',\n",
       "       '7842 LAHONTAN CT', '6850 21ST ST', '2900 BLAIR RD',\n",
       "       '2064 EXPEDITION WAY', '2912 NORCADE CIR', '9507 SEA CLIFF WAY',\n",
       "       '8882 AUTUMN GOLD CT', '5322 WHITE LOTUS WAY', '1838 CASTRO WAY',\n",
       "       '10158 CRAWFORD WAY', '7731 MASTERS ST', '4925 PERCHERON DR',\n",
       "       '2010 PROMONTORY POINT LN', '4727 SAVOIE WAY',\n",
       "       '8664 MAGNOLIA HILL WAY', '9570 HARVEST ROSE WAY',\n",
       "       '4359 CREGAN CT', '8929 SUTTERS GOLD DR', '8025 PEERLESS AVE',\n",
       "       '4620 WELERA WAY', '9723 TERRAPIN CT', '100 REBECCA WAY',\n",
       "       '9488 OAK VILLAGE WAY', '8495 DARTFORD DR',\n",
       "       '6708 PONTA DO SOL WAY', '4143 SEA MEADOW WAY',\n",
       "       '15300 MURIETA SOUTH PKWY', '11215 SHARRMONT CT',\n",
       "       '7105 DANBERG WAY', '5579 JERRY LITELL WAY', '1050 FOXHALL WAY',\n",
       "       '7837 ABBINGTON WAY', '1300 F ST', '6801 RAWLEY WAY',\n",
       "       '1693 SHELTER COVE DR', '9361 WADDELL LN', '10 SEA FOAM CT',\n",
       "       '6945 RIO TEJO WAY', '4186 TULIP PARK WAY',\n",
       "       '207 ORANGE BLOSSOM CIR Unit C', '6507 RIO DE ONAR WAY',\n",
       "       '7004 RAWLEY WAY', '6503 RIO DE ONAR WAY', '2217 APPALOOSA CT',\n",
       "       '4004 CRESTA WAY', '6272 LONGFORD DR Unit 1', '3432 Y ST',\n",
       "       '9512 EMERALD PARK DR Unit 3', '3132 CLAY ST', '5221 38TH AVE',\n",
       "       '6112 HERMOSA ST', '483 ARCADE BLVD', '671 SONOMA AVE',\n",
       "       '5980 79TH ST', '7607 ELDER CREEK RD', '5028 14TH AVE',\n",
       "       '1069 ACACIA AVE', '5201 LAGUNA OAKS DR Unit 199',\n",
       "       '3847 LAS PASAS WAY', '5201 LAGUNA OAKS DR Unit 172',\n",
       "       '1121 CREEKSIDE WAY', '5307 CABRILLO WAY', '3725 DON JULIO BLVD',\n",
       "       '4803 MCCLOUD DR', '10542 SILVERWOOD WAY', '6318 39TH AVE',\n",
       "       '211 MCDANIEL CIR', '3800 LYNHURST WAY', '6139 HERMOSA ST',\n",
       "       '2505 RHINE WAY', '3692 PAYNE WAY', '604 MORRISON AVE',\n",
       "       '648 SANTA ANA AVE', '14 ASHLEY OAKS CT', '3174 NORTHVIEW DR',\n",
       "       '840 TRANQUIL LN', '5333 PRIMROSE DR Unit 19A', '1035 MILLET WAY',\n",
       "       '3328 22ND AVE', '8001 HARTWICK WAY', '7812 HARTWICK WAY',\n",
       "       '4207 PAINTER WAY', '7458 WINKLEY WAY', '8354 SUNRISE WOODS WAY',\n",
       "       '8116 COTTONMILL CIR', '4660 CEDARWOOD WAY', '9254 HARROGATE WAY',\n",
       "       '6716 TAREYTON WAY', '2028 ROBERT WAY', '9346 AIZENBERG CIR',\n",
       "       '4524 LOCH HAVEN WAY', '7140 BLUE SPRINGS WAY', '4631 11TH AVE',\n",
       "       '3228 BAGGAN CT', '8515 DARTFORD DR', '4500 TIPPWOOD WAY',\n",
       "       '2460 EL ROCCO WAY', '8244 SUNBIRD WAY', '5841 VALLEY VALE WAY',\n",
       "       '7863 CRESTLEIGH CT', '7129 SPRINGMONT DR', '8284 RED FOX WAY',\n",
       "       '2219 EL CANTO CIR', '8907 GEMWOOD WAY', '5925 MALEVILLE AVE',\n",
       "       '7031 CANEVALLEY CIR', '3949 WILDROSE WAY', '4437 MITCHUM CT',\n",
       "       '8151 QUAIL RIDGE CT', '4899 WIND CREEK DR', '6049 HAMBURG WAY',\n",
       "       '4232 71ST ST', '1889 COLD SPRINGS RD', '5805 HIMALAYA WAY',\n",
       "       '7944 SYLVAN OAK WAY', '6217 LEOLA WAY', '3035 BRUNNET LN',\n",
       "       '3025 EL PRADO WAY', '9387 GRANITE FALLS CT', '9257 CALDERA WAY',\n",
       "       '441 ARLINGDALE CIR', '2284 LOS ROBLES RD', '8164 CHENIN BLANC LN',\n",
       "       '4620 CHAMBERLIN CIR', '5340 BIRK WAY', '51 ANJOU CIR',\n",
       "       '2125 22ND AVE', '7344 BUTTERBALL WAY', '8219 GWINHURST CIR',\n",
       "       '3240 S ST', '5706 GREENACRES WAY', '6900 LONICERA DR',\n",
       "       '419 DAWNRIDGE RD', '5312 MARBURY WAY', '6344 BONHAM CIR',\n",
       "       '8207 YORKTON WAY', '7922 MANSELL WAY', '5712 MELBURY CIR',\n",
       "       '1570 GLIDDEN AVE', '8108 FILIFERA WAY', '5342 CALABRIA WAY',\n",
       "       '47 NAPONEE CT', '8864 REMBRANT CT', '9455 SEA CLIFF WAY',\n",
       "       '9720 LITTLE HARBOR WAY', '8806 PHOENIX AVE',\n",
       "       '3578 LOGGERHEAD WAY', '1416 LOCKHART WAY',\n",
       "       '5413 BUENA VENTURA WAY', '37 WHITE BIRCH CT',\n",
       "       '405 MARLIN SPIKE WAY', '7320 6TH ST', '993 MANTON CT',\n",
       "       '4487 PANORAMA DR', '5651 OVERLEAF WAY',\n",
       "       '2015 PROMONTORY POINT LN', '8 RIVER RAFT CT', '2251 LAMPLIGHT LN',\n",
       "       '106 FARHAM DR', '5405 NECTAR CIR', '5411 10TH AVE',\n",
       "       '3512 RAINSONG CIR', '1106 55TH ST', '411 ILLSLEY WAY',\n",
       "       '796 BUTTERCUP CIR', '1230 SANDRA CIR', '318 ANACAPA DR',\n",
       "       '3975 SHINING STAR DR', '1620 BASLER ST', '9688 NATURE TRAIL WAY',\n",
       "       '9629 CEDAR OAK WAY', '3429 FERNBROOK CT', '2121 HANNAH WAY',\n",
       "       '10104 ANNIE ST', '1092 MAUGHAM CT', '6306 CONEJO', '427 21ST ST',\n",
       "       '1044 GALSTON DR', '4440 SYCAMORE AVE', '9760 LAZULITE CT',\n",
       "       '241 LANFRANCO CIR', '5559 NORTHBOROUGH DR', '2109 HAMLET PL',\n",
       "       '9970 STATE HIGHWAY 193', '2901 PINTAIL WAY', '7756 TIGERWOODS DR',\n",
       "       '5709 RIVER OAK WAY', '2981 WRINGER DR', '4128 HILL ST',\n",
       "       '1409 47TH ST', '3935 EL MONTE DR', '5840 WALERGA RD',\n",
       "       '923 FULTON AVE', '261 REDONDO AVE', '4030 BROADWAY',\n",
       "       '3660 22ND AVE', '3924 HIGH ST', '4734 14TH AVE',\n",
       "       '5050 RHODE ISLAND DR Unit 4', '4513 GREENHOLME DR', '3845 ELM ST',\n",
       "       '3908 17TH AVE', '7109 CHANDLER DR', '7541 SKELTON WAY',\n",
       "       '9058 MONTOYA ST', '1016 CONGRESS AVE', '540 MORRISON AVE',\n",
       "       '5303 JERRETT WAY', '2820 DEL PASO BLVD',\n",
       "       '3715 TALLYHO DR Unit 78HIGH', '6013 ROWAN WAY',\n",
       "       '2987 PONDEROSA LN', '3732 LANKERSHIM WAY', '2216 DUNLAP DR',\n",
       "       '3503 21ST AVE', '523 EXCHANGE ST', '8101 PORT ROYALE WAY',\n",
       "       '8020 WALERGA RD', '167 VALLEY OAK DR', '7876 BURLINGTON WAY',\n",
       "       '3726 JONKO AVE', '7342 GIGI PL', '2610 PHYLLIS AVE',\n",
       "       '4200 COMMERCE WAY Unit 711', '4621 COUNTRY SCENE WAY',\n",
       "       '5380 VILLAGE WOOD DR', '2621 EVERGREEN ST', '201 CARLO CT',\n",
       "       '6743 21ST ST', '3128 VIA GRANDE', '2847 BELGRADE WAY',\n",
       "       '7741 MILLDALE CIR', '9013 CASALS ST', '227 MAHAN CT Unit 1',\n",
       "       '7349 FLETCHER FARM DR', '7226 LARCHMONT DR', '4114 35TH AVE',\n",
       "       '617 M ST', '7032 FAIR OAKS BLVD', '2421 SANTINA WAY',\n",
       "       '2368 CRAIG AVE', '2123 AMANDA WAY', '7620 DARLA WAY',\n",
       "       '8344 FIELDPOPPY CIR', '3624 20TH AVE', '2848 PROVO WAY',\n",
       "       '6045 EHRHARDT AVE', '1223 LAMBERTON CIR', '6000 BIRCHGLADE WAY',\n",
       "       '7204 THOMAS DR', '8363 LANGTREE WAY', '1675 VERNON ST Unit 8',\n",
       "       '6632 IBEX WOODS CT', '117 EVCAR WAY', '6485 LAGUNA MIRAGE LN',\n",
       "       '746 MOOSE CREEK WAY', '8306 CURLEW CT', '5217 ARGO WAY',\n",
       "       '7108 HEATHER TREE DR', '2956 DAVENPORT WAY',\n",
       "       '10062 LINCOLN VILLAGE DR', '332 PALIN AVE', '4649 FREEWAY CIR',\n",
       "       '8593 DERLIN WAY', '9273 PREMIER WAY', '8032 DUSENBERG CT',\n",
       "       '7110 STELLA LN Unit 15', '1786 PIEDMONT WAY', '1347 HIDALGO CIR',\n",
       "       '212 CAPPUCINO WAY', '5938 WOODBRIAR WAY', '3801 WILDROSE WAY',\n",
       "       '508 SAMUEL WAY', '6128 CARL SANDBURG CIR', '1 KENNELFORD CIR',\n",
       "       '909 SINGINGWOOD RD', '6671 FOXWOOD CT', '8165 AYN RAND CT',\n",
       "       '9474 VILLAGE TREE DR', '7213 CALVIN DR', '8167 DERBY PARK CT',\n",
       "       '6344 LAGUNA MIRAGE LN', '2945 RED HAWK WAY', '3228 I ST',\n",
       "       '308 ATKINSON ST', '624 HOVEY WAY', '110 COPPER LEAF WAY',\n",
       "       '7535 ALMA VISTA WAY', '7423 WILSALL CT', '8629 VIA ALTA WAY',\n",
       "       '3318 DAVIDSON DR', '913 COBDEN CT', '4419 79TH ST',\n",
       "       '3012 SPOONWOOD WAY', '8728 CRYSTAL RIVER WAY',\n",
       "       '4709 AMBER LN Unit 1', '4508 OLD DAIRY DR', '312 RIVER ISLE WAY',\n",
       "       '301 OLIVADI WAY', '5636 25TH ST', '8721 SPRUCE RIDGE WAY',\n",
       "       '7461 WINDBRIDGE DR', '8101 LEMON COVE CT', '10949 SCOTSMAN WAY',\n",
       "       '617 WILLOW CREEK DR', '3301 PARK DR Unit 1914', '709 CIMMARON CT',\n",
       "       '3305 RIO ROCA CT', '9080 BEDROCK CT', '100 TOURMALINE CIR',\n",
       "       '6411 RED BIRCH WAY', '4867 LAGUNA DR', '3662 RIVER DR',\n",
       "       '6943 WOLFGRAM WAY', '77 RINETTI WAY', '1316 I ST',\n",
       "       '2130 CATHERWOOD WAY', '8304 JUGLANS DR', '5308 MARBURY WAY',\n",
       "       '9182 LAKEMONT DR', '2231 COUNTRY VILLA CT', '361 MAHONIA CIR',\n",
       "       '3427 LA CADENA WAY', '955 BIG SUR CT', '11826 DIONYSUS WAY',\n",
       "       '5847 DEL CAMPO LN', '5635 FOXVIEW WAY', '10372 VIA CINTA CT',\n",
       "       '7744 SOUTHBREEZE DR', '2242 ABLE WAY', '1042 STARBROOK DR',\n",
       "       '1219 G ST', '6220 OPUS CT', '5419 HAVENHURST CIR',\n",
       "       '220 OLD AIRPORT RD', '4622 MEYER WAY', '4885 SUMMIT VIEW DR',\n",
       "       '26 JEANROSS CT', '4800 MAPLEPLAIN AVE', '10629 BASIE WAY',\n",
       "       '8612 WILLOW GROVE WAY', '62 DE FER CIR', '3253 ABOTO WAY',\n",
       "       '251 CHANGO CIR', '8205 WEYBURN CT', '8788 LA MARGARITA WAY',\n",
       "       '5912 DEEPDALE WAY', '4712 PISMO BEACH DR', '4741 PACIFIC PARK DR',\n",
       "       '310 GROTH CIR', '6121 WILD FOX CT', '29 COOL FOUNTAIN CT',\n",
       "       '8909 BILLFISH WAY', '6232 GUS WAY', '200 OAKWILDE ST',\n",
       "       '200 ALLAIRE CIR', '5479 NICKMAN WAY', '2103 BURBERRY WAY',\n",
       "       '2450 SAN JOSE WAY', '2802 BLACK OAK DR', '10112 LAMBEAU CT',\n",
       "       '3622 CURTIS DR', '11817 OPAL RIDGE WAY', '170 LAGOMARSINO WAY',\n",
       "       '3361 ALDER CANYON WAY', '398 LINDLEY DR', '169 BAURER CIR',\n",
       "       '1315 KONDOS AVE', '4966 CHARTER RD', '9516 LAGUNA LAKE WAY',\n",
       "       '5201 BLOSSOM RANCH DR', '3027 PALMATE WAY', '500 WINCHESTER CT',\n",
       "       '6935 ELM TREE LN', '9605 GOLF COURSE LN', '100 CHELSEA CT',\n",
       "       '1500 ORANGE HILL LN', '2049 EMPIRE MINE CIR', '9360 MAGOS RD',\n",
       "       '104 CATLIN CT', '4734 GIBBONS DR', '4629 DORCHESTER LN',\n",
       "       '2400 COUNTRYSIDE DR', '12901 FURLONG DR',\n",
       "       '6222 CALLE MONTALVO CIR', '8208 WOODYARD WAY', '15 LOORZ CT',\n",
       "       '5805 DOTMAR WAY', '2332 CAMBRIDGE ST', '3812 BELDEN ST',\n",
       "       '3348 40TH ST', '127 QUASAR CIR', '3812 CYPRESS ST',\n",
       "       '5821 64TH ST', '8248 CENTER PKWY', '1171 SONOMA AVE',\n",
       "       '4250 ARDWELL WAY', '3104 CLAY ST', '6063 LAND PARK DR',\n",
       "       '4738 OAKHOLLOW DR', '1401 STERLING ST', '3715 DIDCOT CIR',\n",
       "       '2426 RASHAWN DR', '4800 WESTLAKE PKWY Unit 410', '3409 VIRGO ST',\n",
       "       '1110 PINEDALE AVE', '2361 LA LOMA DR', '1455 64TH AVE',\n",
       "       '7328 SPRINGMAN ST', '119 SAINT MARIE CIR', '12 COSTA BRASE CT',\n",
       "       '6813 SCOTER WAY', '6548 GRAYLOCK LN', '1630 GLIDDEN AVE',\n",
       "       '7825 DALEWOODS WAY', '4073 TRESLER AVE', '4288 DYMIC WAY',\n",
       "       '1158 SAN IGNACIO WAY', '4904 J PKWY', '2931 HOWE AVE',\n",
       "       '5531 JANSEN DR', '7836 ORCHARD WOODS CIR', '4055 DEERBROOK DR',\n",
       "       '9937 BURLINE ST', '6948 MIRADOR WAY', '4909 RUGER CT',\n",
       "       '7204 KERSTEN ST', '3150 ROSEMONT DR', '8200 STEINBECK WAY',\n",
       "       '8198 STEVENSON AVE', '6824 OLIVE TREE WAY', '3536 SUN MAIDEN WAY',\n",
       "       '4517 OLYMPIAD WAY', '925 COBDEN CT', '8225 SCOTTSDALE DR',\n",
       "       '8758 LEMAS RD', '6121 ALPINESPRING WAY', '5937 YORK GLEN WAY',\n",
       "       '6417 SUNNYFIELD WAY', '4008 GREY LIVERY WAY', '8920 ROSETTA CIR',\n",
       "       '8300 LICHEN DR', '8884 AMBERJACK WAY', '4480 VALLEY HI DR',\n",
       "       '2250 FOREBAY RD', '3529 FABERGE WAY', '1792 DAWNELLE WAY',\n",
       "       '7800 TABARE CT', '8531 HERMITAGE WAY', '2421 BERRYWOOD DR',\n",
       "       '1005 MORENO WAY', '1675 VERNON ST Unit 24', '24 WINDCHIME CT',\n",
       "       '540 HARLING CT', '1207 CRESCENDO DR', '7577 EDDYLEE WAY',\n",
       "       '8369 FOPPIANO WAY', '8817 SAWTELLE WAY', '1910 BONAVISTA WAY',\n",
       "       '8 TIDE CT', '8952 ROCKY CREEK CT', '435 EXCHANGE ST',\n",
       "       '10105 MONTE VALLO CT', '3930 ANNABELLE AVE', '4854 TANGERINE AVE',\n",
       "       '2909 SHAWN WAY', '4290 BLACKFORD WAY', '7015 WOODSIDE DR',\n",
       "       '6019 CHESHIRE WAY', '2561 VERNA WAY', '3522 22ND AVE',\n",
       "       '2880 CANDIDO DR', '6908 PIN OAK CT', '5733 ANGELINA AVE',\n",
       "       '7849 BONNY DOWNS WAY', '8716 LONGSPUR WAY', '6320 EL DORADO ST',\n",
       "       '2328 DOROTHY JUNE WAY', '1986 DANVERS WAY',\n",
       "       '7901 GAZELLE TRAIL WAY', '6080 BRIDGECROSS DR', '20 GROTH CIR',\n",
       "       '8442 KEUSMAN ST', '9552 SUNLIGHT LN', '1407 TIFFANY CIR',\n",
       "       '636 CRESTVIEW DR', '1528 HESKET WAY', '2327 32ND ST',\n",
       "       '1833 2ND AVE', '7252 CARRIAGE DR', '9815 PASO FINO WAY',\n",
       "       '5532 ENGLE RD', '1139 CLINTON RD', '9176 SAGE GLEN WAY',\n",
       "       '9264 BOULDER RIVER WAY', '320 GROTH CIR', '137 GUNNISON AVE',\n",
       "       '8209 RIVALLO WAY', '8637 PERIWINKLE CIR', '3425 MEADOW WAY',\n",
       "       '107 JARVIS CIR', '2319 THORES ST', '8935 MOUNTAIN HOME CT',\n",
       "       '2566 SERENATA WAY', '4085 COUNTRY DR', '9297 TROUT WAY',\n",
       "       '7 ARCHIBALD CT', '11130 EEL RIVER CT', '8323 REDBANK WAY',\n",
       "       '16 BRONCO CREEK CT', '8316 NORTHAM DR', '4240 WINJE DR',\n",
       "       '5118 ROBANDER ST', '5976 KYLENCH CT', '9247 DELAIR WAY',\n",
       "       '9054 DESCENDANT DR', '3450 WHITNOR CT', '9355 MATADOR WAY',\n",
       "       '8671 SUMMER SUN WAY', '1890 GENEVA PL', '1813 AVENIDA MARTINA',\n",
       "       '191 BARNHART CIR', '6221 GREEN TOP WAY', '2298 PRIMROSE LN',\n",
       "       '5635 LOS PUEBLOS WAY', '10165 LOFTON WAY', '9949 NESTLING CIR',\n",
       "       '2915 HOLDREGE WAY', '2678 BRIARTON DR', '294 SPARROW DR',\n",
       "       '2987 DIORITE WAY', '6326 APPIAN WAY', '6905 COBALT WAY',\n",
       "       '8986 HAFLINGER WAY', '2916 BABSON DR', '10133 NEBBIOLO CT',\n",
       "       '1103 COMMONS DR', '4636 TEAL BAY CT', '1524 YOUNGS AVE',\n",
       "       '8463 TERRACOTTA CT', '5747 KING RD', '9204 TROUT WAY',\n",
       "       '1828 2ND AVE', '1113 COMMONS DR', '2341 BIG STRIKE TRL',\n",
       "       '9452 RED SPRUCE WAY', '5776 TERRACE DR', '5908 MCLEAN DR',\n",
       "       '8215 PEREGRINE WAY', '2949 PANAMA AVE', '1356 HARTLEY WAY',\n",
       "       '633 HANISCH DR', '63 ANGEL ISLAND CIR', '1571 WILD OAK LN',\n",
       "       '5601 SPINDRIFT LN', '652 FIFTEEN MILE DR', '7921 DOE TRAIL WAY',\n",
       "       '4204 LUSK DR', '5608 ROSEDALE WAY', '3372 BERETANIA WAY',\n",
       "       '2422 STEFANIE DR', '1214 DAWNWOOD DR', '3349 CORVINA DR',\n",
       "       '10254 JULIANA WAY', '149 OPUS CIR', '580 REGENCY PARK CIR',\n",
       "       '5544 CAMAS CT', '5102 ARCHCREST WAY', '5725 BALFOR RD',\n",
       "       '4821 HUTSON WAY', '4509 WINJE DR', '6709 ROSE BRIDGE DR',\n",
       "       '281 SPYGLASS HL', '7709 RIVER VILLAGE DR', '506 BEDFORD CT',\n",
       "       '9048 PINTO CANYON WAY', '14004 WALNUT AVE', '6905 FRANKFORT CT',\n",
       "       '3621 WINTUN DR', '1975 SIDESADDLE WAY', '9677 PILLITERI CT',\n",
       "       '556 PLATT CIR', '1124 PERKINS WAY', '4748 SALEM WAY',\n",
       "       '1484 RADCLIFFE WAY', '51 AIKEN WAY', '700 HUNTER PL',\n",
       "       '1240 FAY CIR', '1113 SANDWICK WAY', '3108 DELWOOD WAY',\n",
       "       '3212 CORNICHE LN', '8217 PLUMERIA AVE', '3863 LAS PASAS WAY',\n",
       "       '1165 37TH ST', '203 CASCADE FALLS DR', '9880 IZILDA CT',\n",
       "       '620 KESWICK CT', '8432 BRIGGS DR', '9401 BARREL RACER CT',\n",
       "       '7401 TOULON LN', '9127 NEWHALL DR Unit 34', '5937 BAMFORD DR',\n",
       "       '5672 HILLSDALE BLVD', '3920 39TH ST', '701 JESSIE AVE',\n",
       "       '83 ARCADE BLVD', '601 REGGINALD WAY', '550 DEL VERDE CIR',\n",
       "       '4113 DAYSTAR CT', '7374 TISDALE WAY', '3348 RIO LINDA BLVD',\n",
       "       '3935 LIMESTONE WAY', '6208 GRATTAN WAY',\n",
       "       '739 E WOODSIDE LN Unit E', '4225 46TH AVE', '1434 BELL AVE',\n",
       "       '5628 GEORGIA DR', '7629 BETH ST', '2277 BABETTE WAY',\n",
       "       '6561 WEATHERFORD WAY', '5136 CABOT CIR', '7730 ROBINETTE RD',\n",
       "       '87 LACAM CIR', '1691 NOGALES ST', '3118 42ND ST', '7517 50TH AVE',\n",
       "       '4071 EVALITA WAY', '7928 36TH AVE', '6631 DEMARET DR',\n",
       "       '7043 9TH AVE', '97 KENNELFORD CIR', '2636 TRONERO WAY',\n",
       "       '3604 KODIAK WAY', '2149 COTTAGE WAY', '8632 PRAIRIEWOODS DR',\n",
       "       '612 STONE BLVD', '4180 12TH AVE', '8025 ARROYO VISTA DR',\n",
       "       '5754 WALERGA RD Unit 4', '8 LA ROCAS CT', '8636 LONGSPUR WAY',\n",
       "       '1941 EXPEDITION WAY', '4351 TURNBRIDGE DR', '6513 HOLIDAY WAY',\n",
       "       '8321 MISTLETOE WAY', '5920 VALLEY GLEN WAY',\n",
       "       '2601 SAN FERNANDO WAY', '8008 SAINT HELENA CT', '6517 DONEGAL DR',\n",
       "       '1001 RIO NORTE WAY', '604 P ST', '7351 GIGI PL',\n",
       "       '7740 DIXIE LOU ST', '7342 DAVE ST', '7687 HOWERTON DR',\n",
       "       '26 KAMSON CT', '7045 PEEVEY CT', '8916 GABLES MILL PL',\n",
       "       '1140 EDMONTON DR', '8879 APPLE PEAR CT', '9 WIND CT',\n",
       "       '8570 SHERATON DR', '1080 RIO NORTE WAY', '5501 VALLETTA WAY',\n",
       "       '5624 MEMORY LN', '6622 WILLOWLEAF DR', '27 MEGAN CT',\n",
       "       '6601 WOODMORE OAKS DR', '1973 DANVERS WAY',\n",
       "       '8001 ARROYO VISTA DR', '7409 VOYAGER WAY', '815 CROSSWIND DR',\n",
       "       '5509 LAGUNA CREST WAY', '8424 MERRY HILL WAY',\n",
       "       '5954 BRIDGECROSS DR', '8789 SEQUOIA WOOD CT',\n",
       "       '6600 SILVERTHORNE CIR', '2221 2ND AVE', '3230 SMATHERS WAY',\n",
       "       '5209 LAGUNA CREST WAY', '416 LEITCH AVE', '2100 BEATTY WAY',\n",
       "       '6920 GILLINGHAM WAY', '82 WILDFLOWER DR', '8652 BANTON CIR',\n",
       "       '8428 MISTY PASS WAY', '7958 ROSEVIEW WAY', '9020 LUKEN CT',\n",
       "       '7809 VALLECITOS WAY', '8445 OLD AUBURN RD', '10085 ATKINS DR',\n",
       "       '9185 CERROLINDA CIR', '5429 HESPER WAY', '1178 WARMWOOD CT',\n",
       "       '4900 ELUDE CT', '3528 SAINT GEORGE DR', '7381 WASHBURN WAY',\n",
       "       '7540 HICKORY AVE', '5024 CHAMBERLIN CIR', '2400 INVERNESS DR',\n",
       "       '5 BISHOPGATE CT', '5601 REXLEIGH DR', '1909 YARNELL WAY',\n",
       "       '9169 GARLINGTON CT', '6932 RUSKUT WAY', '7933 DAFFODIL WAY',\n",
       "       '8304 RED FOX WAY', '3882 YELLOWSTONE LN'], dtype=object)"
      ]
     },
     "execution_count": 18,
     "metadata": {},
     "output_type": "execute_result"
    }
   ],
   "source": [
    "# Check categorical variables.\n",
    "# Street name.\n",
    "df_nonzero['street'].unique()"
   ]
  },
  {
   "cell_type": "code",
   "execution_count": 19,
   "metadata": {},
   "outputs": [
    {
     "data": {
      "text/plain": [
       "array(['SACRAMENTO', 'RANCHO CORDOVA', 'RIO LINDA', 'CITRUS HEIGHTS',\n",
       "       'NORTH HIGHLANDS', 'ANTELOPE', 'ELK GROVE', 'ELVERTA', 'GALT',\n",
       "       'CARMICHAEL', 'ORANGEVALE', 'FOLSOM', 'MATHER', 'POLLOCK PINES',\n",
       "       'GOLD RIVER', 'RANCHO MURIETA', 'WILTON', 'GREENWOOD', 'FAIR OAKS',\n",
       "       'PLACERVILLE', 'MEADOW VISTA', 'ROSEVILLE', 'LINCOLN',\n",
       "       'CAMERON PARK', 'ROCKLIN', 'LOOMIS', 'AUBURN', 'EL DORADO HILLS',\n",
       "       'EL DORADO', 'PENRYN', 'GRANITE BAY', 'DIAMOND SPRINGS', 'COOL',\n",
       "       'WALNUT GROVE', 'WEST SACRAMENTO'], dtype=object)"
      ]
     },
     "execution_count": 19,
     "metadata": {},
     "output_type": "execute_result"
    }
   ],
   "source": [
    "# Check city name.\n",
    "df_nonzero['city'].unique()"
   ]
  },
  {
   "cell_type": "code",
   "execution_count": 20,
   "metadata": {},
   "outputs": [],
   "source": [
    "# df_nonzero['city'].value_counts()"
   ]
  },
  {
   "cell_type": "code",
   "execution_count": 21,
   "metadata": {},
   "outputs": [
    {
     "data": {
      "text/plain": [
       "array(['Residential', 'Condo', 'Multi-Family'], dtype=object)"
      ]
     },
     "execution_count": 21,
     "metadata": {},
     "output_type": "execute_result"
    }
   ],
   "source": [
    "# Check property type.\n",
    "df_nonzero['type'].unique()"
   ]
  },
  {
   "cell_type": "code",
   "execution_count": 22,
   "metadata": {},
   "outputs": [
    {
     "data": {
      "text/html": [
       "<div>\n",
       "<style scoped>\n",
       "    .dataframe tbody tr th:only-of-type {\n",
       "        vertical-align: middle;\n",
       "    }\n",
       "\n",
       "    .dataframe tbody tr th {\n",
       "        vertical-align: top;\n",
       "    }\n",
       "\n",
       "    .dataframe thead th {\n",
       "        text-align: right;\n",
       "    }\n",
       "</style>\n",
       "<table border=\"1\" class=\"dataframe\">\n",
       "  <thead>\n",
       "    <tr style=\"text-align: right;\">\n",
       "      <th></th>\n",
       "      <th>street</th>\n",
       "      <th>city</th>\n",
       "      <th>beds</th>\n",
       "      <th>baths</th>\n",
       "      <th>sq__ft</th>\n",
       "      <th>type</th>\n",
       "      <th>price</th>\n",
       "    </tr>\n",
       "  </thead>\n",
       "  <tbody>\n",
       "    <tr>\n",
       "      <th>0</th>\n",
       "      <td>3526 HIGH ST</td>\n",
       "      <td>SACRAMENTO</td>\n",
       "      <td>2</td>\n",
       "      <td>1</td>\n",
       "      <td>836</td>\n",
       "      <td>Residential</td>\n",
       "      <td>59222</td>\n",
       "    </tr>\n",
       "    <tr>\n",
       "      <th>1</th>\n",
       "      <td>51 OMAHA CT</td>\n",
       "      <td>SACRAMENTO</td>\n",
       "      <td>3</td>\n",
       "      <td>1</td>\n",
       "      <td>1167</td>\n",
       "      <td>Residential</td>\n",
       "      <td>68212</td>\n",
       "    </tr>\n",
       "    <tr>\n",
       "      <th>2</th>\n",
       "      <td>2796 BRANCH ST</td>\n",
       "      <td>SACRAMENTO</td>\n",
       "      <td>2</td>\n",
       "      <td>1</td>\n",
       "      <td>796</td>\n",
       "      <td>Residential</td>\n",
       "      <td>68880</td>\n",
       "    </tr>\n",
       "    <tr>\n",
       "      <th>3</th>\n",
       "      <td>2805 JANETTE WAY</td>\n",
       "      <td>SACRAMENTO</td>\n",
       "      <td>2</td>\n",
       "      <td>1</td>\n",
       "      <td>852</td>\n",
       "      <td>Residential</td>\n",
       "      <td>69307</td>\n",
       "    </tr>\n",
       "    <tr>\n",
       "      <th>4</th>\n",
       "      <td>6001 MCMAHON DR</td>\n",
       "      <td>SACRAMENTO</td>\n",
       "      <td>2</td>\n",
       "      <td>1</td>\n",
       "      <td>797</td>\n",
       "      <td>Residential</td>\n",
       "      <td>81900</td>\n",
       "    </tr>\n",
       "    <tr>\n",
       "      <th>...</th>\n",
       "      <td>...</td>\n",
       "      <td>...</td>\n",
       "      <td>...</td>\n",
       "      <td>...</td>\n",
       "      <td>...</td>\n",
       "      <td>...</td>\n",
       "      <td>...</td>\n",
       "    </tr>\n",
       "    <tr>\n",
       "      <th>980</th>\n",
       "      <td>9169 GARLINGTON CT</td>\n",
       "      <td>SACRAMENTO</td>\n",
       "      <td>4</td>\n",
       "      <td>3</td>\n",
       "      <td>2280</td>\n",
       "      <td>Residential</td>\n",
       "      <td>232425</td>\n",
       "    </tr>\n",
       "    <tr>\n",
       "      <th>981</th>\n",
       "      <td>6932 RUSKUT WAY</td>\n",
       "      <td>SACRAMENTO</td>\n",
       "      <td>3</td>\n",
       "      <td>2</td>\n",
       "      <td>1477</td>\n",
       "      <td>Residential</td>\n",
       "      <td>234000</td>\n",
       "    </tr>\n",
       "    <tr>\n",
       "      <th>982</th>\n",
       "      <td>7933 DAFFODIL WAY</td>\n",
       "      <td>CITRUS HEIGHTS</td>\n",
       "      <td>3</td>\n",
       "      <td>2</td>\n",
       "      <td>1216</td>\n",
       "      <td>Residential</td>\n",
       "      <td>235000</td>\n",
       "    </tr>\n",
       "    <tr>\n",
       "      <th>983</th>\n",
       "      <td>8304 RED FOX WAY</td>\n",
       "      <td>ELK GROVE</td>\n",
       "      <td>4</td>\n",
       "      <td>2</td>\n",
       "      <td>1685</td>\n",
       "      <td>Residential</td>\n",
       "      <td>235301</td>\n",
       "    </tr>\n",
       "    <tr>\n",
       "      <th>984</th>\n",
       "      <td>3882 YELLOWSTONE LN</td>\n",
       "      <td>EL DORADO HILLS</td>\n",
       "      <td>3</td>\n",
       "      <td>2</td>\n",
       "      <td>1362</td>\n",
       "      <td>Residential</td>\n",
       "      <td>235738</td>\n",
       "    </tr>\n",
       "  </tbody>\n",
       "</table>\n",
       "<p>812 rows × 7 columns</p>\n",
       "</div>"
      ],
      "text/plain": [
       "                  street             city  beds  baths  sq__ft         type  \\\n",
       "0           3526 HIGH ST       SACRAMENTO     2      1     836  Residential   \n",
       "1            51 OMAHA CT       SACRAMENTO     3      1    1167  Residential   \n",
       "2         2796 BRANCH ST       SACRAMENTO     2      1     796  Residential   \n",
       "3       2805 JANETTE WAY       SACRAMENTO     2      1     852  Residential   \n",
       "4        6001 MCMAHON DR       SACRAMENTO     2      1     797  Residential   \n",
       "..                   ...              ...   ...    ...     ...          ...   \n",
       "980   9169 GARLINGTON CT       SACRAMENTO     4      3    2280  Residential   \n",
       "981      6932 RUSKUT WAY       SACRAMENTO     3      2    1477  Residential   \n",
       "982    7933 DAFFODIL WAY   CITRUS HEIGHTS     3      2    1216  Residential   \n",
       "983     8304 RED FOX WAY        ELK GROVE     4      2    1685  Residential   \n",
       "984  3882 YELLOWSTONE LN  EL DORADO HILLS     3      2    1362  Residential   \n",
       "\n",
       "      price  \n",
       "0     59222  \n",
       "1     68212  \n",
       "2     68880  \n",
       "3     69307  \n",
       "4     81900  \n",
       "..      ...  \n",
       "980  232425  \n",
       "981  234000  \n",
       "982  235000  \n",
       "983  235301  \n",
       "984  235738  \n",
       "\n",
       "[812 rows x 7 columns]"
      ]
     },
     "execution_count": 22,
     "metadata": {},
     "output_type": "execute_result"
    }
   ],
   "source": [
    "# Final check data look\n",
    "df_nonzero"
   ]
  },
  {
   "cell_type": "markdown",
   "metadata": {},
   "source": [
    "When you've finished cleaning or have made a good deal of progress cleaning, it's always a good idea to save your work. Use the pandas `to_csv` method to export your cleaned dataset.\n",
    "\n",
    "```python\n",
    "# example -- your dataframe name may be different\n",
    "dataframe.to_csv('./datasets/sacramento_cleaned_dataframe.csv', index=False)\n",
    "\n",
    "```"
   ]
  },
  {
   "cell_type": "code",
   "execution_count": 23,
   "metadata": {},
   "outputs": [],
   "source": [
    "df_nonzero.to_csv('./datasets/sacramento_dropzero.csv', index=False)"
   ]
  },
  {
   "cell_type": "markdown",
   "metadata": {},
   "source": [
    "### 3. Our goal will be to predict price. List variables that you think qualify as predictors of price in an SLR model.\n",
    "\n",
    "For each of the variables you believe should be considered, generate a plot showing the relationship between the independent and dependent variables."
   ]
  },
  {
   "cell_type": "code",
   "execution_count": 24,
   "metadata": {},
   "outputs": [
    {
     "data": {
      "image/png": "[encoded data removed]",
      "text/plain": [
       "<Figure size 288x720 with 2 Axes>"
      ]
     },
     "metadata": {
      "needs_background": "light"
     },
     "output_type": "display_data"
    }
   ],
   "source": [
    "corr = df_nonzero.corr()[['price']].sort_values(by='price', ascending=False).head(10)\n",
    "\n",
    "plt.figure(figsize=(4, 10))\n",
    "sns.heatmap(corr, annot=True, cmap='bone');"
   ]
  },
  {
   "cell_type": "code",
   "execution_count": 25,
   "metadata": {},
   "outputs": [
    {
     "data": {
      "image/png": "[encoded data removed]",
      "text/plain": [
       "<Figure size 432x288 with 1 Axes>"
      ]
     },
     "metadata": {
      "needs_background": "light"
     },
     "output_type": "display_data"
    }
   ],
   "source": [
    "# Plot price vs. size\n",
    "plt.scatter(df_nonzero['sq__ft'], df_nonzero['price'])\n",
    "plt.xlabel('Size (sq.ft.)')\n",
    "plt.ylabel('Price')\n",
    "plt.title('Price vs. Size');"
   ]
  },
  {
   "cell_type": "markdown",
   "metadata": {},
   "source": [
    "### 4. Which variable would be the best predictor of Y in an SLR model? Why?"
   ]
  },
  {
   "cell_type": "code",
   "execution_count": 26,
   "metadata": {},
   "outputs": [],
   "source": [
    "#sq__ft variable because the feature's correlation is highest among all features."
   ]
  },
  {
   "cell_type": "markdown",
   "metadata": {},
   "source": [
    "### 5. Write a function that will take in two lists, `x` and `y`, and return the intercept and slope coefficients that minimize SSE. \n",
    "\n",
    "`y` is the target variable, and `x` is the predictor variable.\n",
    "\n",
    "**Don't use scikit-learn for this**. Instead, use numpy and scipy.\n",
    "\n",
    "The slope and intercept of simple linear regression can be calculated by using certain summary statistics. In particular, we'll need to know:\n",
    "\n",
    "- $\\bar{x}$, the mean of `x`\n",
    "- $\\bar{y}$, the mean of `y`\n",
    "- $s_{x}$, the standard deviation of `x`\n",
    "- $s_{y}$, the standard deviation of `y`\n",
    "- $r_{xy}$, the correlation of `x` and `y`\n",
    "\n",
    "Given these summary statistics, the **coefficient on `X`** (or the slope) can be given by $\\beta_{1} = r_{xy} * \\frac{s_{y}}{s_{x}}$. The **intercept of the model** can be given by $\\beta_{0} = \\bar{y} - \\beta_{1}\\bar{x}$.\n",
    "\n",
    "Your function should take in `x` and `y`, then use the above summary statistics to calculate the slope and intercept.\n",
    "\n",
    "- **Test your function on price and the variable you determined was the best predictor in Problem 4.**\n",
    "- **Report the slope and intercept.**"
   ]
  },
  {
   "cell_type": "code",
   "execution_count": 27,
   "metadata": {},
   "outputs": [],
   "source": [
    "def simple_linear(x, y):\n",
    "    corr = pd.DataFrame({'x': x, 'y': y}).corr()['x'][1]\n",
    "    b1 = corr * statistics.stdev(y) / statistics.stdev(x)\n",
    "    b0 = np.mean(y) - b1 * np.mean(x)\n",
    "    print(f'Y interception of model: {b0}, Slope of model: {b1}')\n",
    "    return (b0, b1)"
   ]
  },
  {
   "cell_type": "code",
   "execution_count": 28,
   "metadata": {},
   "outputs": [
    {
     "name": "stdout",
     "output_type": "stream",
     "text": [
      "Y interception of model: 15943.749961489084, Slope of model: 134.7512075418883\n"
     ]
    },
    {
     "data": {
      "text/plain": [
       "(15943.749961489084, 134.7512075418883)"
      ]
     },
     "execution_count": 28,
     "metadata": {},
     "output_type": "execute_result"
    }
   ],
   "source": [
    "simple_linear(df_nonzero['sq__ft'], df_nonzero['price'])"
   ]
  },
  {
   "cell_type": "code",
   "execution_count": 29,
   "metadata": {},
   "outputs": [
    {
     "name": "stdout",
     "output_type": "stream",
     "text": [
      "15943.749961489317\n",
      "[134.75120754]\n",
      "0.5312391921867458\n"
     ]
    }
   ],
   "source": [
    "# Test with sklearn regresion \n",
    "X = df_nonzero[['sq__ft']]\n",
    "y = df_nonzero['price']\n",
    "\n",
    "lr = LinearRegression()\n",
    "lr.fit(X, y)\n",
    "print(lr.intercept_)\n",
    "print(lr.coef_)\n",
    "print(lr.score(X, y))"
   ]
  },
  {
   "cell_type": "markdown",
   "metadata": {},
   "source": [
    "### 6. Interpret the intercept and the slope."
   ]
  },
  {
   "cell_type": "code",
   "execution_count": 30,
   "metadata": {},
   "outputs": [],
   "source": [
    "# Y interception: If there is no effect of x, which is sq__ft = 0, the expected house price would be about 15,943 USD.\n",
    "# It should be avoided from interpretation because it dose not make sense to have house that is 0 sq.ft.  \n",
    "\n",
    "# Slope: If property size increases 1 sq.ft., property price will increases about 134.75 USD."
   ]
  },
  {
   "cell_type": "markdown",
   "metadata": {},
   "source": [
    "### 7. Give an example of how this model could be used for prediction and how it could be used for inference. \n",
    "\n",
    "**Be sure to make it clear which example is associated with prediction and which is associated with inference.**"
   ]
  },
  {
   "cell_type": "code",
   "execution_count": 31,
   "metadata": {},
   "outputs": [],
   "source": [
    "# Inference example:\n",
    "## To understand relationship of property size and its price.\n",
    "\n",
    "# Prediction example:\n",
    "## To predict property price from given property size."
   ]
  },
  {
   "cell_type": "markdown",
   "metadata": {},
   "source": [
    "### 8: Using the model you came up with in Problem 5, calculate and plot the residuals."
   ]
  },
  {
   "cell_type": "code",
   "execution_count": 32,
   "metadata": {},
   "outputs": [
    {
     "name": "stdout",
     "output_type": "stream",
     "text": [
      "Y interception of model: 15943.749961489084, Slope of model: 134.7512075418883\n"
     ]
    },
    {
     "data": {
      "image/png": "[encoded data removed]",
      "text/plain": [
       "<Figure size 936x576 with 1 Axes>"
      ]
     },
     "metadata": {
      "needs_background": "light"
     },
     "output_type": "display_data"
    }
   ],
   "source": [
    "# Calculate b0 and b1.\n",
    "b0, b1 = simple_linear(df_nonzero['sq__ft'], df_nonzero['price'])\n",
    "\n",
    "# Predict price from sq__ft using math model.\n",
    "y_preds = b0 + b1 * df_nonzero['sq__ft']\n",
    "\n",
    "# Calculate residuals.\n",
    "res = df_nonzero['price'] - y_preds\n",
    "\n",
    "# Plot residuals\n",
    "plt.figure(figsize=(13, 8))\n",
    "plt.scatter(y_preds, res)\n",
    "plt.axhline(0, color='orange')\n",
    "plt.axhline(np.std(res), color='red')\n",
    "plt.axhline(-np.std(res), color='red')\n",
    "plt.title('Residuals vs. Predicted Price')\n",
    "plt.xlabel('Predicted Price')\n",
    "plt.ylabel('Residuals');"
   ]
  },
  {
   "cell_type": "code",
   "execution_count": 33,
   "metadata": {},
   "outputs": [
    {
     "data": {
      "text/plain": [
       "0"
      ]
     },
     "execution_count": 33,
     "metadata": {},
     "output_type": "execute_result"
    }
   ],
   "source": [
    "res.isnull().sum()"
   ]
  },
  {
   "cell_type": "markdown",
   "metadata": {},
   "source": [
    "---\n",
    "\n",
    "## Dummy Variables\n",
    "\n",
    "It is important to be cautious with categorical variables, which represent distinct groups or categories, when building a regression. If put in a regression \"as-is,\" categorical variables represented as integers will be treated like *continuous* variables.\n",
    "\n",
    "That is to say, instead of group \"3\" having a different effect on the estimation than group \"1\" it will estimate literally 3 times more than group 1. \n",
    "\n",
    "For example, if occupation category \"1\" represents \"analyst\" and occupation category \"3\" represents \"barista\", and our target variable is salary, if we leave this as a column of integers then barista will always have `beta*3` the effect of analyst.\n",
    "\n",
    "This will almost certainly force the beta coefficient to be something strange and incorrect. Instead, we can re-represent the categories as multiple \"dummy coded\" columns.\n",
    "\n"
   ]
  },
  {
   "cell_type": "markdown",
   "metadata": {},
   "source": [
    "#### A Word of Caution When Creating Dummies\n",
    "\n",
    "Let's touch on precautions we should take when dummy coding.\n",
    "\n",
    "**If you convert a qualitative variable to dummy variables, you want to turn a variable with N categories into N-1 variables.**\n",
    "\n",
    "> **Scenario 1:** Suppose we're working with the variable \"sex\" or \"gender\" with values \"M\" and \"F\". \n",
    "\n",
    "You should include in your model only one variable for \"sex = F\" which takes on 1 if sex is female and 0 if sex is not female! Rather than saying \"a one unit change in X,\" the coefficient associated with \"sex = F\" is interpreted as the average change in Y when sex = F relative to when sex = M.\n",
    "\n",
    "| Female | Male | \n",
    "|-------|------|\n",
    "| 0 | 1 | \n",
    "| 1 | 0 |\n",
    "| 0 | 1 |\n",
    "| 1 | 0 |\n",
    "| 1 | 0 |\n",
    "_As we can see a 1 in the female column indicates a 0 in the male column. And so, we have two columns stating the same information in different ways._\n",
    "\n",
    "> Scenario 2: Suppose we're modeling revenue at a bar for each of the days of the week. We have a column with strings identifying which day of the week this observation occurred in.\n",
    "\n",
    "We might include six of the days as their own variables: \"Monday\", \"Tuesday\", \"Wednesday\", \"Thursday\", \"Friday\", \"Saturday\". **But not all 7 days.**  \n",
    "\n",
    "|Monday | Tuesday | Wednesday | Thursday | Friday | Saturday | \n",
    "|-------|---------|-----------|----------|--------|----------|\n",
    "| 1     | 0       |0          |      0   |0       | 0        | \n",
    "| 0     | 1       |0          |      0   |0       | 0        | \n",
    "| 0     | 0       |1          |      0   |0       | 0        | \n",
    "| 0     | 0       |0          |      1   |0       | 0        | \n",
    "| 0     | 0       |0          |      0   |1       | 0        | \n",
    "| 0     | 0       |0          |      0   |0       | 1        | \n",
    "| 0     | 0       |0          |      0   |0       | 0        | \n",
    "\n",
    "_As humans we can infer from the last row that if its is not Monday, Tuesday, Wednesday, Thursday, Friday or Saturday, it must be Sunday. Models work the same way._\n",
    "\n",
    "The coefficient for Monday is then interpreted as the average change in revenue when \"day = Monday\" relative to \"day = Sunday.\" The coefficient for Tuesday is interpreted as the average change in revenue when \"day = Tuesday\" relative to \"day = Sunday\" and so on.\n",
    "\n",
    "The category you leave out, which the other columns are *relative to*, is often referred to as the **reference category**.\n",
    "\n",
    "### 9. Use the `pd.get_dummies` function to convert the `type` column into dummy-coded variables."
   ]
  },
  {
   "cell_type": "code",
   "execution_count": 36,
   "metadata": {},
   "outputs": [],
   "source": [
    "def street_to_type(street):\n",
    "    \"\"\"Function to find street type from given street name\"\"\"\n",
    "    street_split = street.split()\n",
    "    if street_split[-2] == 'Unit':\n",
    "        return street_split[-3]\n",
    "    elif street_split[-1].isnumeric():\n",
    "        return street_split[-2]\n",
    "    else:\n",
    "        return street_split[-1]"
   ]
  },
  {
   "cell_type": "code",
   "execution_count": 37,
   "metadata": {},
   "outputs": [],
   "source": [
    "# Apply street_to_type function to dataset.\n",
    "df_nonzero['street_last'] = df_nonzero['street'].apply(street_to_type)"
   ]
  },
  {
   "cell_type": "code",
   "execution_count": 38,
   "metadata": {},
   "outputs": [],
   "source": [
    "# Get dummy for categorical variables\n",
    "df_nonzero = df_nonzero.merge(pd.get_dummies(df_nonzero[['street_last', 'city', 'type']]), left_index=True, right_index=True).copy()"
   ]
  },
  {
   "cell_type": "markdown",
   "metadata": {},
   "source": [
    "### 10. Check the dummy columns you've created. Do they all make sense?\n",
    "\n",
    "Use `.head()` on the new dataframe you've created. Depending on how you cleaned the data earlier in this notebook, there may be a dummy column that needs to be removed. Check that all the columns you've created make sense, and if any of the columns seem to be errors, drop them. If there don't appear to be any errors, then move on to the next step!"
   ]
  },
  {
   "cell_type": "code",
   "execution_count": 39,
   "metadata": {},
   "outputs": [
    {
     "data": {
      "text/html": [
       "<div>\n",
       "<style scoped>\n",
       "    .dataframe tbody tr th:only-of-type {\n",
       "        vertical-align: middle;\n",
       "    }\n",
       "\n",
       "    .dataframe tbody tr th {\n",
       "        vertical-align: top;\n",
       "    }\n",
       "\n",
       "    .dataframe thead th {\n",
       "        text-align: right;\n",
       "    }\n",
       "</style>\n",
       "<table border=\"1\" class=\"dataframe\">\n",
       "  <thead>\n",
       "    <tr style=\"text-align: right;\">\n",
       "      <th></th>\n",
       "      <th>street</th>\n",
       "      <th>city</th>\n",
       "      <th>beds</th>\n",
       "      <th>baths</th>\n",
       "      <th>sq__ft</th>\n",
       "      <th>type</th>\n",
       "      <th>price</th>\n",
       "      <th>street_last</th>\n",
       "      <th>street_last_AVE</th>\n",
       "      <th>street_last_BLVD</th>\n",
       "      <th>...</th>\n",
       "      <th>city_RIO LINDA</th>\n",
       "      <th>city_ROCKLIN</th>\n",
       "      <th>city_ROSEVILLE</th>\n",
       "      <th>city_SACRAMENTO</th>\n",
       "      <th>city_WALNUT GROVE</th>\n",
       "      <th>city_WEST SACRAMENTO</th>\n",
       "      <th>city_WILTON</th>\n",
       "      <th>type_Condo</th>\n",
       "      <th>type_Multi-Family</th>\n",
       "      <th>type_Residential</th>\n",
       "    </tr>\n",
       "  </thead>\n",
       "  <tbody>\n",
       "    <tr>\n",
       "      <th>0</th>\n",
       "      <td>3526 HIGH ST</td>\n",
       "      <td>SACRAMENTO</td>\n",
       "      <td>2</td>\n",
       "      <td>1</td>\n",
       "      <td>836</td>\n",
       "      <td>Residential</td>\n",
       "      <td>59222</td>\n",
       "      <td>ST</td>\n",
       "      <td>0</td>\n",
       "      <td>0</td>\n",
       "      <td>...</td>\n",
       "      <td>0</td>\n",
       "      <td>0</td>\n",
       "      <td>0</td>\n",
       "      <td>1</td>\n",
       "      <td>0</td>\n",
       "      <td>0</td>\n",
       "      <td>0</td>\n",
       "      <td>0</td>\n",
       "      <td>0</td>\n",
       "      <td>1</td>\n",
       "    </tr>\n",
       "    <tr>\n",
       "      <th>1</th>\n",
       "      <td>51 OMAHA CT</td>\n",
       "      <td>SACRAMENTO</td>\n",
       "      <td>3</td>\n",
       "      <td>1</td>\n",
       "      <td>1167</td>\n",
       "      <td>Residential</td>\n",
       "      <td>68212</td>\n",
       "      <td>CT</td>\n",
       "      <td>0</td>\n",
       "      <td>0</td>\n",
       "      <td>...</td>\n",
       "      <td>0</td>\n",
       "      <td>0</td>\n",
       "      <td>0</td>\n",
       "      <td>1</td>\n",
       "      <td>0</td>\n",
       "      <td>0</td>\n",
       "      <td>0</td>\n",
       "      <td>0</td>\n",
       "      <td>0</td>\n",
       "      <td>1</td>\n",
       "    </tr>\n",
       "    <tr>\n",
       "      <th>2</th>\n",
       "      <td>2796 BRANCH ST</td>\n",
       "      <td>SACRAMENTO</td>\n",
       "      <td>2</td>\n",
       "      <td>1</td>\n",
       "      <td>796</td>\n",
       "      <td>Residential</td>\n",
       "      <td>68880</td>\n",
       "      <td>ST</td>\n",
       "      <td>0</td>\n",
       "      <td>0</td>\n",
       "      <td>...</td>\n",
       "      <td>0</td>\n",
       "      <td>0</td>\n",
       "      <td>0</td>\n",
       "      <td>1</td>\n",
       "      <td>0</td>\n",
       "      <td>0</td>\n",
       "      <td>0</td>\n",
       "      <td>0</td>\n",
       "      <td>0</td>\n",
       "      <td>1</td>\n",
       "    </tr>\n",
       "    <tr>\n",
       "      <th>3</th>\n",
       "      <td>2805 JANETTE WAY</td>\n",
       "      <td>SACRAMENTO</td>\n",
       "      <td>2</td>\n",
       "      <td>1</td>\n",
       "      <td>852</td>\n",
       "      <td>Residential</td>\n",
       "      <td>69307</td>\n",
       "      <td>WAY</td>\n",
       "      <td>0</td>\n",
       "      <td>0</td>\n",
       "      <td>...</td>\n",
       "      <td>0</td>\n",
       "      <td>0</td>\n",
       "      <td>0</td>\n",
       "      <td>1</td>\n",
       "      <td>0</td>\n",
       "      <td>0</td>\n",
       "      <td>0</td>\n",
       "      <td>0</td>\n",
       "      <td>0</td>\n",
       "      <td>1</td>\n",
       "    </tr>\n",
       "    <tr>\n",
       "      <th>4</th>\n",
       "      <td>6001 MCMAHON DR</td>\n",
       "      <td>SACRAMENTO</td>\n",
       "      <td>2</td>\n",
       "      <td>1</td>\n",
       "      <td>797</td>\n",
       "      <td>Residential</td>\n",
       "      <td>81900</td>\n",
       "      <td>DR</td>\n",
       "      <td>0</td>\n",
       "      <td>0</td>\n",
       "      <td>...</td>\n",
       "      <td>0</td>\n",
       "      <td>0</td>\n",
       "      <td>0</td>\n",
       "      <td>1</td>\n",
       "      <td>0</td>\n",
       "      <td>0</td>\n",
       "      <td>0</td>\n",
       "      <td>0</td>\n",
       "      <td>0</td>\n",
       "      <td>1</td>\n",
       "    </tr>\n",
       "  </tbody>\n",
       "</table>\n",
       "<p>5 rows × 64 columns</p>\n",
       "</div>"
      ],
      "text/plain": [
       "             street        city  beds  baths  sq__ft         type  price  \\\n",
       "0      3526 HIGH ST  SACRAMENTO     2      1     836  Residential  59222   \n",
       "1       51 OMAHA CT  SACRAMENTO     3      1    1167  Residential  68212   \n",
       "2    2796 BRANCH ST  SACRAMENTO     2      1     796  Residential  68880   \n",
       "3  2805 JANETTE WAY  SACRAMENTO     2      1     852  Residential  69307   \n",
       "4   6001 MCMAHON DR  SACRAMENTO     2      1     797  Residential  81900   \n",
       "\n",
       "  street_last  street_last_AVE  street_last_BLVD  ...  city_RIO LINDA  \\\n",
       "0          ST                0                 0  ...               0   \n",
       "1          CT                0                 0  ...               0   \n",
       "2          ST                0                 0  ...               0   \n",
       "3         WAY                0                 0  ...               0   \n",
       "4          DR                0                 0  ...               0   \n",
       "\n",
       "   city_ROCKLIN  city_ROSEVILLE  city_SACRAMENTO  city_WALNUT GROVE  \\\n",
       "0             0               0                1                  0   \n",
       "1             0               0                1                  0   \n",
       "2             0               0                1                  0   \n",
       "3             0               0                1                  0   \n",
       "4             0               0                1                  0   \n",
       "\n",
       "   city_WEST SACRAMENTO  city_WILTON  type_Condo  type_Multi-Family  \\\n",
       "0                     0            0           0                  0   \n",
       "1                     0            0           0                  0   \n",
       "2                     0            0           0                  0   \n",
       "3                     0            0           0                  0   \n",
       "4                     0            0           0                  0   \n",
       "\n",
       "   type_Residential  \n",
       "0                 1  \n",
       "1                 1  \n",
       "2                 1  \n",
       "3                 1  \n",
       "4                 1  \n",
       "\n",
       "[5 rows x 64 columns]"
      ]
     },
     "execution_count": 39,
     "metadata": {},
     "output_type": "execute_result"
    }
   ],
   "source": [
    "# Check the result\n",
    "df_nonzero.head()"
   ]
  },
  {
   "cell_type": "markdown",
   "metadata": {},
   "source": [
    "### 11. Build what you think may be the best MLR model predicting `price`. \n",
    "\n",
    "Choose at least three variables, and build a model that uses them to predict price. At least one of the variables you choose should be a dummy-coded variable. (This can be one we created before or a new one.) \n",
    "\n",
    "You may need to load in the scikit-learn API:\n",
    "\n",
    "```python\n",
    "from sklearn.linear_model import LinearRegression\n",
    "\n",
    "model = LinearRegression()\n",
    "```"
   ]
  },
  {
   "cell_type": "code",
   "execution_count": 40,
   "metadata": {},
   "outputs": [
    {
     "data": {
      "image/png": "[encoded data removed]",
      "text/plain": [
       "<Figure size 432x288 with 2 Axes>"
      ]
     },
     "metadata": {
      "needs_background": "light"
     },
     "output_type": "display_data"
    }
   ],
   "source": [
    "# Plot correlation between X\n",
    "sns.heatmap(df_nonzero[['price', 'sq__ft', 'beds', 'baths']].corr(),\n",
    "            vmax=1,\n",
    "            vmin=-1,\n",
    "            annot=True,\n",
    "            cmap='coolwarm');\n",
    "\n",
    "# sq__ft has high correlation with beds and baths, so we can use only 1 feature to avoid multicollinearity."
   ]
  },
  {
   "cell_type": "code",
   "execution_count": 41,
   "metadata": {},
   "outputs": [
    {
     "data": {
      "text/html": [
       "<div>\n",
       "<style scoped>\n",
       "    .dataframe tbody tr th:only-of-type {\n",
       "        vertical-align: middle;\n",
       "    }\n",
       "\n",
       "    .dataframe tbody tr th {\n",
       "        vertical-align: top;\n",
       "    }\n",
       "\n",
       "    .dataframe thead th {\n",
       "        text-align: right;\n",
       "    }\n",
       "</style>\n",
       "<table border=\"1\" class=\"dataframe\">\n",
       "  <thead>\n",
       "    <tr style=\"text-align: right;\">\n",
       "      <th></th>\n",
       "      <th>count</th>\n",
       "      <th>mean</th>\n",
       "    </tr>\n",
       "    <tr>\n",
       "      <th>street_last</th>\n",
       "      <th></th>\n",
       "      <th></th>\n",
       "    </tr>\n",
       "  </thead>\n",
       "  <tbody>\n",
       "    <tr>\n",
       "      <th>HIGHWAY</th>\n",
       "      <td>1</td>\n",
       "      <td>485000.000000</td>\n",
       "    </tr>\n",
       "    <tr>\n",
       "      <th>CONEJO</th>\n",
       "      <td>1</td>\n",
       "      <td>425000.000000</td>\n",
       "    </tr>\n",
       "    <tr>\n",
       "      <th>HL</th>\n",
       "      <td>1</td>\n",
       "      <td>350000.000000</td>\n",
       "    </tr>\n",
       "    <tr>\n",
       "      <th>TRL</th>\n",
       "      <td>1</td>\n",
       "      <td>300000.000000</td>\n",
       "    </tr>\n",
       "    <tr>\n",
       "      <th>LN</th>\n",
       "      <td>32</td>\n",
       "      <td>266927.937500</td>\n",
       "    </tr>\n",
       "    <tr>\n",
       "      <th>CT</th>\n",
       "      <td>102</td>\n",
       "      <td>258386.470588</td>\n",
       "    </tr>\n",
       "    <tr>\n",
       "      <th>MARTINA</th>\n",
       "      <td>1</td>\n",
       "      <td>255000.000000</td>\n",
       "    </tr>\n",
       "    <tr>\n",
       "      <th>PL</th>\n",
       "      <td>7</td>\n",
       "      <td>250671.428571</td>\n",
       "    </tr>\n",
       "    <tr>\n",
       "      <th>CIR</th>\n",
       "      <td>67</td>\n",
       "      <td>246363.044776</td>\n",
       "    </tr>\n",
       "    <tr>\n",
       "      <th>DR</th>\n",
       "      <td>141</td>\n",
       "      <td>241543.453901</td>\n",
       "    </tr>\n",
       "    <tr>\n",
       "      <th>WAY</th>\n",
       "      <td>281</td>\n",
       "      <td>231645.576512</td>\n",
       "    </tr>\n",
       "    <tr>\n",
       "      <th>RD</th>\n",
       "      <td>21</td>\n",
       "      <td>225669.333333</td>\n",
       "    </tr>\n",
       "    <tr>\n",
       "      <th>ST</th>\n",
       "      <td>68</td>\n",
       "      <td>195253.808824</td>\n",
       "    </tr>\n",
       "    <tr>\n",
       "      <th>PKWY</th>\n",
       "      <td>7</td>\n",
       "      <td>178619.142857</td>\n",
       "    </tr>\n",
       "    <tr>\n",
       "      <th>AVE</th>\n",
       "      <td>70</td>\n",
       "      <td>171055.828571</td>\n",
       "    </tr>\n",
       "    <tr>\n",
       "      <th>GRANDE</th>\n",
       "      <td>1</td>\n",
       "      <td>125000.000000</td>\n",
       "    </tr>\n",
       "    <tr>\n",
       "      <th>BLVD</th>\n",
       "      <td>9</td>\n",
       "      <td>111916.666667</td>\n",
       "    </tr>\n",
       "    <tr>\n",
       "      <th>BROADWAY</th>\n",
       "      <td>1</td>\n",
       "      <td>62050.000000</td>\n",
       "    </tr>\n",
       "  </tbody>\n",
       "</table>\n",
       "</div>"
      ],
      "text/plain": [
       "             count           mean\n",
       "street_last                      \n",
       "HIGHWAY          1  485000.000000\n",
       "CONEJO           1  425000.000000\n",
       "HL               1  350000.000000\n",
       "TRL              1  300000.000000\n",
       "LN              32  266927.937500\n",
       "CT             102  258386.470588\n",
       "MARTINA          1  255000.000000\n",
       "PL               7  250671.428571\n",
       "CIR             67  246363.044776\n",
       "DR             141  241543.453901\n",
       "WAY            281  231645.576512\n",
       "RD              21  225669.333333\n",
       "ST              68  195253.808824\n",
       "PKWY             7  178619.142857\n",
       "AVE             70  171055.828571\n",
       "GRANDE           1  125000.000000\n",
       "BLVD             9  111916.666667\n",
       "BROADWAY         1   62050.000000"
      ]
     },
     "execution_count": 41,
     "metadata": {},
     "output_type": "execute_result"
    }
   ],
   "source": [
    "df_nonzero.groupby(['street_last'])['price'].agg(['count','mean']).sort_values(by='mean', ascending=False)"
   ]
  },
  {
   "cell_type": "code",
   "execution_count": 42,
   "metadata": {},
   "outputs": [
    {
     "data": {
      "text/html": [
       "<div>\n",
       "<style scoped>\n",
       "    .dataframe tbody tr th:only-of-type {\n",
       "        vertical-align: middle;\n",
       "    }\n",
       "\n",
       "    .dataframe tbody tr th {\n",
       "        vertical-align: top;\n",
       "    }\n",
       "\n",
       "    .dataframe thead th {\n",
       "        text-align: right;\n",
       "    }\n",
       "</style>\n",
       "<table border=\"1\" class=\"dataframe\">\n",
       "  <thead>\n",
       "    <tr style=\"text-align: right;\">\n",
       "      <th></th>\n",
       "      <th>count</th>\n",
       "      <th>mean</th>\n",
       "    </tr>\n",
       "    <tr>\n",
       "      <th>city</th>\n",
       "      <th></th>\n",
       "      <th></th>\n",
       "    </tr>\n",
       "  </thead>\n",
       "  <tbody>\n",
       "    <tr>\n",
       "      <th>GRANITE BAY</th>\n",
       "      <td>3</td>\n",
       "      <td>678733.333333</td>\n",
       "    </tr>\n",
       "    <tr>\n",
       "      <th>WILTON</th>\n",
       "      <td>4</td>\n",
       "      <td>631885.500000</td>\n",
       "    </tr>\n",
       "    <tr>\n",
       "      <th>LOOMIS</th>\n",
       "      <td>2</td>\n",
       "      <td>567000.000000</td>\n",
       "    </tr>\n",
       "    <tr>\n",
       "      <th>PENRYN</th>\n",
       "      <td>1</td>\n",
       "      <td>506688.000000</td>\n",
       "    </tr>\n",
       "    <tr>\n",
       "      <th>FOLSOM</th>\n",
       "      <td>15</td>\n",
       "      <td>415288.200000</td>\n",
       "    </tr>\n",
       "    <tr>\n",
       "      <th>PLACERVILLE</th>\n",
       "      <td>5</td>\n",
       "      <td>404709.600000</td>\n",
       "    </tr>\n",
       "    <tr>\n",
       "      <th>CAMERON PARK</th>\n",
       "      <td>1</td>\n",
       "      <td>399000.000000</td>\n",
       "    </tr>\n",
       "    <tr>\n",
       "      <th>RANCHO MURIETA</th>\n",
       "      <td>2</td>\n",
       "      <td>397750.000000</td>\n",
       "    </tr>\n",
       "    <tr>\n",
       "      <th>GREENWOOD</th>\n",
       "      <td>1</td>\n",
       "      <td>395000.000000</td>\n",
       "    </tr>\n",
       "    <tr>\n",
       "      <th>WALNUT GROVE</th>\n",
       "      <td>1</td>\n",
       "      <td>380000.000000</td>\n",
       "    </tr>\n",
       "    <tr>\n",
       "      <th>GOLD RIVER</th>\n",
       "      <td>3</td>\n",
       "      <td>377333.333333</td>\n",
       "    </tr>\n",
       "    <tr>\n",
       "      <th>ROCKLIN</th>\n",
       "      <td>8</td>\n",
       "      <td>336244.875000</td>\n",
       "    </tr>\n",
       "    <tr>\n",
       "      <th>AUBURN</th>\n",
       "      <td>3</td>\n",
       "      <td>321818.000000</td>\n",
       "    </tr>\n",
       "    <tr>\n",
       "      <th>FAIR OAKS</th>\n",
       "      <td>9</td>\n",
       "      <td>303500.666667</td>\n",
       "    </tr>\n",
       "    <tr>\n",
       "      <th>COOL</th>\n",
       "      <td>1</td>\n",
       "      <td>300000.000000</td>\n",
       "    </tr>\n",
       "    <tr>\n",
       "      <th>EL DORADO HILLS</th>\n",
       "      <td>3</td>\n",
       "      <td>299412.666667</td>\n",
       "    </tr>\n",
       "    <tr>\n",
       "      <th>CARMICHAEL</th>\n",
       "      <td>20</td>\n",
       "      <td>295684.750000</td>\n",
       "    </tr>\n",
       "    <tr>\n",
       "      <th>ROSEVILLE</th>\n",
       "      <td>28</td>\n",
       "      <td>294058.071429</td>\n",
       "    </tr>\n",
       "    <tr>\n",
       "      <th>ORANGEVALE</th>\n",
       "      <td>11</td>\n",
       "      <td>279159.545455</td>\n",
       "    </tr>\n",
       "    <tr>\n",
       "      <th>ELK GROVE</th>\n",
       "      <td>107</td>\n",
       "      <td>270238.102804</td>\n",
       "    </tr>\n",
       "    <tr>\n",
       "      <th>LINCOLN</th>\n",
       "      <td>6</td>\n",
       "      <td>262921.166667</td>\n",
       "    </tr>\n",
       "    <tr>\n",
       "      <th>EL DORADO</th>\n",
       "      <td>2</td>\n",
       "      <td>247000.000000</td>\n",
       "    </tr>\n",
       "    <tr>\n",
       "      <th>POLLOCK PINES</th>\n",
       "      <td>3</td>\n",
       "      <td>240302.666667</td>\n",
       "    </tr>\n",
       "    <tr>\n",
       "      <th>MATHER</th>\n",
       "      <td>1</td>\n",
       "      <td>237800.000000</td>\n",
       "    </tr>\n",
       "    <tr>\n",
       "      <th>RANCHO CORDOVA</th>\n",
       "      <td>21</td>\n",
       "      <td>235065.047619</td>\n",
       "    </tr>\n",
       "    <tr>\n",
       "      <th>ANTELOPE</th>\n",
       "      <td>33</td>\n",
       "      <td>232496.393939</td>\n",
       "    </tr>\n",
       "    <tr>\n",
       "      <th>GALT</th>\n",
       "      <td>20</td>\n",
       "      <td>231040.600000</td>\n",
       "    </tr>\n",
       "    <tr>\n",
       "      <th>MEADOW VISTA</th>\n",
       "      <td>1</td>\n",
       "      <td>230000.000000</td>\n",
       "    </tr>\n",
       "    <tr>\n",
       "      <th>DIAMOND SPRINGS</th>\n",
       "      <td>1</td>\n",
       "      <td>216033.000000</td>\n",
       "    </tr>\n",
       "    <tr>\n",
       "      <th>SACRAMENTO</th>\n",
       "      <td>423</td>\n",
       "      <td>194522.222222</td>\n",
       "    </tr>\n",
       "    <tr>\n",
       "      <th>CITRUS HEIGHTS</th>\n",
       "      <td>35</td>\n",
       "      <td>187114.914286</td>\n",
       "    </tr>\n",
       "    <tr>\n",
       "      <th>RIO LINDA</th>\n",
       "      <td>12</td>\n",
       "      <td>184621.583333</td>\n",
       "    </tr>\n",
       "    <tr>\n",
       "      <th>WEST SACRAMENTO</th>\n",
       "      <td>1</td>\n",
       "      <td>147000.000000</td>\n",
       "    </tr>\n",
       "    <tr>\n",
       "      <th>NORTH HIGHLANDS</th>\n",
       "      <td>21</td>\n",
       "      <td>135659.333333</td>\n",
       "    </tr>\n",
       "    <tr>\n",
       "      <th>ELVERTA</th>\n",
       "      <td>4</td>\n",
       "      <td>132866.000000</td>\n",
       "    </tr>\n",
       "  </tbody>\n",
       "</table>\n",
       "</div>"
      ],
      "text/plain": [
       "                 count           mean\n",
       "city                                 \n",
       "GRANITE BAY          3  678733.333333\n",
       "WILTON               4  631885.500000\n",
       "LOOMIS               2  567000.000000\n",
       "PENRYN               1  506688.000000\n",
       "FOLSOM              15  415288.200000\n",
       "PLACERVILLE          5  404709.600000\n",
       "CAMERON PARK         1  399000.000000\n",
       "RANCHO MURIETA       2  397750.000000\n",
       "GREENWOOD            1  395000.000000\n",
       "WALNUT GROVE         1  380000.000000\n",
       "GOLD RIVER           3  377333.333333\n",
       "ROCKLIN              8  336244.875000\n",
       "AUBURN               3  321818.000000\n",
       "FAIR OAKS            9  303500.666667\n",
       "COOL                 1  300000.000000\n",
       "EL DORADO HILLS      3  299412.666667\n",
       "CARMICHAEL          20  295684.750000\n",
       "ROSEVILLE           28  294058.071429\n",
       "ORANGEVALE          11  279159.545455\n",
       "ELK GROVE          107  270238.102804\n",
       "LINCOLN              6  262921.166667\n",
       "EL DORADO            2  247000.000000\n",
       "POLLOCK PINES        3  240302.666667\n",
       "MATHER               1  237800.000000\n",
       "RANCHO CORDOVA      21  235065.047619\n",
       "ANTELOPE            33  232496.393939\n",
       "GALT                20  231040.600000\n",
       "MEADOW VISTA         1  230000.000000\n",
       "DIAMOND SPRINGS      1  216033.000000\n",
       "SACRAMENTO         423  194522.222222\n",
       "CITRUS HEIGHTS      35  187114.914286\n",
       "RIO LINDA           12  184621.583333\n",
       "WEST SACRAMENTO      1  147000.000000\n",
       "NORTH HIGHLANDS     21  135659.333333\n",
       "ELVERTA              4  132866.000000"
      ]
     },
     "execution_count": 42,
     "metadata": {},
     "output_type": "execute_result"
    }
   ],
   "source": [
    "df_nonzero.groupby(['city'])['price'].agg(['count','mean']).sort_values(by='mean', ascending=False)"
   ]
  },
  {
   "cell_type": "code",
   "execution_count": 43,
   "metadata": {},
   "outputs": [
    {
     "name": "stdout",
     "output_type": "stream",
     "text": [
      "Train R-squared Scores: 0.5632715058249353\n"
     ]
    }
   ],
   "source": [
    "X = df_nonzero[['sq__ft','beds', 'baths', 'city_SACRAMENTO', 'street_last_CT']]\n",
    "y = df_nonzero['price']\n",
    "\n",
    "model = LinearRegression()\n",
    "model.fit(X, y)\n",
    "\n",
    "# Train score\n",
    "print(f'Train R-squared Scores: {model.score(X, y)}')\n",
    "\n",
    "y_preds = model.predict(X)\n",
    "residual = y - y_preds"
   ]
  },
  {
   "cell_type": "markdown",
   "metadata": {},
   "source": [
    "### 12. Plot the true price vs the predicted price to evaluate your MLR visually.\n",
    "\n",
    "You can use matplotlib or seaborn."
   ]
  },
  {
   "cell_type": "code",
   "execution_count": 44,
   "metadata": {},
   "outputs": [
    {
     "data": {
      "image/png": "[encoded data removed]",
      "text/plain": [
       "<Figure size 432x288 with 1 Axes>"
      ]
     },
     "metadata": {
      "needs_background": "light"
     },
     "output_type": "display_data"
    }
   ],
   "source": [
    "plt.scatter(y, y_preds);"
   ]
  },
  {
   "cell_type": "markdown",
   "metadata": {},
   "source": [
    "### 13. List the five assumptions for an MLR model. \n",
    "\n",
    "Indicate which ones are the same as the assumptions for an SLR model. "
   ]
  },
  {
   "cell_type": "markdown",
   "metadata": {},
   "source": [
    "#### List 5 assumtions\n",
    "1. L - Linear relationship for X, y\n",
    "2. I - Independent of each y\n",
    "3. N - Normal distribution of residual\n",
    "4. E - Equal varaince for every predicted y\n",
    "5. M - No Multicollineariry of X\n",
    "\n",
    "#### Assumption 1-4 are the same as SLR"
   ]
  },
  {
   "cell_type": "markdown",
   "metadata": {},
   "source": [
    "### 14. Pick at least two assumptions and explain whether or not you believe them to be met for your model, and explain why."
   ]
  },
  {
   "cell_type": "code",
   "execution_count": 45,
   "metadata": {},
   "outputs": [
    {
     "data": {
      "image/png": "[encoded data removed]",
      "text/plain": [
       "<Figure size 432x288 with 1 Axes>"
      ]
     },
     "metadata": {
      "needs_background": "light"
     },
     "output_type": "display_data"
    }
   ],
   "source": [
    "# L - Linear relationship for X, y\n",
    "\n",
    "plt.scatter(df_nonzero['sq__ft'], df_nonzero['price'])\n",
    "plt.title('Price vs. Size')\n",
    "plt.xlabel('Property Size')\n",
    "plt.ylabel('Property Price');\n",
    "\n",
    "\n",
    "## one of x variable is likely to be linear realationship with y."
   ]
  },
  {
   "cell_type": "code",
   "execution_count": 46,
   "metadata": {},
   "outputs": [],
   "source": [
    "# I - Independence of observations\n",
    "## Since data is not time series, there is no concern."
   ]
  },
  {
   "cell_type": "code",
   "execution_count": 47,
   "metadata": {},
   "outputs": [
    {
     "data": {
      "image/png": "[encoded data removed]",
      "text/plain": [
       "<Figure size 432x288 with 1 Axes>"
      ]
     },
     "metadata": {
      "needs_background": "light"
     },
     "output_type": "display_data"
    }
   ],
   "source": [
    "# N - Normality in residual distribution\n",
    "\n",
    "plt.hist(y_preds)\n",
    "plt.title(f'Residual Distribution | Skewness: {pd.Series(residual).skew().round(2)}');\n",
    "\n",
    "## From the result, residuals distribution is not normal and has a right skew."
   ]
  },
  {
   "cell_type": "code",
   "execution_count": 48,
   "metadata": {},
   "outputs": [
    {
     "data": {
      "image/png": "[encoded data removed]",
      "text/plain": [
       "<Figure size 432x288 with 1 Axes>"
      ]
     },
     "metadata": {
      "needs_background": "light"
     },
     "output_type": "display_data"
    }
   ],
   "source": [
    "# E - Equility of residual\n",
    "\n",
    "plt.scatter(y_preds, residual)\n",
    "plt.axhline(0, color='orange')\n",
    "plt.title('Residuals vs. Predicted Price')\n",
    "plt.xlabel('Predicted Price')\n",
    "plt.ylabel('Residuals');\n",
    "\n",
    "## Residuals seem to be homoscedasticity, \n",
    "## which mean reidual are distributed among all of predicted prices."
   ]
  },
  {
   "cell_type": "code",
   "execution_count": 49,
   "metadata": {},
   "outputs": [
    {
     "data": {
      "text/html": [
       "<div>\n",
       "<style scoped>\n",
       "    .dataframe tbody tr th:only-of-type {\n",
       "        vertical-align: middle;\n",
       "    }\n",
       "\n",
       "    .dataframe tbody tr th {\n",
       "        vertical-align: top;\n",
       "    }\n",
       "\n",
       "    .dataframe thead th {\n",
       "        text-align: right;\n",
       "    }\n",
       "</style>\n",
       "<table border=\"1\" class=\"dataframe\">\n",
       "  <thead>\n",
       "    <tr style=\"text-align: right;\">\n",
       "      <th></th>\n",
       "      <th>sq__ft</th>\n",
       "      <th>beds</th>\n",
       "      <th>baths</th>\n",
       "    </tr>\n",
       "  </thead>\n",
       "  <tbody>\n",
       "    <tr>\n",
       "      <th>sq__ft</th>\n",
       "      <td>1.000000</td>\n",
       "      <td>0.716569</td>\n",
       "      <td>0.722744</td>\n",
       "    </tr>\n",
       "    <tr>\n",
       "      <th>beds</th>\n",
       "      <td>0.716569</td>\n",
       "      <td>1.000000</td>\n",
       "      <td>0.658620</td>\n",
       "    </tr>\n",
       "    <tr>\n",
       "      <th>baths</th>\n",
       "      <td>0.722744</td>\n",
       "      <td>0.658620</td>\n",
       "      <td>1.000000</td>\n",
       "    </tr>\n",
       "  </tbody>\n",
       "</table>\n",
       "</div>"
      ],
      "text/plain": [
       "          sq__ft      beds     baths\n",
       "sq__ft  1.000000  0.716569  0.722744\n",
       "beds    0.716569  1.000000  0.658620\n",
       "baths   0.722744  0.658620  1.000000"
      ]
     },
     "execution_count": 49,
     "metadata": {},
     "output_type": "execute_result"
    }
   ],
   "source": [
    "# M - No multicollinearity of predictors\n",
    "X[['sq__ft', 'beds', 'baths']].corr()\n",
    "\n",
    "## There is highly correlated of baths, beds, and sq__ft\n",
    "## that could lead to multicollinearity of these variables."
   ]
  },
  {
   "cell_type": "markdown",
   "metadata": {},
   "source": [
    "### 15. [Bonus] Generate a table showing the point estimates, standard errors, t-scores, p-values, and 95% confidence intervals for the model you built. \n",
    "\n",
    "**Write a few sentences interpreting some of the output.**\n",
    "\n",
    "> **Hint:** scikit-learn does not have this functionality built in, but statsmodels does in the `summary` method.  To fit the statsmodels model use something like the following.  There is one big caveat here, however!  `statsmodels.OLS` does _not_ add an intercept to your model, so you will need to do this explicitly by adding a column filled with the number 1 to your X matrix\n",
    "\n",
    "```python\n",
    "import statsmodels.api as sm\n",
    "\n",
    "# The Default here is Linear Regression (ordinary least squares regression OLS)\n",
    "model = sm.OLS(y,X).fit()\n",
    "```"
   ]
  },
  {
   "cell_type": "code",
   "execution_count": 50,
   "metadata": {},
   "outputs": [],
   "source": [
    "import statsmodels.api as sm"
   ]
  },
  {
   "cell_type": "code",
   "execution_count": 51,
   "metadata": {},
   "outputs": [
    {
     "data": {
      "text/html": [
       "<table class=\"simpletable\">\n",
       "<caption>OLS Regression Results</caption>\n",
       "<tr>\n",
       "  <th>Dep. Variable:</th>          <td>price</td>      <th>  R-squared:         </th> <td>   0.563</td> \n",
       "</tr>\n",
       "<tr>\n",
       "  <th>Model:</th>                   <td>OLS</td>       <th>  Adj. R-squared:    </th> <td>   0.561</td> \n",
       "</tr>\n",
       "<tr>\n",
       "  <th>Method:</th>             <td>Least Squares</td>  <th>  F-statistic:       </th> <td>   207.9</td> \n",
       "</tr>\n",
       "<tr>\n",
       "  <th>Date:</th>             <td>Fri, 16 Sep 2022</td> <th>  Prob (F-statistic):</th> <td>2.62e-142</td>\n",
       "</tr>\n",
       "<tr>\n",
       "  <th>Time:</th>                 <td>08:09:25</td>     <th>  Log-Likelihood:    </th> <td> -10310.</td> \n",
       "</tr>\n",
       "<tr>\n",
       "  <th>No. Observations:</th>      <td>   812</td>      <th>  AIC:               </th> <td>2.063e+04</td>\n",
       "</tr>\n",
       "<tr>\n",
       "  <th>Df Residuals:</th>          <td>   806</td>      <th>  BIC:               </th> <td>2.066e+04</td>\n",
       "</tr>\n",
       "<tr>\n",
       "  <th>Df Model:</th>              <td>     5</td>      <th>                     </th>     <td> </td>    \n",
       "</tr>\n",
       "<tr>\n",
       "  <th>Covariance Type:</th>      <td>nonrobust</td>    <th>                     </th>     <td> </td>    \n",
       "</tr>\n",
       "</table>\n",
       "<table class=\"simpletable\">\n",
       "<tr>\n",
       "         <td></td>            <th>coef</th>     <th>std err</th>      <th>t</th>      <th>P>|t|</th>  <th>[0.025</th>    <th>0.975]</th>  \n",
       "</tr>\n",
       "<tr>\n",
       "  <th>sq__ft</th>          <td>  148.5357</td> <td>    7.086</td> <td>   20.962</td> <td> 0.000</td> <td>  134.627</td> <td>  162.445</td>\n",
       "</tr>\n",
       "<tr>\n",
       "  <th>beds</th>            <td>-2.162e+04</td> <td> 4929.173</td> <td>   -4.386</td> <td> 0.000</td> <td>-3.13e+04</td> <td>-1.19e+04</td>\n",
       "</tr>\n",
       "<tr>\n",
       "  <th>baths</th>           <td>  622.6009</td> <td> 6375.578</td> <td>    0.098</td> <td> 0.922</td> <td>-1.19e+04</td> <td> 1.31e+04</td>\n",
       "</tr>\n",
       "<tr>\n",
       "  <th>city_SACRAMENTO</th> <td>-3.417e+04</td> <td> 5760.862</td> <td>   -5.932</td> <td> 0.000</td> <td>-4.55e+04</td> <td>-2.29e+04</td>\n",
       "</tr>\n",
       "<tr>\n",
       "  <th>street_last_CT</th>  <td>  645.8811</td> <td> 8513.974</td> <td>    0.076</td> <td> 0.940</td> <td>-1.61e+04</td> <td> 1.74e+04</td>\n",
       "</tr>\n",
       "<tr>\n",
       "  <th>const</th>           <td> 8.078e+04</td> <td> 1.22e+04</td> <td>    6.639</td> <td> 0.000</td> <td> 5.69e+04</td> <td> 1.05e+05</td>\n",
       "</tr>\n",
       "</table>\n",
       "<table class=\"simpletable\">\n",
       "<tr>\n",
       "  <th>Omnibus:</th>       <td>336.648</td> <th>  Durbin-Watson:     </th> <td>   1.219</td>\n",
       "</tr>\n",
       "<tr>\n",
       "  <th>Prob(Omnibus):</th> <td> 0.000</td>  <th>  Jarque-Bera (JB):  </th> <td>2078.106</td>\n",
       "</tr>\n",
       "<tr>\n",
       "  <th>Skew:</th>          <td> 1.769</td>  <th>  Prob(JB):          </th> <td>    0.00</td>\n",
       "</tr>\n",
       "<tr>\n",
       "  <th>Kurtosis:</th>      <td> 9.993</td>  <th>  Cond. No.          </th> <td>7.86e+03</td>\n",
       "</tr>\n",
       "</table><br/><br/>Notes:<br/>[1] Standard Errors assume that the covariance matrix of the errors is correctly specified.<br/>[2] The condition number is large, 7.86e+03. This might indicate that there are<br/>strong multicollinearity or other numerical problems."
      ],
      "text/plain": [
       "<class 'statsmodels.iolib.summary.Summary'>\n",
       "\"\"\"\n",
       "                            OLS Regression Results                            \n",
       "==============================================================================\n",
       "Dep. Variable:                  price   R-squared:                       0.563\n",
       "Model:                            OLS   Adj. R-squared:                  0.561\n",
       "Method:                 Least Squares   F-statistic:                     207.9\n",
       "Date:                Fri, 16 Sep 2022   Prob (F-statistic):          2.62e-142\n",
       "Time:                        08:09:25   Log-Likelihood:                -10310.\n",
       "No. Observations:                 812   AIC:                         2.063e+04\n",
       "Df Residuals:                     806   BIC:                         2.066e+04\n",
       "Df Model:                           5                                         \n",
       "Covariance Type:            nonrobust                                         \n",
       "===================================================================================\n",
       "                      coef    std err          t      P>|t|      [0.025      0.975]\n",
       "-----------------------------------------------------------------------------------\n",
       "sq__ft            148.5357      7.086     20.962      0.000     134.627     162.445\n",
       "beds            -2.162e+04   4929.173     -4.386      0.000   -3.13e+04   -1.19e+04\n",
       "baths             622.6009   6375.578      0.098      0.922   -1.19e+04    1.31e+04\n",
       "city_SACRAMENTO -3.417e+04   5760.862     -5.932      0.000   -4.55e+04   -2.29e+04\n",
       "street_last_CT    645.8811   8513.974      0.076      0.940   -1.61e+04    1.74e+04\n",
       "const            8.078e+04   1.22e+04      6.639      0.000    5.69e+04    1.05e+05\n",
       "==============================================================================\n",
       "Omnibus:                      336.648   Durbin-Watson:                   1.219\n",
       "Prob(Omnibus):                  0.000   Jarque-Bera (JB):             2078.106\n",
       "Skew:                           1.769   Prob(JB):                         0.00\n",
       "Kurtosis:                       9.993   Cond. No.                     7.86e+03\n",
       "==============================================================================\n",
       "\n",
       "Notes:\n",
       "[1] Standard Errors assume that the covariance matrix of the errors is correctly specified.\n",
       "[2] The condition number is large, 7.86e+03. This might indicate that there are\n",
       "strong multicollinearity or other numerical problems.\n",
       "\"\"\""
      ]
     },
     "execution_count": 51,
     "metadata": {},
     "output_type": "execute_result"
    }
   ],
   "source": [
    "X_const = X.copy()\n",
    "X_const['const'] = 1\n",
    "model_sm = sm.OLS(y, X_const).fit()\n",
    "model_sm.summary()"
   ]
  },
  {
   "cell_type": "markdown",
   "metadata": {},
   "source": [
    "### 16. Regression Metrics\n",
    "\n",
    "Implement a function called `r2_adj()` that will calculate $R^2_{adj}$ for a model. "
   ]
  },
  {
   "cell_type": "code",
   "execution_count": 52,
   "metadata": {},
   "outputs": [],
   "source": [
    "def r2_adj(model, X, y):\n",
    "    return 1 - (1-model.score(X, y)) * (len(y) - 1 ) / (len(y) - X.shape[1] - 1)"
   ]
  },
  {
   "cell_type": "code",
   "execution_count": 53,
   "metadata": {},
   "outputs": [
    {
     "data": {
      "text/plain": [
       "0.5605622719901024"
      ]
     },
     "execution_count": 53,
     "metadata": {},
     "output_type": "execute_result"
    }
   ],
   "source": [
    "r2_adj(model, X, y)"
   ]
  },
  {
   "cell_type": "markdown",
   "metadata": {},
   "source": [
    "### 17. Metrics, metrics, everywhere...\n",
    "\n",
    "Calculate and interpret at least three regression metrics. How well does your model perform?"
   ]
  },
  {
   "cell_type": "code",
   "execution_count": 54,
   "metadata": {},
   "outputs": [
    {
     "name": "stdout",
     "output_type": "stream",
     "text": [
      "R^2: 0.5632715058249353\n",
      "MAE 56165.56085455379\n",
      "RMSE: 79058.81033701167\n"
     ]
    }
   ],
   "source": [
    "print('R^2:', metrics.r2_score(y, y_preds))\n",
    "print('MAE', metrics.mean_absolute_error(y, y_preds))\n",
    "print('RMSE:', metrics.mean_squared_error(y, y_preds, squared=False))\n",
    "\n",
    "## 56% of variability in property price is explained by X of the model\n",
    "## MAE and RMSE can explain how off model prediction is but RMSE is more sensitive than MAE\n",
    "## which means predicted y can be off up to 79,058 USD."
   ]
  },
  {
   "cell_type": "markdown",
   "metadata": {},
   "source": [
    "### 18. Model Iteration\n",
    "\n",
    "Adjust your model by adding or removing a variable. Then calculate the same regression metrics as you used in question 17. Has your model performance increased or decreased?"
   ]
  },
  {
   "cell_type": "code",
   "execution_count": 55,
   "metadata": {},
   "outputs": [],
   "source": [
    "# create function to return model metrics\n",
    "\n",
    "def reg_metrics(X, y):\n",
    "    \"\"\"Print model metrics and return regression model\n",
    "    from given X, y\"\"\"\n",
    "    # Split data.\n",
    "    X_train, X_test, y_train, y_test = train_test_split(X, y, random_state=42)\n",
    "    \n",
    "    # Train model\n",
    "    model = LinearRegression()\n",
    "    model.fit(X_train, y_train)\n",
    "    \n",
    "    # Create metrics - train\n",
    "    y_train_preds = model.predict(X_train)\n",
    "    train_mae = metrics.mean_absolute_error(y_train, y_train_preds)\n",
    "    train_rmse = metrics.mean_squared_error(y_train, y_train_preds, squared=False)\n",
    "    train_r2 = metrics.r2_score(y_train, y_train_preds)\n",
    "    train_adj_r2 = r2_adj(model, X_train, y_train)\n",
    "    \n",
    "    # Create metrics - test\n",
    "    y_test_preds = model.predict(X_test)\n",
    "    test_mae = metrics.mean_absolute_error(y_test, y_test_preds)\n",
    "    test_rmse = metrics.mean_squared_error(y_test, y_test_preds, squared=False)\n",
    "    test_r2 = metrics.r2_score(y_test, y_test_preds)\n",
    "    test_adj_r2 = r2_adj(model, X_test, y_test)\n",
    "    \n",
    "    print(f\"\"\"-----------Train Data-----------\n",
    "MAE: {train_mae}\n",
    "RMSE: {train_rmse}\n",
    "R2: {train_r2}\n",
    "Adj_R2: {train_adj_r2}\n",
    "Cross Validation: {cross_val_score(model, X_train, y_train)}\n",
    "Cross Validation Mean: {cross_val_score(model, X_train, y_train).mean()}\n",
    "--------------------------------\"\"\")\n",
    "    print(f\"\"\"-----------Test Data-----------\n",
    "MAE: {test_mae}\n",
    "RMSE: {test_rmse}\n",
    "R2: {test_r2}\n",
    "Adj_R2: {test_adj_r2}\n",
    "--------------------------------\"\"\")\n",
    "    return model"
   ]
  },
  {
   "cell_type": "code",
   "execution_count": 56,
   "metadata": {},
   "outputs": [
    {
     "name": "stdout",
     "output_type": "stream",
     "text": [
      "-----------Train Data-----------\n",
      "MAE: 56191.14460063044\n",
      "RMSE: 76840.23308934947\n",
      "R2: 0.5858772069824589\n",
      "Adj_R2: 0.5824433529773383\n",
      "Cross Validation: [0.5501967  0.58098971 0.45283198 0.57293174 0.66207119]\n",
      "Cross Validation Mean: 0.5638042632867508\n",
      "--------------------------------\n",
      "-----------Test Data-----------\n",
      "MAE: 55428.499299217816\n",
      "RMSE: 86041.7373100596\n",
      "R2: 0.48796968524898354\n",
      "Adj_R2: 0.4749739919811913\n",
      "--------------------------------\n"
     ]
    },
    {
     "data": {
      "text/plain": [
       "LinearRegression()"
      ]
     },
     "execution_count": 56,
     "metadata": {},
     "output_type": "execute_result"
    }
   ],
   "source": [
    "# Baseline model\n",
    "# X = df_nonzero[['sq__ft','beds', 'baths', 'city_SACRAMENTO', 'street_last_CT']]\n",
    "# y = df_nonzero['price']\n",
    "\n",
    "reg_metrics(X, y)"
   ]
  },
  {
   "cell_type": "code",
   "execution_count": 58,
   "metadata": {},
   "outputs": [
    {
     "name": "stdout",
     "output_type": "stream",
     "text": [
      "-----------Train Data-----------\n",
      "MAE: 56229.900499413336\n",
      "RMSE: 76877.18188672974\n",
      "R2: 0.5854788474930104\n",
      "Adj_R2: 0.5827336742975999\n",
      "Cross Validation: [0.55265639 0.58063367 0.45484656 0.57238719 0.6616255 ]\n",
      "Cross Validation Mean: 0.5644298615479053\n",
      "--------------------------------\n",
      "-----------Test Data-----------\n",
      "MAE: 55438.6999614994\n",
      "RMSE: 85771.61175362684\n",
      "R2: 0.4911796473902855\n",
      "Adj_R2: 0.4809004483476651\n",
      "--------------------------------\n"
     ]
    },
    {
     "data": {
      "text/plain": [
       "LinearRegression()"
      ]
     },
     "execution_count": 58,
     "metadata": {},
     "output_type": "execute_result"
    }
   ],
   "source": [
    "# Model 1 : Basline model\n",
    "X = df_nonzero[['sq__ft','beds', 'city_SACRAMENTO', 'street_last_CT']]\n",
    "y = df_nonzero['price']\n",
    "\n",
    "reg_metrics(X, y)"
   ]
  },
  {
   "cell_type": "code",
   "execution_count": 60,
   "metadata": {},
   "outputs": [
    {
     "name": "stdout",
     "output_type": "stream",
     "text": [
      "-----------Train Data-----------\n",
      "MAE: 49729.39894367622\n",
      "RMSE: 67855.1449603573\n",
      "R2: 0.6770633375896256\n",
      "Adj_R2: 0.6567386525428187\n",
      "Cross Validation: [0.54105938 0.60782142 0.54126719 0.63013518 0.71638791]\n",
      "Cross Validation Mean: 0.6073342170890609\n",
      "--------------------------------\n",
      "-----------Test Data-----------\n",
      "MAE: 50084.1962755706\n",
      "RMSE: 78105.94642314847\n",
      "R2: 0.5780650207016089\n",
      "Adj_R2: 0.4865610492875\n",
      "--------------------------------\n"
     ]
    },
    {
     "data": {
      "text/plain": [
       "LinearRegression()"
      ]
     },
     "execution_count": 60,
     "metadata": {},
     "output_type": "execute_result"
    }
   ],
   "source": [
    "# Model 2 : Dump all city dummies\n",
    "X = df_nonzero[['sq__ft','beds', 'city']]\n",
    "X = pd.get_dummies(X, drop_first=True)\n",
    "y = df_nonzero['price']\n",
    "\n",
    "reg_metrics(X, y)\n",
    "\n",
    "## Use all city for dummies vairable could improve predictive power of the model."
   ]
  },
  {
   "cell_type": "code",
   "execution_count": 66,
   "metadata": {},
   "outputs": [
    {
     "name": "stdout",
     "output_type": "stream",
     "text": [
      "-----------Train Data-----------\n",
      "MAE: 48835.95947669064\n",
      "RMSE: 66984.58608283068\n",
      "R2: 0.6852965214384279\n",
      "Adj_R2: 0.6643162895343231\n",
      "Cross Validation: [0.55792773 0.6304996  0.51642053 0.62925072 0.72804007]\n",
      "Cross Validation Mean: 0.6124277286685007\n",
      "--------------------------------\n",
      "-----------Test Data-----------\n",
      "MAE: 49904.92845531225\n",
      "RMSE: 77617.62513853566\n",
      "R2: 0.5833244345151034\n",
      "Adj_R2: 0.4867776571466518\n",
      "--------------------------------\n"
     ]
    },
    {
     "data": {
      "text/plain": [
       "LinearRegression()"
      ]
     },
     "execution_count": 66,
     "metadata": {},
     "output_type": "execute_result"
    }
   ],
   "source": [
    "# Model 3 : Dump all city, type dummies\n",
    "X = df_nonzero[['sq__ft','beds', 'city', 'type']]\n",
    "X = pd.get_dummies(X, drop_first=True)\n",
    "y = df_nonzero['price']\n",
    "\n",
    "reg_metrics(X, y)\n",
    "\n",
    "## Dump all type to model could make a litter improve of prdiction.\n",
    "### While based type is condo"
   ]
  },
  {
   "cell_type": "code",
   "execution_count": 66,
   "metadata": {},
   "outputs": [
    {
     "name": "stdout",
     "output_type": "stream",
     "text": [
      "-----------Train Data-----------\n",
      "MAE: 48835.95947669064\n",
      "RMSE: 66984.58608283068\n",
      "R2: 0.6852965214384279\n",
      "Adj_R2: 0.6643162895343231\n",
      "Cross Validation: [0.55792773 0.6304996  0.51642053 0.62925072 0.72804007]\n",
      "Cross Validation Mean: 0.6124277286685007\n",
      "--------------------------------\n",
      "-----------Test Data-----------\n",
      "MAE: 49904.92845531225\n",
      "RMSE: 77617.62513853566\n",
      "R2: 0.5833244345151034\n",
      "Adj_R2: 0.4867776571466518\n",
      "--------------------------------\n"
     ]
    },
    {
     "data": {
      "text/plain": [
       "LinearRegression()"
      ]
     },
     "execution_count": 66,
     "metadata": {},
     "output_type": "execute_result"
    }
   ],
   "source": [
    "# Model 3 : Dump all city, street dummies\n",
    "X = df_nonzero[['sq__ft','beds', 'city', 'type']]\n",
    "X = pd.get_dummies(X, drop_first=True)\n",
    "y = df_nonzero['price']\n",
    "\n",
    "reg_metrics(X, y)\n",
    "\n",
    "## Dump all type to model could make a litter improve of prdiction.\n",
    "### While based type is condo"
   ]
  },
  {
   "cell_type": "markdown",
   "metadata": {},
   "source": [
    "### 19. Bias vs. Variance\n",
    "\n",
    "_(To be completed after the bias-variance tradeoff lecture.)_ At this point, do you think your model is high bias, high variance or in the sweet spot?"
   ]
  },
  {
   "cell_type": "code",
   "execution_count": null,
   "metadata": {},
   "outputs": [],
   "source": [
    "# The model is high bias, which could only explain variabiliby in y only for 56%.\n",
    "# Since R^2 from test and train data are not highly different, a variance of the model are low."
   ]
  }
 ],
 "metadata": {
  "anaconda-cloud": {},
  "kernelspec": {
   "display_name": "Python 3 (ipykernel)",
   "language": "python",
   "name": "python3"
  },
  "language_info": {
   "codemirror_mode": {
    "name": "ipython",
    "version": 3
   },
   "file_extension": ".py",
   "mimetype": "text/x-python",
   "name": "python",
   "nbconvert_exporter": "python",
   "pygments_lexer": "ipython3",
   "version": "3.9.12"
  }
 },
 "nbformat": 4,
 "nbformat_minor": 4
}
