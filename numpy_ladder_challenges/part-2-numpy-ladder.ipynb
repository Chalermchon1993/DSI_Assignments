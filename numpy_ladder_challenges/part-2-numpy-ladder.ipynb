{
 "cells": [
  {
   "cell_type": "markdown",
   "metadata": {},
   "source": [
    "<img src=\"http://imgur.com/1ZcRyrc.png\" style=\"float: left; margin: 20px; height: 55px\" />\n",
    "\n",
    "# Numpy Ladder Challenge - Notebook 2\n",
    "\n",
    "_Author:_ Tim Book"
   ]
  },
  {
   "cell_type": "markdown",
   "metadata": {},
   "source": [
    "# Climb the Ladder!\n",
    "Our class moves quickly! Sometimes, it feels like we make leaps in logic that are a bit too big. In this ladder challenge, we'll learn some core math concepts, some linear algebra, and the `numpy` library. Problems in this notebook start out easy and progressively get harder, so that the next rung of the Python ladder is always within reach.\n",
    "\n",
    "Additionally, since not all of the topics discussed in this ladder challenge are explicitly taught in our course, these problems come with many more hints, tips, suggestions, and even sometimes a mini-lesson. You are encouraged to Google frequently throughout the lesson. In many ways, this ladder is meant to be a challenge as well as educational in its own right.\n",
    "\n",
    "**Remember our one rule: NO LOOPS! None of the exercises in this notebook require a loop. If you use a loop to solve any of these problems, you are solving the problem incorrectly.**"
   ]
  },
  {
   "cell_type": "markdown",
   "metadata": {},
   "source": [
    "0) Import numpy in the usual way"
   ]
  },
  {
   "cell_type": "code",
   "execution_count": 1,
   "metadata": {},
   "outputs": [],
   "source": [
    "import numpy as np"
   ]
  },
  {
   "cell_type": "markdown",
   "metadata": {},
   "source": [
    "# Section III - Simulation\n",
    "In the next section, we'll use functions within the `np.random` submodule. You can find documentation [here](https://docs.scipy.org/doc/numpy-1.14.0/reference/routines.random.html)."
   ]
  },
  {
   "cell_type": "markdown",
   "metadata": {},
   "source": [
    "27) Generate 10,000 random numbers between 0 and 1 and assign them to a variable. To verify you've simulated the data properly, make sure the mean is approximately 0.5."
   ]
  },
  {
   "cell_type": "code",
   "execution_count": 2,
   "metadata": {},
   "outputs": [
    {
     "data": {
      "text/plain": [
       "0.49981881022144053"
      ]
     },
     "execution_count": 2,
     "metadata": {},
     "output_type": "execute_result"
    }
   ],
   "source": [
    "x = np.random.random(10_000)\n",
    "x.mean()"
   ]
  },
  {
   "cell_type": "markdown",
   "metadata": {},
   "source": [
    "28) What proportion of these numbers is below 0.1?"
   ]
  },
  {
   "cell_type": "code",
   "execution_count": 3,
   "metadata": {},
   "outputs": [
    {
     "data": {
      "text/plain": [
       "0.101"
      ]
     },
     "execution_count": 3,
     "metadata": {},
     "output_type": "execute_result"
    }
   ],
   "source": [
    "(x < 0.1).mean()"
   ]
  },
  {
   "cell_type": "markdown",
   "metadata": {},
   "source": [
    "29) What proportion of these numbers is above 0.8?"
   ]
  },
  {
   "cell_type": "code",
   "execution_count": 4,
   "metadata": {},
   "outputs": [
    {
     "data": {
      "text/plain": [
       "0.1995"
      ]
     },
     "execution_count": 4,
     "metadata": {},
     "output_type": "execute_result"
    }
   ],
   "source": [
    "(x > 0.8).mean()"
   ]
  },
  {
   "cell_type": "markdown",
   "metadata": {},
   "source": [
    "30) What proportion of these numbers is above 0.2 but below 0.3?"
   ]
  },
  {
   "cell_type": "code",
   "execution_count": 5,
   "metadata": {},
   "outputs": [
    {
     "data": {
      "text/plain": [
       "0.0975"
      ]
     },
     "execution_count": 5,
     "metadata": {},
     "output_type": "execute_result"
    }
   ],
   "source": [
    "((x > 0.2) & (x < 0.3)).mean()"
   ]
  },
  {
   "cell_type": "markdown",
   "metadata": {},
   "source": [
    "31) Generate 10,000 random numbers between 2 and 4. To verify you've simulated the data properly, find the mean and make sure it is approximately what you expect.\n",
    "\n",
    "* _Hint:_ There is no `numpy` function for this specifically. How can you use the function you just used to generate this?"
   ]
  },
  {
   "cell_type": "code",
   "execution_count": 6,
   "metadata": {},
   "outputs": [
    {
     "data": {
      "text/plain": [
       "2.9976416259389724"
      ]
     },
     "execution_count": 6,
     "metadata": {},
     "output_type": "execute_result"
    }
   ],
   "source": [
    "ary_2_4 = 2 + 2 * np.random.random(10_000)\n",
    "ary_2_4.mean()"
   ]
  },
  {
   "cell_type": "markdown",
   "metadata": {},
   "source": [
    "32) What proportion of these numbers is between 2.4 and 2.6?"
   ]
  },
  {
   "cell_type": "code",
   "execution_count": 7,
   "metadata": {},
   "outputs": [
    {
     "data": {
      "text/plain": [
       "0.1022"
      ]
     },
     "execution_count": 7,
     "metadata": {},
     "output_type": "execute_result"
    }
   ],
   "source": [
    "((ary_2_4 > 2.4) & (ary_2_4 < 2.6)).mean()"
   ]
  },
  {
   "cell_type": "markdown",
   "metadata": {},
   "source": [
    "33) Generate 100,000 random standard normal (i.e., mean 0 standard deviation 1) numbers. Again, find the mean to verify you've done this properly."
   ]
  },
  {
   "cell_type": "code",
   "execution_count": 8,
   "metadata": {},
   "outputs": [
    {
     "name": "stdout",
     "output_type": "stream",
     "text": [
      "Mean: -0.0\n",
      "STD: 1.0\n"
     ]
    }
   ],
   "source": [
    "array_normal = np.random.standard_normal(100_000)\n",
    "print('Mean:', array_normal.mean().round(2))\n",
    "print('STD:', array_normal.std().round(2))"
   ]
  },
  {
   "cell_type": "markdown",
   "metadata": {},
   "source": [
    "34) What proportion of these numbers is negative?"
   ]
  },
  {
   "cell_type": "code",
   "execution_count": 9,
   "metadata": {},
   "outputs": [
    {
     "data": {
      "text/plain": [
       "0.50186"
      ]
     },
     "execution_count": 9,
     "metadata": {},
     "output_type": "execute_result"
    }
   ],
   "source": [
    "(array_normal < 0).mean()"
   ]
  },
  {
   "cell_type": "markdown",
   "metadata": {},
   "source": [
    "35a) What proportion of these numbers is between -1 and 1?"
   ]
  },
  {
   "cell_type": "code",
   "execution_count": 10,
   "metadata": {},
   "outputs": [
    {
     "data": {
      "text/plain": [
       "0.68418"
      ]
     },
     "execution_count": 10,
     "metadata": {},
     "output_type": "execute_result"
    }
   ],
   "source": [
    "((array_normal > -1) & (array_normal < 1)).mean()"
   ]
  },
  {
   "cell_type": "markdown",
   "metadata": {},
   "source": [
    "35b) What proportion of these numbers is between -2 and 2?"
   ]
  },
  {
   "cell_type": "code",
   "execution_count": 11,
   "metadata": {},
   "outputs": [
    {
     "data": {
      "text/plain": [
       "0.95517"
      ]
     },
     "execution_count": 11,
     "metadata": {},
     "output_type": "execute_result"
    }
   ],
   "source": [
    "((array_normal > -2) & (array_normal < 2)).mean()"
   ]
  },
  {
   "cell_type": "markdown",
   "metadata": {},
   "source": [
    "35c) What proportion of these numbers is between -3 and 3? Have you seen your last 3 solutions before? (If you've taken an intro stats course in college before, you will have.)"
   ]
  },
  {
   "cell_type": "code",
   "execution_count": 12,
   "metadata": {},
   "outputs": [
    {
     "data": {
      "text/plain": [
       "0.99758"
      ]
     },
     "execution_count": 12,
     "metadata": {},
     "output_type": "execute_result"
    }
   ],
   "source": [
    "((array_normal > -3) & (array_normal < 3)).mean()"
   ]
  },
  {
   "cell_type": "markdown",
   "metadata": {},
   "source": [
    "### For the next few problems, we will be playing Rock-Paper-Scissors\n",
    "If you are unfamiliar with the game Rock-Paper-Scissors, it features two combatants choosing one of three hand motions: rock, paper, or scissors. Rock beats scissors, scissors beats paper, and paper beats rock. Two friends are playing: Karen and Tom. Unbeknownst to them, you've been studying and recording both of their play patterns. Karen chooses rock 40% of the time, paper 10% of the time, and scissors 50% of the time. For Tom, it's rock 10%, paper 60%, scissors 30%. Who wins the most often?\n",
    "\n",
    "**This is an extremely difficult question.** We will get to the answer in a few guided steps. You'll want to use `np.random.choice()` to help you through this."
   ]
  },
  {
   "cell_type": "markdown",
   "metadata": {},
   "source": [
    "36) Create vectors `p_karen` and `p_tom` that represent their respective probabilities for rock, paper, and scissors."
   ]
  },
  {
   "cell_type": "code",
   "execution_count": 13,
   "metadata": {},
   "outputs": [],
   "source": [
    "p_karen = [0.4, 0.1, 0.5]\n",
    "p_tom = [0.1, 0.6, 0.3]"
   ]
  },
  {
   "cell_type": "markdown",
   "metadata": {},
   "source": [
    "37) Simulate 5 games. Who wins the majority of them? Just eyeball this one. (No one wins a draw.)"
   ]
  },
  {
   "cell_type": "code",
   "execution_count": 14,
   "metadata": {},
   "outputs": [
    {
     "name": "stdout",
     "output_type": "stream",
     "text": [
      "Karen: ['scissors' 'scissors' 'scissors' 'scissors' 'scissors']\n",
      "Tom: ['paper' 'paper' 'paper' 'paper' 'paper']\n"
     ]
    }
   ],
   "source": [
    "choices = ['rock', 'paper', 'scissors']\n",
    "print('Karen:', np.random.choice(a=choices, size=5, p=p_karen))\n",
    "print('Tom:', np.random.choice(a=choices, size=5, p=p_tom))"
   ]
  },
  {
   "cell_type": "markdown",
   "metadata": {},
   "source": [
    "38) Let's write a function to handle _one game at a time_. Write a function called `rps` that takes two arguments: `karen` and `tom` that will be either `\"R\"`, `\"P\"`, or `\"S\"`. The function will return `\"K\"`, `\"T\"`, or `\"D\"`, representing Karen, Tom, or a draw. That is, the function should give the following results:\n",
    "\n",
    "* `rps(\"R\", \"P\") ==> \"T\"`\n",
    "* `rps(\"R\", \"S\") ==> \"K\"`\n",
    "* `rps(\"R\", \"R\") ==> \"D\"`\n",
    "\n",
    "\n",
    "* _Hint:_ Your answer will be a mess of `if`/`elif` statements."
   ]
  },
  {
   "cell_type": "code",
   "execution_count": 15,
   "metadata": {},
   "outputs": [],
   "source": [
    "def rps(karen, tom):\n",
    "    if karen == 'R':\n",
    "        if tom == 'P':\n",
    "            return 'T'\n",
    "        elif tom == 'S':\n",
    "            return 'K'\n",
    "    elif karen == 'P':\n",
    "        if tom == 'R':\n",
    "            return 'K'\n",
    "        elif tom == 'S':\n",
    "            return 'T'\n",
    "    elif karen == 'S':\n",
    "        if tom == 'R':\n",
    "            return 'T'\n",
    "        elif tom == 'P':\n",
    "            return 'K'\n",
    "    return 'D'"
   ]
  },
  {
   "cell_type": "code",
   "execution_count": 16,
   "metadata": {},
   "outputs": [
    {
     "name": "stdout",
     "output_type": "stream",
     "text": [
      "rps(R, R) ==> D\n",
      "rps(R, P) ==> T\n",
      "rps(R, S) ==> K\n",
      "rps(P, R) ==> K\n",
      "rps(P, P) ==> D\n",
      "rps(P, S) ==> T\n",
      "rps(S, R) ==> T\n",
      "rps(S, P) ==> K\n",
      "rps(S, S) ==> D\n"
     ]
    }
   ],
   "source": [
    "# Validate rps function\n",
    "for i in ['R', 'P', 'S']:\n",
    "    for j in ['R', 'P', 'S']:\n",
    "        print(f\"rps({i}, {j}) ==> {rps(i, j)}\")"
   ]
  },
  {
   "cell_type": "markdown",
   "metadata": {},
   "source": [
    "39) As it stands now, the function you have written cannot handle vector data. Luckily, `numpy` gives us a function that allows us to vectorize any function we want. Use `np.vectorize` to create `rps_vectorized`, the vectorized version of `rps`. Skim the docs [here](https://docs.scipy.org/doc/numpy/reference/generated/numpy.vectorize.html)."
   ]
  },
  {
   "cell_type": "code",
   "execution_count": 17,
   "metadata": {},
   "outputs": [],
   "source": [
    "rps_vectorized = np.vectorize(rps)"
   ]
  },
  {
   "cell_type": "markdown",
   "metadata": {},
   "source": [
    "40) Simulate 1,000,000 (yes, one million) games. How often does Karen win? You can find the results by:\n",
    "\n",
    "1. Replicating your solution to problems 37 and 38, except for one million instead of 5.\n",
    "1. Using the function you made in problem 39.\n",
    "\n",
    "\n",
    "* _Note 1:_ These probabilities are relatively difficult to figure out by hand. Some probabilities are best discovered by simulation. Another way of asking the above question is \"What is the probability of Karen winning?\")\n",
    "* _Note 2:_ Look what we did! We used vectorization to completely eliminate the need for a loop! You _could_ have solved this problem with a loop, but it would have taken significantly more computer time."
   ]
  },
  {
   "cell_type": "code",
   "execution_count": 18,
   "metadata": {},
   "outputs": [],
   "source": [
    "choices = ['R', 'P', 'S']\n",
    "# Simulation 1M times of RPS game\n",
    "results = rps_vectorized(np.random.choice(a=choices, size=1_000_000, p=p_karen), \n",
    "               np.random.choice(a=choices, size=1_000_000, p=p_tom))"
   ]
  },
  {
   "cell_type": "code",
   "execution_count": 19,
   "metadata": {},
   "outputs": [
    {
     "name": "stdout",
     "output_type": "stream",
     "text": [
      "Karen winning prob: 0.429964\n",
      "Tom winning prob: 0.320646\n",
      "Drawing prob: 0.24939\n"
     ]
    }
   ],
   "source": [
    "# Calculate winning probability for Karen and Tom\n",
    "print('Karen winning prob:', (results == 'K').mean())\n",
    "print('Tom winning prob:', (results == 'T').mean())\n",
    "print('Drawing prob:', (results == 'D').mean())"
   ]
  },
  {
   "cell_type": "markdown",
   "metadata": {},
   "source": [
    "### Regression Simulation\n",
    "Next, suppose we're trying to simulate some fake data for a regression problem we wish to give to our students. We wish to simulate data for the following equation:\n",
    "\n",
    "$$y = 1000 + 200x + \\varepsilon$$\n",
    "\n",
    "Where $\\varepsilon \\sim N(0, 20)$ (that is, $\\varepsilon$ is normally distributed with mean 0 and standard deviation 20)."
   ]
  },
  {
   "cell_type": "markdown",
   "metadata": {},
   "source": [
    "41) Generate 10 $x$s from the $N(50, 10)$ distribution. (That is, the normal distribution with mean 50 and standard deviation 10)."
   ]
  },
  {
   "cell_type": "code",
   "execution_count": 20,
   "metadata": {},
   "outputs": [],
   "source": [
    "xs = np.random.normal(50, 10, 10)"
   ]
  },
  {
   "cell_type": "code",
   "execution_count": 21,
   "metadata": {},
   "outputs": [
    {
     "data": {
      "text/plain": [
       "array([54.04232152, 51.54318812, 54.11783284, 64.45554813, 57.50230919,\n",
       "       57.9706097 , 62.30607938, 50.47096929, 57.93770085, 56.54854548])"
      ]
     },
     "execution_count": 21,
     "metadata": {},
     "output_type": "execute_result"
    }
   ],
   "source": [
    "xs"
   ]
  },
  {
   "cell_type": "code",
   "execution_count": 22,
   "metadata": {},
   "outputs": [
    {
     "name": "stdout",
     "output_type": "stream",
     "text": [
      "Shape (10,)\n",
      "Mean: 56.6895104505969\n",
      "STD: 4.177474332469891\n"
     ]
    }
   ],
   "source": [
    "# Check result\n",
    "print('Shape', xs.shape)\n",
    "print('Mean:', xs.mean())\n",
    "print('STD:', xs.std())"
   ]
  },
  {
   "cell_type": "markdown",
   "metadata": {},
   "source": [
    "42) Generate 10 $\\varepsilon$s from the appropriate distribution described above."
   ]
  },
  {
   "cell_type": "code",
   "execution_count": 23,
   "metadata": {},
   "outputs": [],
   "source": [
    "es = np.random.normal(0, 20, 10)"
   ]
  },
  {
   "cell_type": "code",
   "execution_count": 24,
   "metadata": {},
   "outputs": [
    {
     "name": "stdout",
     "output_type": "stream",
     "text": [
      "Shape (10,)\n",
      "Mean: -8.61333337737889\n",
      "STD: 23.462553892297187\n"
     ]
    }
   ],
   "source": [
    "# Check result\n",
    "print('Shape', es.shape)\n",
    "print('Mean:', es.mean())\n",
    "print('STD:', es.std())"
   ]
  },
  {
   "cell_type": "markdown",
   "metadata": {},
   "source": [
    "43) Simulate the $y$s as described above using the two vectors you made in the previous two problems."
   ]
  },
  {
   "cell_type": "code",
   "execution_count": 25,
   "metadata": {},
   "outputs": [
    {
     "data": {
      "text/plain": [
       "array([11841.70688724, 11295.62137802, 11794.40140746, 13886.71075409,\n",
       "       12501.57119653, 12549.0137018 , 13486.74224969, 11092.94940448,\n",
       "       12559.49095524, 12284.67963286])"
      ]
     },
     "execution_count": 25,
     "metadata": {},
     "output_type": "execute_result"
    }
   ],
   "source": [
    "ys = 1000 + 200*xs + es\n",
    "ys"
   ]
  },
  {
   "cell_type": "markdown",
   "metadata": {},
   "source": [
    "# Section IV: Matrices\n",
    "_Tiny note:_ In general, we have told you it's against Python's style guide to use capital letters when defining variables. The one exception we make is when our variables represent mathematical objects. So feel free to name the following variables things like `A`, `B`, etc.!"
   ]
  },
  {
   "cell_type": "markdown",
   "metadata": {},
   "source": [
    "44) Create the following matrix:\n",
    "\n",
    "$$\n",
    "A =\n",
    "\\begin{bmatrix}\n",
    "3 & -1 & 5 \\\\\n",
    "-2 & 0 & 8 \\\\\n",
    "4 & 5 & -7\n",
    "\\end{bmatrix}\n",
    "$$"
   ]
  },
  {
   "cell_type": "code",
   "execution_count": 26,
   "metadata": {},
   "outputs": [
    {
     "data": {
      "text/plain": [
       "array([[ 3, -1,  5],\n",
       "       [-2,  0,  8],\n",
       "       [ 4,  5, -7]])"
      ]
     },
     "execution_count": 26,
     "metadata": {},
     "output_type": "execute_result"
    }
   ],
   "source": [
    "A = np.array(\n",
    "    [[3, -1, 5],\n",
    "     [-2, 0, 8],\n",
    "     [4, 5, -7]]\n",
    ")\n",
    "A"
   ]
  },
  {
   "cell_type": "markdown",
   "metadata": {},
   "source": [
    "45) Create the following matrix:\n",
    "\n",
    "$$\n",
    "B =\n",
    "\\begin{bmatrix}\n",
    "-3 & 8 & 2 \\\\\n",
    "2 & -3 & 5 \\\\\n",
    "0 & 6 & -2\n",
    "\\end{bmatrix}\n",
    "$$"
   ]
  },
  {
   "cell_type": "code",
   "execution_count": 27,
   "metadata": {},
   "outputs": [
    {
     "data": {
      "text/plain": [
       "array([[-3,  8,  2],\n",
       "       [ 2, -3,  5],\n",
       "       [ 0,  6, -2]])"
      ]
     },
     "execution_count": 27,
     "metadata": {},
     "output_type": "execute_result"
    }
   ],
   "source": [
    "B = np.array(\n",
    "    [[-3, 8, 2],\n",
    "     [2, -3, 5],\n",
    "     [0, 6, -2]]\n",
    ")\n",
    "B"
   ]
  },
  {
   "cell_type": "markdown",
   "metadata": {},
   "source": [
    "46) Use `np.eye()` to create the following matrix:\n",
    "\n",
    "$$\n",
    "I = I_3 =\n",
    "\\begin{bmatrix}\n",
    "1 & 0 & 0 \\\\\n",
    "0 & 1 & 0 \\\\\n",
    "0 & 0 & 1 \\\\\n",
    "\\end{bmatrix}\n",
    "$$"
   ]
  },
  {
   "cell_type": "code",
   "execution_count": 28,
   "metadata": {},
   "outputs": [
    {
     "data": {
      "text/plain": [
       "array([[1., 0., 0.],\n",
       "       [0., 1., 0.],\n",
       "       [0., 0., 1.]])"
      ]
     },
     "execution_count": 28,
     "metadata": {},
     "output_type": "execute_result"
    }
   ],
   "source": [
    "I = np.eye(3)\n",
    "I"
   ]
  },
  {
   "cell_type": "markdown",
   "metadata": {},
   "source": [
    "47) Triple every element of `B`. (Do not reassign.)"
   ]
  },
  {
   "cell_type": "code",
   "execution_count": 29,
   "metadata": {},
   "outputs": [
    {
     "data": {
      "text/plain": [
       "array([[-27, 512,   8],\n",
       "       [  8, -27, 125],\n",
       "       [  0, 216,  -8]], dtype=int32)"
      ]
     },
     "execution_count": 29,
     "metadata": {},
     "output_type": "execute_result"
    }
   ],
   "source": [
    "np.power(B, 3)"
   ]
  },
  {
   "cell_type": "markdown",
   "metadata": {},
   "source": [
    "48) Index `A` in order to get me -7."
   ]
  },
  {
   "cell_type": "code",
   "execution_count": 30,
   "metadata": {},
   "outputs": [
    {
     "data": {
      "text/plain": [
       "-7"
      ]
     },
     "execution_count": 30,
     "metadata": {},
     "output_type": "execute_result"
    }
   ],
   "source": [
    "A[-1][-1]"
   ]
  },
  {
   "cell_type": "markdown",
   "metadata": {},
   "source": [
    "49) Index `A` in order to get me 0."
   ]
  },
  {
   "cell_type": "code",
   "execution_count": 31,
   "metadata": {},
   "outputs": [
    {
     "data": {
      "text/plain": [
       "0"
      ]
     },
     "execution_count": 31,
     "metadata": {},
     "output_type": "execute_result"
    }
   ],
   "source": [
    "A[1][1]"
   ]
  },
  {
   "cell_type": "markdown",
   "metadata": {},
   "source": [
    "50) Index `A` to get me $\\begin{bmatrix} -2 & 0 & 8 \\end{bmatrix}$"
   ]
  },
  {
   "cell_type": "code",
   "execution_count": 32,
   "metadata": {},
   "outputs": [
    {
     "data": {
      "text/plain": [
       "array([-2,  0,  8])"
      ]
     },
     "execution_count": 32,
     "metadata": {},
     "output_type": "execute_result"
    }
   ],
   "source": [
    "A[1]"
   ]
  },
  {
   "cell_type": "markdown",
   "metadata": {},
   "source": [
    "51) Index `A` to get me\n",
    "$$\n",
    "\\begin{bmatrix}\n",
    "-1 \\\\ 0 \\\\ 5\n",
    "\\end{bmatrix}\n",
    "$$\n",
    "\n",
    "(You can ignore the fact that it may print out as a row vector)"
   ]
  },
  {
   "cell_type": "code",
   "execution_count": 33,
   "metadata": {},
   "outputs": [
    {
     "data": {
      "text/plain": [
       "array([-1,  0,  5])"
      ]
     },
     "execution_count": 33,
     "metadata": {},
     "output_type": "execute_result"
    }
   ],
   "source": [
    "A[:, 1]"
   ]
  },
  {
   "cell_type": "markdown",
   "metadata": {},
   "source": [
    "52) Index `A` to get me\n",
    "$$\n",
    "\\begin{bmatrix}\n",
    "0 & 8 \\\\\n",
    "5 & -7 \n",
    "\\end{bmatrix}\n",
    "$$"
   ]
  },
  {
   "cell_type": "code",
   "execution_count": 34,
   "metadata": {},
   "outputs": [
    {
     "data": {
      "text/plain": [
       "array([[ 0,  8],\n",
       "       [ 5, -7]])"
      ]
     },
     "execution_count": 34,
     "metadata": {},
     "output_type": "execute_result"
    }
   ],
   "source": [
    "A[1:, 1:]"
   ]
  },
  {
   "cell_type": "markdown",
   "metadata": {},
   "source": [
    "53) Redefine the middle column of `A` to be\n",
    "$$\n",
    "\\begin{bmatrix}\n",
    "-2 \\\\ 1 \\\\ 7\n",
    "\\end{bmatrix}\n",
    "$$"
   ]
  },
  {
   "cell_type": "code",
   "execution_count": 35,
   "metadata": {},
   "outputs": [
    {
     "data": {
      "text/plain": [
       "array([[ 3, -2,  5],\n",
       "       [-2,  1,  8],\n",
       "       [ 4,  7, -7]])"
      ]
     },
     "execution_count": 35,
     "metadata": {},
     "output_type": "execute_result"
    }
   ],
   "source": [
    "A[:, 1] = [-2, 1, 7]\n",
    "A"
   ]
  },
  {
   "cell_type": "markdown",
   "metadata": {},
   "source": [
    "54) Index `B` to define the following matrix:\n",
    "$$\n",
    "C = \n",
    "\\begin{bmatrix}\n",
    "8 & 2 \\\\\n",
    "-3 & 5 \\\\\n",
    "6 & -2\n",
    "\\end{bmatrix}\n",
    "$$"
   ]
  },
  {
   "cell_type": "code",
   "execution_count": 36,
   "metadata": {},
   "outputs": [
    {
     "data": {
      "text/plain": [
       "array([[ 8,  2],\n",
       "       [-3,  5],\n",
       "       [ 6, -2]])"
      ]
     },
     "execution_count": 36,
     "metadata": {},
     "output_type": "execute_result"
    }
   ],
   "source": [
    "C = B[:, 1:]\n",
    "C"
   ]
  },
  {
   "cell_type": "markdown",
   "metadata": {},
   "source": [
    "55) What is $A + B$?"
   ]
  },
  {
   "cell_type": "code",
   "execution_count": 37,
   "metadata": {},
   "outputs": [
    {
     "data": {
      "text/plain": [
       "array([[ 0,  6,  7],\n",
       "       [ 0, -2, 13],\n",
       "       [ 4, 13, -9]])"
      ]
     },
     "execution_count": 37,
     "metadata": {},
     "output_type": "execute_result"
    }
   ],
   "source": [
    "A + B"
   ]
  },
  {
   "cell_type": "markdown",
   "metadata": {},
   "source": [
    "56) What is $2A - 3B$?"
   ]
  },
  {
   "cell_type": "code",
   "execution_count": 38,
   "metadata": {},
   "outputs": [
    {
     "data": {
      "text/plain": [
       "array([[ 15, -28,   4],\n",
       "       [-10,  11,   1],\n",
       "       [  8,  -4,  -8]])"
      ]
     },
     "execution_count": 38,
     "metadata": {},
     "output_type": "execute_result"
    }
   ],
   "source": [
    "2*A - 3*B"
   ]
  },
  {
   "cell_type": "markdown",
   "metadata": {},
   "source": [
    "57) What is the elementwise product of $A$ and $B$?"
   ]
  },
  {
   "cell_type": "code",
   "execution_count": 39,
   "metadata": {},
   "outputs": [
    {
     "data": {
      "text/plain": [
       "array([[ -9, -16,  10],\n",
       "       [ -4,  -3,  40],\n",
       "       [  0,  42,  14]])"
      ]
     },
     "execution_count": 39,
     "metadata": {},
     "output_type": "execute_result"
    }
   ],
   "source": [
    "A * B"
   ]
  },
  {
   "cell_type": "markdown",
   "metadata": {},
   "source": [
    "58) What is $AB$?"
   ]
  },
  {
   "cell_type": "code",
   "execution_count": 40,
   "metadata": {},
   "outputs": [
    {
     "data": {
      "text/plain": [
       "array([[-13,  60, -14],\n",
       "       [  8,  29, -15],\n",
       "       [  2, -31,  57]])"
      ]
     },
     "execution_count": 40,
     "metadata": {},
     "output_type": "execute_result"
    }
   ],
   "source": [
    "np.dot(A, B)"
   ]
  },
  {
   "cell_type": "markdown",
   "metadata": {},
   "source": [
    "59) What is $BA$? And why isn't it the same as $AB$?"
   ]
  },
  {
   "cell_type": "code",
   "execution_count": 41,
   "metadata": {},
   "outputs": [
    {
     "data": {
      "text/plain": [
       "array([[-17,  28,  35],\n",
       "       [ 32,  28, -49],\n",
       "       [-20,  -8,  62]])"
      ]
     },
     "execution_count": 41,
     "metadata": {},
     "output_type": "execute_result"
    }
   ],
   "source": [
    "np.dot(B, A)\n",
    "\n",
    "# The reason that AB is not equal to BA is\n",
    "# Imagine that A and B is tranformations of a vector\n",
    "# the last tranformation, if considering AB then B is last tranformation,\n",
    "# explain how a original vector is rotated. And the first tranformation,\n",
    "# in this case A, explain how a rotated vector is sheared.\n",
    "\n",
    "# In summary, the order of A and B are matter because\n",
    "# if A and B are swaped, how original vector is rotated and shared will be changed."
   ]
  },
  {
   "cell_type": "markdown",
   "metadata": {},
   "source": [
    "60) What is $AI$, and is it equal to $IA$? Does this product look familiar?"
   ]
  },
  {
   "cell_type": "code",
   "execution_count": 42,
   "metadata": {},
   "outputs": [
    {
     "data": {
      "text/plain": [
       "array([[ 3., -2.,  5.],\n",
       "       [-2.,  1.,  8.],\n",
       "       [ 4.,  7., -7.]])"
      ]
     },
     "execution_count": 42,
     "metadata": {},
     "output_type": "execute_result"
    }
   ],
   "source": [
    "np.dot(A, I)"
   ]
  },
  {
   "cell_type": "code",
   "execution_count": 43,
   "metadata": {},
   "outputs": [
    {
     "data": {
      "text/plain": [
       "array([[ 3., -2.,  5.],\n",
       "       [-2.,  1.,  8.],\n",
       "       [ 4.,  7., -7.]])"
      ]
     },
     "execution_count": 43,
     "metadata": {},
     "output_type": "execute_result"
    }
   ],
   "source": [
    "np.dot(I, A)"
   ]
  },
  {
   "cell_type": "code",
   "execution_count": 44,
   "metadata": {},
   "outputs": [],
   "source": [
    "# AI and IA is the same and also the same as original A.\n",
    "# So, I is identity matrix. When the identity matrix multiply by other matrix,\n",
    "# it will give the same result as the matrix that is multiplied by the identity."
   ]
  },
  {
   "cell_type": "markdown",
   "metadata": {},
   "source": [
    "61) What is $AC$?"
   ]
  },
  {
   "cell_type": "code",
   "execution_count": 45,
   "metadata": {},
   "outputs": [
    {
     "data": {
      "text/plain": [
       "array([[ 60, -14],\n",
       "       [ 29, -15],\n",
       "       [-31,  57]])"
      ]
     },
     "execution_count": 45,
     "metadata": {},
     "output_type": "execute_result"
    }
   ],
   "source": [
    "np.dot(A, C)"
   ]
  },
  {
   "cell_type": "markdown",
   "metadata": {},
   "source": [
    "62) Why do we get an error when calculating $CA$?"
   ]
  },
  {
   "cell_type": "code",
   "execution_count": 46,
   "metadata": {},
   "outputs": [],
   "source": [
    "# np.dot(C, A)\n",
    "# The condition of array dimension is not satisfied.\n",
    "# Number of columns of first matrix must be equal to number of rows of second matrix."
   ]
  },
  {
   "cell_type": "markdown",
   "metadata": {},
   "source": [
    "63) What is $A^TA$? Note that you answer will be a _diagonal matrix_, that is, a matrix that is equal to its transpose."
   ]
  },
  {
   "cell_type": "code",
   "execution_count": 47,
   "metadata": {},
   "outputs": [
    {
     "data": {
      "text/plain": [
       "array([[ 29,  20, -29],\n",
       "       [ 20,  54, -51],\n",
       "       [-29, -51, 138]])"
      ]
     },
     "execution_count": 47,
     "metadata": {},
     "output_type": "execute_result"
    }
   ],
   "source": [
    "np.dot(A.T, A)"
   ]
  },
  {
   "cell_type": "markdown",
   "metadata": {},
   "source": [
    "64) What is $A^TB$?"
   ]
  },
  {
   "cell_type": "code",
   "execution_count": 48,
   "metadata": {},
   "outputs": [
    {
     "data": {
      "text/plain": [
       "array([[-13,  54, -12],\n",
       "       [  8,  23, -13],\n",
       "       [  1, -26,  64]])"
      ]
     },
     "execution_count": 48,
     "metadata": {},
     "output_type": "execute_result"
    }
   ],
   "source": [
    "np.dot(A.T, B)"
   ]
  },
  {
   "cell_type": "markdown",
   "metadata": {},
   "source": [
    "65) What is $A^{-1}$ (the inverse of $A$)."
   ]
  },
  {
   "cell_type": "code",
   "execution_count": 49,
   "metadata": {},
   "outputs": [
    {
     "data": {
      "text/plain": [
       "array([[-4,  1, -6],\n",
       "       [ 1, -2, -9],\n",
       "       [-5, -8,  6]], dtype=int32)"
      ]
     },
     "execution_count": 49,
     "metadata": {},
     "output_type": "execute_result"
    }
   ],
   "source": [
    "np.invert(A)"
   ]
  },
  {
   "cell_type": "markdown",
   "metadata": {},
   "source": [
    "66) What is $AA^{-1}$? Does it look familiar?\n",
    "\n",
    "* _Hint:_ Maybe call an `np.round()` on your result."
   ]
  },
  {
   "cell_type": "code",
   "execution_count": 50,
   "metadata": {},
   "outputs": [
    {
     "data": {
      "text/plain": [
       "array([[ 1.,  0., -0.],\n",
       "       [-0.,  1.,  0.],\n",
       "       [ 0., -0.,  1.]])"
      ]
     },
     "execution_count": 50,
     "metadata": {},
     "output_type": "execute_result"
    }
   ],
   "source": [
    "np.dot(A, np.linalg.inv(A)).round(2)\n",
    "\n",
    "# It returns an identify matrix."
   ]
  },
  {
   "cell_type": "markdown",
   "metadata": {},
   "source": [
    "67) What is $(B + A^TA)^{-1}A^TC$?"
   ]
  },
  {
   "cell_type": "code",
   "execution_count": 51,
   "metadata": {},
   "outputs": [
    {
     "data": {
      "text/plain": [
       "array([[ 3.00215282, -0.28385833],\n",
       "       [-0.62588766,  0.33839645],\n",
       "       [ 0.24189329,  0.52202903]])"
      ]
     },
     "execution_count": 51,
     "metadata": {},
     "output_type": "execute_result"
    }
   ],
   "source": [
    "np.dot(np.linalg.inv(B + np.dot(A.T,A)), np.dot(A.T, C))"
   ]
  }
 ],
 "metadata": {
  "kernelspec": {
   "display_name": "Python 3 (ipykernel)",
   "language": "python",
   "name": "python3"
  },
  "language_info": {
   "codemirror_mode": {
    "name": "ipython",
    "version": 3
   },
   "file_extension": ".py",
   "mimetype": "text/x-python",
   "name": "python",
   "nbconvert_exporter": "python",
   "pygments_lexer": "ipython3",
   "version": "3.9.12"
  }
 },
 "nbformat": 4,
 "nbformat_minor": 4
}
